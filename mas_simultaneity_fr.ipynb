{
 "cells": [
  {
   "cell_type": "markdown",
   "metadata": {
    "slideshow": {
     "slide_type": "-"
    }
   },
   "source": [
    "# Simultaneity in Multiagent system\n",
    "\n",
    "Auteur : Philippe Mathieu, [CRISTAL Lab](https://www.cristal.univ-lille.fr/), [SMAC Team](https://www.cristal.univ-lille.fr/?rubrique26&id=7), [University of Lille](http://www.univ-lille1.fr), email : philippe.mathieu@univ-lille.fr\n",
    "\n",
    "Contributeurs : ? (CRISTAL/SMAC)\n",
    "\n",
    "Creation : 15/01/2020\n",
    "\n",
    "\n",
    "## Principe général\n",
    "\n",
    "\n",
    "Cette feuille fait suite à [mas_basics_fr.ipynb](mas_basics_fr.ipynb) qui donnait les bases de la construction d'un système multi-agents sur un reseau social.\n",
    "Nous vous montrons ici, comment réaliser une petite simulation d'un système de co-voiturage à l'aide des agents.\n",
    "\n",
    "## Un système séquentiel\n",
    "\n",
    "Dans sa forme la plus simple, un agent est une entité dotée d'une seule\n",
    "capacité, celle de décider quoi faire. Personne ne lui indique ce qu'il doit faire,\n",
    "c'est lui qui décide ! C'est le principe d'**autonomie**. Il suffit juste de lui donner la\n",
    "parole pour qu'il agisse. Lors de sa prise de parole, l'agent réalise sémantiquement 3 étapes différentes : la **perception** de son entourage, la **decision** en fonction de son propre état et de ce qu'il a perçu, puis l'**action** effective qu'il réalise in fine. Idéalement chaque agent ne peut faire qu'une seule action lors de sa prise de parole."
   ]
  },
  {
   "cell_type": "code",
   "execution_count": null,
   "metadata": {},
   "outputs": [],
   "source": [
    "class Agent:\n",
    "      def __init__(self,name) :\n",
    "          self.name=name\n",
    "        \n",
    "      def decide(self):\n",
    "          print(\"Bonjour ! My name is \"+self.name)"
   ]
  },
  {
   "cell_type": "markdown",
   "metadata": {},
   "source": [
    "Il est bien sûr possible de créer plusieurs agents et de les interroger directement."
   ]
  },
  {
   "cell_type": "code",
   "execution_count": null,
   "metadata": {},
   "outputs": [],
   "source": [
    "a1 = Agent(\"philippe\")\n",
    "a2 = Agent(\"corwin\")\n",
    "a1.decide()\n",
    "a2.decide()"
   ]
  },
  {
   "cell_type": "markdown",
   "metadata": {},
   "source": [
    "### Le système multiagent séquentiel\n",
    "\n",
    "Bien évidemment, un système multi-agent utilise des dizaines voire des\n",
    "milliers d'agents. Il est alors necessaire de créer une classe\n",
    "permettant de les manager. En général la méthode qui lance la\n",
    "simulation se nomme `run` et prend en paramètre le nombre de prises de\n",
    "paroles.\n",
    "Afin d'assurer le principe d'**équité** on s'assure que chaque agent a\n",
    "au moins une fois la parole avant qu'un autre agent ne l'ait deux\n",
    "fois. On s'appuie pour cela sur la notion de tour de parole. Chaque tour de\n",
    "parole donne aléatoirement la parole à l'ensemble des agents, avant de\n",
    "recommencer. Un tour de parole constitue sémantiquement une unité de temps, un tick d'horloge. La classe SMA s'écrit :\n"
   ]
  },
  {
   "cell_type": "code",
   "execution_count": null,
   "metadata": {},
   "outputs": [],
   "source": [
    "import random\n",
    "class SMA:\n",
    "      def __init__(self):\n",
    "        self.tick=0\n",
    "        self.resetTicks()\n",
    "        self.agentList = []\n",
    "\n",
    "      def resetTicks(self):\n",
    "          tick=0\n",
    "          \n",
    "      def addAgent(self,ag):\n",
    "          self.agentList.append(ag)\n",
    " \n",
    "      def run(self,rounds):\n",
    "          for i in range(0,rounds):\n",
    "              self.runOnce()\n",
    "\n",
    "      def runOnce(self):\n",
    "          self.tick+=1\n",
    "          random.shuffle(self.agentList)\n",
    "          for ag in self.agentList :\n",
    "              ag.decide()\n",
    "          print(\"tick \"+str(self.tick)+\" ended\")"
   ]
  },
  {
   "cell_type": "code",
   "execution_count": null,
   "metadata": {},
   "outputs": [],
   "source": [
    "sma = SMA()\n",
    "sma.addAgent(Agent(\"paul\"))\n",
    "sma.addAgent(Agent(\"kim\"))\n",
    "sma.run(6)"
   ]
  },
  {
   "cell_type": "markdown",
   "metadata": {},
   "source": [
    "### La simultanéïté\n",
    "\n",
    "Le système séquentiel présenté précédemment possède des avantages mais aussi des inconvénients. Parmi ses avanatages, il y a bien évidemment sa simplicité. Il possède néanmoins un inconvénient lié au fait que comme un agent agit dès qu'il le peut (dans sa méthode `decide`), deux agents évalués consécutivement ne sont donc pas face au même état de l'environnement.\n",
    "\n",
    "Prenons un simple exemple d'agents qui raisonnent sur le nombre d'appels total qu'il y a eu à une des méthodes `decide`. Chacun incrémente ce nombre d'appel global, mais aucun d'entre eux ne perçoit la même valeur.\n"
   ]
  },
  {
   "cell_type": "code",
   "execution_count": null,
   "metadata": {},
   "outputs": [],
   "source": [
    "global_calls = 0\n",
    "\n",
    "class Agent:\n",
    "    def __init__(self,name) :\n",
    "        self.name=name\n",
    "            \n",
    "    def decide(self):\n",
    "        global global_calls\n",
    "        global_calls += 1\n",
    "        print(\"Je suis \",self.name, \"et je pense que le nombre global est \", global_calls) \n",
    "\n",
    "sma = SMA()\n",
    "sma.addAgent(Agent(\"Paul\"))\n",
    "sma.addAgent(Agent(\"Kim\"))\n",
    "sma.addAgent(Agent(\"Lisa\"))\n",
    "sma.run(6)"
   ]
  },
  {
   "cell_type": "markdown",
   "metadata": {},
   "source": [
    "On voir clairement ici la différence de niveau d'information des différents agents au sein d'un même tour de parole.\n",
    "\n",
    "Dans certaines simulations, il est parfois necessaire que, dans un même tour de parole, tous les agents soient face à la même connaissance lors de leur raisonnement. C'est le principe d'équité en raisonnement, ou en d'autres termes, *la simultanéïté* dans l'action (problème similaire à celui des automates cellulaires : dans le célèbre `jeu de la vie`, toutes les cellules changent d'état simultanément).\n",
    "\n",
    "Pour implémenter ce principe de simultanéité, le principe perception-decision-action doit être \"ventilé\". L'agent a alors besoin de 2 méthodes d'accès. La première pour la perception et la décision : `update`  et la seconde pour l'action :`decide`.\n",
    "Le SMA appelle alors `update` chez tous les agents, puis `decide`. La connaissance étant identique pour tous au moment du raisonnement, l'ordre de passage des agents est maintenant indifférent : ils peuvent tous agir dans le même ordre."
   ]
  },
  {
   "cell_type": "code",
   "execution_count": null,
   "metadata": {},
   "outputs": [],
   "source": [
    "global_calls = 0 \n",
    "\n",
    "class Agent:\n",
    "    def __init__(self,name) :\n",
    "        self.name=name\n",
    "\n",
    "    def update(self) :\n",
    "        global global_calls \n",
    "        global_calls += 1\n",
    "        \n",
    "    def decide(self):\n",
    "        print(\"Je suis \",self.name, \"et je pense que le nombre global est \", global_calls)"
   ]
  },
  {
   "cell_type": "code",
   "execution_count": null,
   "metadata": {},
   "outputs": [],
   "source": [
    "import random\n",
    "class SMA:\n",
    "    def __init__(self):\n",
    "        self.tick=0\n",
    "        self.resetTicks()\n",
    "        self.agentList = []\n",
    "\n",
    "    def resetTicks(self):\n",
    "        tick=0\n",
    "          \n",
    "    def addAgent(self,ag):\n",
    "        self.agentList.append(ag)\n",
    " \n",
    "    def run(self,rounds):\n",
    "        for i in range(0,rounds):\n",
    "            self.runOnce()\n",
    "\n",
    "    def runOnce(self):\n",
    "        self.tick+=1\n",
    "        for ag in self.agentList :\n",
    "            ag.update()\n",
    "        for ag in self.agentList :\n",
    "            ag.decide()            \n",
    "        print(\"tick \"+str(self.tick)+\" ended\")"
   ]
  },
  {
   "cell_type": "code",
   "execution_count": null,
   "metadata": {
    "scrolled": true
   },
   "outputs": [],
   "source": [
    "sma = SMA()\n",
    "sma.addAgent(Agent(\"Paul\"))\n",
    "sma.addAgent(Agent(\"Kim\"))\n",
    "sma.addAgent(Agent(\"Lisa\"))\n",
    "sma.run(3)"
   ]
  }
 ],
 "metadata": {
  "celltoolbar": "Slideshow",
  "kernelspec": {
   "display_name": "Python 3",
   "language": "python",
   "name": "python3"
  },
  "language_info": {
   "codemirror_mode": {
    "name": "ipython",
    "version": 3
   },
   "file_extension": ".py",
   "mimetype": "text/x-python",
   "name": "python",
   "nbconvert_exporter": "python",
   "pygments_lexer": "ipython3",
   "version": "3.7.5"
  }
 },
 "nbformat": 4,
 "nbformat_minor": 2
}
