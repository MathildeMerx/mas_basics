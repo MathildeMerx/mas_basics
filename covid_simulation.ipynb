{
 "cells": [
  {
   "cell_type": "markdown",
   "metadata": {},
   "source": [
    "# SMAC/CRISTAL/ULille\n",
    "\n",
    "Auteur : Philippe Mathieu, CRISTAL Lab, SMAC Team, University of Lille, email : philippe.mathieu@univ-lille.fr\n",
    "\n",
    "Date : 13 march 2020\n",
    "\n",
    "## Simulation of epidemics"
   ]
  },
  {
   "cell_type": "markdown",
   "metadata": {},
   "source": [
    "# An exponential phenomenon"
   ]
  },
  {
   "cell_type": "code",
   "execution_count": 1,
   "metadata": {},
   "outputs": [],
   "source": [
    "import pandas as pd\n",
    "import numpy as np\n",
    "import matplotlib.pyplot as plt"
   ]
  },
  {
   "cell_type": "code",
   "execution_count": null,
   "metadata": {},
   "outputs": [],
   "source": [
    "# Une personne infecte r0 personnes toutes les d unités de temps \n",
    "def f(x,r0) :\n",
    "    return np.round(r0**(x/d),2)\n",
    "\n",
    "d=7\n",
    "t=np.arange(0,116)\n",
    "df = pd.DataFrame()\n",
    "df['t']=t\n",
    "for r0 in [2.9 , 3.0 , 3.1] :\n",
    "    name='r0='+str(r0)\n",
    "    df[name]=f(t,r0)\n",
    "\n",
    "# pd.options.display.float_format = '{:10,.5f}'.format\n",
    "fig, ax = plt.subplots(figsize=(8,5))\n",
    "df.plot(x='t', ax=ax, kind='line', grid=True)\n",
    "\n",
    "plt.show()\n",
    "# plt.savefig('exponentielle.png', bbox_inches='tight')"
   ]
  },
  {
   "cell_type": "code",
   "execution_count": null,
   "metadata": {},
   "outputs": [],
   "source": [
    "d=1\n",
    "# Si chaque personne en contamine 3 chaque jour, au bout de 12 jours combien sont contaminés ?\n",
    "print(f(12,3))\n",
    "# Si on divise R par 2 (donc R0=1.5), combien obtient-on cette fois ci ?\n",
    "print(f(12,1.5))"
   ]
  },
  {
   "cell_type": "markdown",
   "metadata": {},
   "source": [
    "# The continuous approach\n",
    "\n",
    "Montrer ici ce qu'on \"sait\" faire avec scipy mais aussi ce qu'on ne sait pas faire !"
   ]
  },
  {
   "cell_type": "code",
   "execution_count": null,
   "metadata": {},
   "outputs": [],
   "source": []
  },
  {
   "cell_type": "markdown",
   "metadata": {},
   "source": [
    "# The discreet approach\n",
    "\n",
    "## A really basic SIR model using percentages"
   ]
  },
  {
   "cell_type": "code",
   "execution_count": null,
   "metadata": {},
   "outputs": [],
   "source": [
    "tauxTransmiss=0.8  # beta\n",
    "tauxRemis=0.05    # gamma\n",
    "\n",
    "I=[0.5]\n",
    "S=[0.5]\n",
    "R=[0.0]\n",
    "\n",
    "import matplotlib.pyplot as plt\n",
    "\n",
    "for j in range(100):\n",
    "    nouveauxCas = tauxTransmiss*S[-1]*I[-1]\n",
    "    nouveauxRemis=tauxRemis*I[-1]\n",
    "    #\n",
    "    S.append(S[-1]-nouveauxCas) \n",
    "    R.append(R[-1]+nouveauxRemis)\n",
    "    I.append(I[-1]+nouveauxCas-nouveauxRemis)\n",
    "    assert(round(S[-1]+I[-1]+R[-1],3) == 1) # la somme fait toujours 1\n",
    "\n",
    "fig, ax = plt.subplots(figsize=(8,5))\n",
    "plt.plot(S,label=\"sains\")\n",
    "plt.plot(R,label=\"rétablis\")\n",
    "plt.plot(I,label=\"infectés\")\n",
    "plt.legend(loc=\"best\")\n",
    "plt.grid()\n",
    "plt.show()\n",
    "\n",
    "# 0.8 0.05\n",
    "#plt.savefig('fig1_sir_pessimiste.png', bbox_inches='tight')\n",
    "\n",
    "# 0.2 0.09\n",
    "#plt.savefig('fig2_sir_optimiste.png', bbox_inches='tight')\n"
   ]
  },
  {
   "cell_type": "markdown",
   "metadata": {},
   "source": [
    "Super .... c'est la courbe classique de tous les papiers sur le sujet\n",
    "\n",
    "Maintenant, tout est linéarisé ! c'est clairement trop simple: ne serait-ce que modéliser gamma par 1/duree\n",
    "\n",
    "Reste à savoir ce que les matheux savent faire avec ça ?"
   ]
  },
  {
   "cell_type": "markdown",
   "metadata": {},
   "source": [
    "# SIR avec phases de confinement"
   ]
  },
  {
   "cell_type": "markdown",
   "metadata": {},
   "source": [
    "On définit le modèle SIR :"
   ]
  },
  {
   "cell_type": "code",
   "execution_count": 13,
   "metadata": {},
   "outputs": [],
   "source": [
    "def SIR_increment(I, S, R, liste_tauxTransmiss, tauxRemis):\n",
    "    for tauxTransmiss in liste_tauxTransmiss:\n",
    "        nouveauxCas = tauxTransmiss*S[-1]*I[-1]\n",
    "        nouveauxRemis=tauxRemis*I[-1]\n",
    "        #\n",
    "        S.append(S[-1]-nouveauxCas) \n",
    "        R.append(R[-1]+nouveauxRemis)\n",
    "        I.append(I[-1]+nouveauxCas-nouveauxRemis)\n",
    "        assert(round(S[-1]+I[-1]+R[-1],3) == 1) # la somme fait toujours 1\n",
    "    return None"
   ]
  },
  {
   "cell_type": "markdown",
   "metadata": {},
   "source": [
    "Part initiale de la population infectée :"
   ]
  },
  {
   "cell_type": "code",
   "execution_count": null,
   "metadata": {},
   "outputs": [],
   "source": [
    "I=[0.0005]\n",
    "S=[0.9995]\n",
    "R=[0.0]"
   ]
  },
  {
   "cell_type": "markdown",
   "metadata": {},
   "source": [
    "Evolution du taux de transmission:"
   ]
  },
  {
   "cell_type": "code",
   "execution_count": null,
   "metadata": {},
   "outputs": [],
   "source": [
    "p_1 = [0.8] * 10 # Avant confinement\n",
    "p_2 = np.linspace(0.8,0.01, 5) # Debut du confinement\n",
    "p_3 = [0.01] * 10 # Confinement\n",
    "p_4 = np.linspace(0.01,0.5, 5) # Relachement du confinement\n",
    "p_5 = [0.5] * 10 # Retour à la normale avec gestes barrières\n",
    "p_6 = np.linspace(0.5,0.01, 5) # Retour au confinement\n",
    "p_7 = [0.01] * 10 # Confinement\n",
    "liste_tauxTransmiss = np.concatenate([p_1, p_2, p_3, p_4, p_5, p_6, p_7])"
   ]
  },
  {
   "cell_type": "markdown",
   "metadata": {},
   "source": [
    "On lance l'épidémie avec une durée de guérison de 6-7 jours:"
   ]
  },
  {
   "cell_type": "code",
   "execution_count": null,
   "metadata": {},
   "outputs": [],
   "source": [
    "SIR_increment(I, S, R, liste_tauxTransmiss, 0.15)"
   ]
  },
  {
   "cell_type": "markdown",
   "metadata": {},
   "source": [
    "On trace le graphe."
   ]
  },
  {
   "cell_type": "code",
   "execution_count": null,
   "metadata": {},
   "outputs": [],
   "source": [
    "fig, ax = plt.subplots(figsize=(12,7))\n",
    "plt.plot(R,label=\"rétablis\")\n",
    "plt.plot(I,label=\"infectés\")\n",
    "plt.legend(loc=\"best\")\n",
    "plt.grid()"
   ]
  },
  {
   "cell_type": "markdown",
   "metadata": {},
   "source": [
    "## The same model but with integer data and real dates"
   ]
  },
  {
   "cell_type": "code",
   "execution_count": null,
   "metadata": {},
   "outputs": [],
   "source": [
    "# si on souhaite gérer de vraies dates\n",
    "import datetime\n",
    "#debut=datetime.date(2020,3,15)         # date de début de l'épidémie\n",
    "debut=datetime.date.today()\n",
    "unjour=datetime.timedelta(days=1)      # interval de 1j \n",
    "\n",
    "pop=1000000\n",
    "tauxTransmiss=0.8  # beta\n",
    "tauxGueris=0.05    # gamma\n",
    "\n",
    "I=[pop/2]\n",
    "S=[pop/2]\n",
    "R=[0]\n",
    "\n",
    "import matplotlib.pyplot as plt\n",
    "\n",
    "for j in range(100):\n",
    "    # le changement est ici : on divise par la pop pour avoir un pourcentage\n",
    "    nouveauxCas = round(tauxTransmiss*S[-1]*I[-1]/pop)\n",
    "    nouveauxGueris= round(tauxGueris*I[-1])\n",
    "    #assert nouveauxCas>=1 , \"S={} I={} nouveauxCas={}\".format(S[-1],I[-1],nouveauxCas)\n",
    "    #assert nouveauxGueris>=1 , \"S={} I={} nouveauxGueris={}\".format(S[-1],I[-1],nouveauxGueris)\n",
    "    #print(\"{}\\t\\t{}\\t\\t{}\\t\\t{}\\t\\t{}\".format(S[-1],I[-1],R[-1],nouveauxCas,nouveauxGueris))\n",
    "    #\n",
    "    S.append(S[-1]-nouveauxCas) \n",
    "    R.append(R[-1]+nouveauxGueris)\n",
    "    I.append(I[-1]+nouveauxCas-nouveauxGueris)\n",
    "    assert(S[-1]+I[-1]+R[-1] == pop) # la somme fait toujours pop\n",
    "    \n",
    "fig, ax = plt.subplots(figsize=(10,5))\n",
    "# gestion des dates\n",
    "plt.xticks(rotation=70)      # incliner les x pour les dates\n",
    "#ax.xaxis.set_major_formatter(mdates.DateFormatter('%m/%d/%Y'))\n",
    "#ax.xaxis.set_major_locator(mdates.DayLocator()) # jouer sur le nombre de ticks en x et y\n",
    "# ax.xaxis.set_major_locator(plt.MaxNLocator(5)) \n",
    "#ax.yaxis.set_major_locator(plt.MaxNLocator(20))\n",
    "jours=[]\n",
    "for j in range(0,len(S)): jours.append(debut+datetime.timedelta(j))\n",
    "\n",
    "plt.plot(jours,S,label=\"sains\")\n",
    "plt.plot(jours,R,label=\"rétablis\")\n",
    "plt.plot(jours,I,label=\"infectés\")\n",
    "plt.legend(loc=\"best\")\n",
    "plt.grid()\n",
    "plt.show()\n",
    "\n",
    "# 0.8 0.05\n",
    "#plt.savefig('fig1_sir_pessimiste.png', bbox_inches='tight')\n",
    "\n",
    "# 0.2 0.09\n",
    "#plt.savefig('fig2_sir_optimiste.png', bbox_inches='tight')\n"
   ]
  },
  {
   "cell_type": "markdown",
   "metadata": {},
   "source": [
    "Super ... on obtient exactement la même chose que précédemment.\n",
    "\n",
    "L'avantage maintenant, c'est que l'on peut facilement voir ce que ça donne à partir d'1 seul infecté"
   ]
  },
  {
   "cell_type": "markdown",
   "metadata": {},
   "source": [
    "## Quelques essais pour jouer sur les contacts\n",
    "On reprend ici même modèle, mais sans les dates (qui rendent la lecture imprecise)\n",
    "R0 = contacts * duree * tauxTransmiss\n",
    "\n",
    "On sait que duree=14 et que R0 compris entre 2.2 et 2.6\n",
    "\n",
    "par ailleurs, le taux de guerison est égal dans les modèles théoriques, à 1/duree"
   ]
  },
  {
   "cell_type": "code",
   "execution_count": null,
   "metadata": {},
   "outputs": [],
   "source": [
    "pop=1000000\n",
    "\n",
    "r0=2.2\n",
    "duree=7\n",
    "contacts=15\n",
    "tauxTransmiss=0.8 #r0/(duree*contacts)\n",
    "print(\"r0={:.2f}, tauxtransmiss={:.4f}\".format(r0,tauxTransmiss))\n",
    "\n",
    "I=[1]\n",
    "S=[pop-1]\n",
    "R=[0]\n",
    "\n",
    "import matplotlib.pyplot as plt\n",
    "\n",
    "for j in range(80):\n",
    "    # le changement est ici : on divise par la pop pour avoir un pourcentage\n",
    "    nouveauxCas = (tauxTransmiss*S[-1]*I[-1]/pop)\n",
    "    nouveauxGueris= ((1/duree)*I[-1])\n",
    "    #assert nouveauxCas>=1 , \"S={} I={} nouveauxCas={}\".format(S[-1],I[-1],nouveauxCas)\n",
    "    #assert nouveauxGueris>=1 , \"S={} I={} nouveauxGueris={}\".format(S[-1],I[-1],nouveauxGueris)\n",
    "    #print(\"{}\\t\\t{}\\t\\t{}\\t\\t{}\\t\\t{}\".format(S[-1],I[-1],R[-1],nouveauxCas,nouveauxGueris))\n",
    "    #\n",
    "    S.append(S[-1]-nouveauxCas) \n",
    "    R.append(R[-1]+nouveauxGueris)\n",
    "    I.append(I[-1]+nouveauxCas-nouveauxGueris)\n",
    "    #assert(S[-1]+I[-1]+R[-1] == pop) # la somme fait toujours pop\n",
    "    \n",
    "fig, ax = plt.subplots(figsize=(10,5))\n",
    "plt.plot(S,label=\"sains\")\n",
    "plt.plot(R,label=\"rétablis\")\n",
    "plt.plot(I,label=\"infectés\")\n",
    "plt.legend(loc=\"best\")\n",
    "plt.grid()\n",
    "plt.show()"
   ]
  },
  {
   "cell_type": "markdown",
   "metadata": {},
   "source": [
    "Ben là ça déconne grave .... ça ne monte pas si mon taux est inférieur à 0.2\n",
    "\n",
    "par ailleurs, pourquoi j'ai 500000 rétablis avec très peu d'infectés\n",
    "\n",
    "par ailleurs comment on illustre l'immunité collective ?"
   ]
  },
  {
   "cell_type": "markdown",
   "metadata": {},
   "source": [
    "# Un modèle SIRM en pourcentage"
   ]
  },
  {
   "cell_type": "code",
   "execution_count": null,
   "metadata": {},
   "outputs": [],
   "source": [
    "tauxTransmiss=0.8   # les contacts\n",
    "tauxMortalite=0.005  # taux gueris = 1/tauxMortalite\n",
    "tauxGuerison=0.05\n",
    "\n",
    "I=[0.5]\n",
    "S=[0.5]\n",
    "R=[0.0]\n",
    "M=[0.0]\n",
    "\n",
    "import matplotlib.pyplot as plt\n",
    "\n",
    "for j in range(100):\n",
    "    nouveauxCas = tauxTransmiss*S[-1]*I[-1]\n",
    "    nouveauxGueris=tauxGuerison*I[-1]\n",
    "    nouveauxDeces=tauxMortalite*I[-1]\n",
    "    # On passe de S -> I -> (R ou M)\n",
    "    S.append(S[-1]-nouveauxCas) \n",
    "    I.append(I[-1]+nouveauxCas-nouveauxGueris-nouveauxDeces)\n",
    "    R.append(R[-1]+nouveauxGueris)\n",
    "    M.append(M[-1]+nouveauxDeces) \n",
    "    assert(round(S[-1]+I[-1]+R[-1]+M[-1],3) == 1) # la somme fait toujours 1\n",
    "\n",
    "fig, ax = plt.subplots(figsize=(10,5))\n",
    "plt.plot(S,label=\"sains\")\n",
    "plt.plot(R,label=\"remis\")\n",
    "plt.plot(I,label=\"infectes\")\n",
    "plt.plot(M,label=\"morts\")\n",
    "plt.legend(loc=\"best\")\n",
    "plt.grid()\n",
    "plt.show()\n"
   ]
  },
  {
   "cell_type": "markdown",
   "metadata": {},
   "source": [
    "# SIRM + contacts + données entieres et dates + confinement"
   ]
  },
  {
   "cell_type": "code",
   "execution_count": null,
   "metadata": {},
   "outputs": [],
   "source": [
    "import numpy\n",
    "\n",
    "# si on souhaite gérer de vraies dates\n",
    "import datetime\n",
    "debut=datetime.date(2020,3,15)         # date de début de l'épidémie\n",
    "unjour=datetime.timedelta(days=1)      # interval de 1j \n",
    "\n",
    "pop=1000000\n",
    "tauxTransmissDeconf = 0.8\n",
    "tauxTransmissConf  = tauxTransmissDeconf/100\n",
    "tauxTransmiss = tauxTransmissDeconf # On commence en déconfinement\n",
    "periods = [18,90]\n",
    "\n",
    "tauxMortalite=0.005\n",
    "tauxGueris=0.05\n",
    "\n",
    "I=[1]\n",
    "S=[pop-1]\n",
    "R=[0]\n",
    "M=[0]\n",
    "\n",
    "import matplotlib.pyplot as plt\n",
    "\n",
    "for j in range(1,500):\n",
    "#while I[-1] > 0.001 :\n",
    "    # Changement de période\n",
    "    if (j in periods) :\n",
    "        if (tauxTransmiss == tauxTransmissConf) : \n",
    "            tauxTransmiss=tauxTransmissDeconf\n",
    "        else : tauxTransmiss=tauxTransmissConf\n",
    "        print(str(j)+\" changement de periode : \"+str(tauxTransmiss))\n",
    "\n",
    "    nouveauxCas = tauxTransmiss*S[-1]*I[-1]/pop\n",
    "    nouveauxGueris=tauxGueris*I[-1]\n",
    "    nouveauxDeces=tauxMortalite*I[-1]    # taux mortalité = 1-tauxGueris  ???\n",
    "    # On passe de S -> I -> (R ou M)\n",
    "    S.append(S[-1]-nouveauxCas) \n",
    "    I.append(I[-1]+nouveauxCas-nouveauxGueris-nouveauxDeces)\n",
    "    R.append(R[-1]+nouveauxGueris)\n",
    "    M.append(M[-1]+nouveauxDeces) \n",
    "    #assert(round(S[-1]+I[-1]+R[-1]+M[-1],3) == 1) # la somme fait toujours 1\n",
    "\n",
    "print(\"L'épidémie aura duré \"+str(len(S))+\" jour ,et termine avec \"+str(round(M[-1],2))+\" morts\")\n",
    "\n",
    "jours=[]\n",
    "for j in range(0,len(S)): jours.append(debut+datetime.timedelta(j))\n",
    "    \n",
    "fig, ax = plt.subplots(figsize=(12,6))\n",
    "plt.xticks(rotation=70)      # incliner les x pour les dates\n",
    "#ax.xaxis.set_major_formatter(mdates.DateFormatter('%m/%d/%Y'))\n",
    "#ax.xaxis.set_major_locator(mdates.DayLocator()) # jouer sur le nombre de ticks en x et y\n",
    "# ax.xaxis.set_major_locator(plt.MaxNLocator(5)) \n",
    "ax.yaxis.set_major_locator(plt.MaxNLocator(20))\n",
    "\n",
    "#plt.plot(jours,S,label=\"sains\")  # [s*pop for s in S]\n",
    "#plt.plot(jours,R,label=\"remis\")\n",
    "plt.plot(jours,I,label=\"infectes\")\n",
    "plt.plot(jours,M,label=\"morts\")\n",
    "#plt.axvline(x='2020/05/01', color='black', linewidth=1, linestyle=(0, (5,10)))\n",
    "#plt.axhline(y=100000, color='black', linewidth=1, linestyle=(0, (5,10)))\n",
    "\n",
    "plt.legend(loc=\"best\")\n",
    "plt.grid()\n",
    "plt.show()\n",
    "#plt.savefig(\"plot.png\")\n",
    "\n",
    "import pandas as pd\n",
    "# pd.options.display.float_format = '{:10,.5f}'.format   # pour éviter la notation scientifique\n",
    "\n",
    "df = pd.DataFrame()\n",
    "df['S']=S\n",
    "df['I']=I\n",
    "df['R']=R\n",
    "df['M']=M\n",
    "df['somme']=df['S']+df['I']+df['R']+df['M']\n",
    "print(df)\n"
   ]
  },
  {
   "cell_type": "markdown",
   "metadata": {},
   "source": [
    "# L'approche Louapre\n",
    "\n",
    "Ici il calcule principament des malades : les sains sont calculés par différence entre pop et ce qui reste"
   ]
  },
  {
   "cell_type": "code",
   "execution_count": null,
   "metadata": {},
   "outputs": [],
   "source": [
    "import math\n",
    "\n",
    "pop=70000000.0\n",
    "contacts=25            # sur la totalité de la maladie\n",
    "duree=10\n",
    "tauxTransmiss=0.25/100   # pour 1 contact\n",
    "tauxMortalite=3.0/100      # sur la totalité de la maladie\n",
    "\n",
    "print(\"R0={}\".format(nbContacts*tauxTransmiss*duree))\n",
    "\n",
    "malades=[2000]  # malades sur la periode\n",
    "remis=[200]     # remis sur la periode\n",
    "morts=[50]      # morts sur la periode\n",
    "sains=[pop-malades[-1]-remis[-1]-morts[-1]]\n",
    "\n",
    "\n",
    "for j in range(1,180): # 3 mois\n",
    "    nouveauxMalades = (malades[-1]*contacts*tauxTransmiss*(sains[-1]/pop))\n",
    "    nouveauxRemis   = (malades[-1]*(1/duree))\n",
    "    nouveauxMorts   = (malades[-1]*(tauxMortalite/duree))\n",
    "    #\n",
    "    malades.append(malades[-1]+nouveauxMalades-nouveauxRemis-nouveauxMorts)\n",
    "    remis.append(remis[-1]+nouveauxRemis)\n",
    "    morts.append(morts[-1]+nouveauxMorts)\n",
    "    sains.append(pop-malades[-1]-remis[-1]-morts[-1])\n",
    "    assert(sains[-1]+malades[-1]+remis[-1]+morts[-1]==pop)\n",
    "\n",
    "print(\"Nombre de morts = {:6.2f}\".format(morts[-1]))\n",
    "import pandas as pd\n",
    "df = pd.DataFrame()\n",
    "df['S']=sains\n",
    "df['M']=malades\n",
    "df['R']=remis\n",
    "df['Morts']=morts\n",
    "pd.options.display.float_format = '{:6.1f}'.format\n",
    "print(df)\n",
    "\n",
    "plt.figure(figsize=(10,5))\n",
    "#plt.plot(sains,label=\"sains\")  # [s*pop for s in S]\n",
    "plt.plot(remis,label=\"remis\")\n",
    "plt.plot(malades,label=\"infectes\")\n",
    "plt.plot(morts,label=\"morts\")\n",
    "plt.show()"
   ]
  },
  {
   "cell_type": "markdown",
   "metadata": {},
   "source": [
    "Il part du principe que les sains sont à chaque t , calculés par soustractions des autres boites à partir de la population total (sains=pop-malades-remis-morts).\n",
    "\n",
    "Au bout du compte en quoi c'est vraiment différent des approches du dessus ?"
   ]
  },
  {
   "cell_type": "markdown",
   "metadata": {},
   "source": [
    "# Une autre approche plus réaliste\n",
    "\n",
    "Celle de christian rabaud\n",
    "\n",
    "ici , quand on calcule les morts, qui sont dans cet état après 15j d'état grave, on va chercher la valeur à t-15\n",
    "Selon moi, c'est nettement plus réalise\n",
    "\n",
    "\n",
    "le bout de code ci-dessous ne fonctionne pas encore vraiment"
   ]
  },
  {
   "cell_type": "code",
   "execution_count": null,
   "metadata": {},
   "outputs": [],
   "source": [
    "# Modele de Christian Rabaux\n",
    "\n",
    "import matplotlib.pyplot as plt\n",
    "\n",
    "# parametres\n",
    "pop=612056+369641; # taille de la population\n",
    "r0=2.3;            # taux de contagion\n",
    "r0c=0.8;           # taux de contagion en confinement\n",
    "jc=48;   # delai entre jO et confinement\n",
    "taux_cg=0.05;      # taux de cas graves\n",
    "taux_g=0.81;       # taux de guerison\n",
    "taux_dc=0.5;       # taux de deces hospitaliers\n",
    "dscg=9;            # duree de sejour cas graves\n",
    "dacv=9;            # duree apparition d'un cas grave\n",
    "capa_rea=167;      # capacite de rea en lits\n",
    "\n",
    "# donnees initiales\n",
    "jour=[0];\n",
    "nouveaux_cas=[1.0];\n",
    "nouveaux_cas_graves=[0.0];\n",
    "cas_graves_cumules=[0.0];\n",
    "occupation_rea=[0];\n",
    "nouveaux_gueris=[0];\n",
    "nouveaux_morts_hospitaliers=[0];\n",
    "morts_hospitaliers_cumules=[0];\n",
    "nombre_total_de_cas=[0];\n",
    "gueris_cumules=[0];\n",
    "effet_confinement=[0];\n",
    "capa=[capa_rea]\n",
    "depassement_capa=[True];\n",
    "dix_rea=[0];\n",
    "\n",
    "# evolution\n",
    "for i in range(1,3) :\n",
    "    jour.append(jour[-1]+3)\n",
    "    if (jour[-1]>=6):\n",
    "        # calcul ncduj\n",
    "        if (effet_confinement[-1]>0):\n",
    "            ncduj = effet_confinement[-1]\n",
    "        elif (((pop-gueris_cumules[-1])*0.6)-nombre_total_de_cas[-1])<0 :\n",
    "            ncduj=0\n",
    "        else : ncduj = (nouveaux_cas[-1]*R0)*(((((pop-gueris_cumules[0]))*0.6)-nombre_total_de_cas[-1])/(((pop-gueris_cumules[-1]))*0.6))\n",
    "        nouveaux_cas.append((ncduj+nouveaux_cas[-1])/2.0) # la moyenne pour remplir cette case\n",
    "        nouveaux_cas.append(ncdj)\n",
    "        nombre_total_de_cas.append(nombre_total_de_cas[-1]+nouveaux_cas[-1])\n",
    "        \n",
    "    if (jour[-1]>=9):\n",
    "        nouveaux_cas_graves.append(nouveaux_cas[-3]*taux_cg) # A partir du jour 9\n",
    "        cas_graves_cumules.append(cas_graves_cumules[-1]+nouveaux_cas_graves[-1])\n",
    "        occupation_rea.append(occupation_rea[-1]+nouveaux_cas_graves[-1])\n",
    "        nouveaux_gueris.append(nouveaux_cas[-3]*taux_g)\n",
    "        gueris_cumules.append(gueris_cumules[-1]+nouveaux_gueris[-1])\n",
    "    \n",
    "    if (jour[-1]>=15):\n",
    "        nouveaux_morts_hospitaliers.append(nouveaux_cas_graves[-2]*taux_dc)\n",
    "        morts_hospitaliers_cumules.append(morts_hospitaliers_cumules[-1]+nouveaux_morts_hospitaliers[-1])\n",
    "    \n",
    "    if (pop*0.6 - nombre_total_de_cas[-2]) < 0 :\n",
    "        effet_confinement.append(0)\n",
    "    elif (jc+7-jour[-1]>0) :\n",
    "        effet_confinement.append(0)\n",
    "    else : effect_confinement.append((((nouveaux_cas[-2]+nouveaux_cas[-3])/2.0)*R0c)*((((pop)*0.6)-nombre_total_de_cas[-2])/((pop)*0.6)))\n",
    "\n",
    "    capa.append(capa_rea)\n",
    "    depassement_capa.append(capa[-1<occupation_rea[-1]])\n",
    "    dix_rea.append(cas_graves_cumules[-1]>10)\n",
    "\n",
    "plt.plot(capa,label=\"capa\")\n",
    "plt.plot(morts_hospitaliers_cumules,label=\"morts_hospitaliers_cumules\")\n",
    "plt.plot(nouveaux_morts_hospitaliers,label=\"nouveaux_morts_hospitalier\")\n",
    "plt.plot(occupation_rea,label=\"occupation_rea\")\n",
    "plt.plot(nouveaux_cas_graves,label=\"nouveaux_cas_graves\")\n",
    "\n",
    "plt.legend(loc=\"best\")\n",
    "plt.show()\n",
    "\n"
   ]
  },
  {
   "cell_type": "markdown",
   "metadata": {},
   "source": [
    "# Un modèle S-I-(G/R)-M\n",
    "\n",
    "Les infectés se répartissent en Graves et Remis (somme de ces deux taux sensiblement équivalent aux remis de l'ancien modèle). Les Graves finissent soit Remis (taux) soit Morts (1-taux)."
   ]
  },
  {
   "cell_type": "code",
   "execution_count": null,
   "metadata": {},
   "outputs": [],
   "source": [
    "def SIR_increment(I, S, R, G, M, liste_tauxTransmiss, tauxRemis, tauxGraves, tauxMortalite):\n",
    "    for tauxTransmiss in liste_tauxTransmiss:\n",
    "        nouveauxCas = tauxTransmiss*S[-1]*I[-1]\n",
    "        nouveauxInfectesRemis=tauxRemis*I[-1]\n",
    "        nouveauxInfectesGraves=tauxGraves*I[-1]\n",
    "        nouveauxGravesRemis=(1-tauxMortalite)*G[-1]\n",
    "        nouveauxGravesMorts=tauxMortalite*G[-1]\n",
    "        #\n",
    "        S.append(S[-1]-nouveauxCas) \n",
    "        I.append(I[-1]+nouveauxCas-nouveauxInfectesRemis-nouveauxInfectesGraves)\n",
    "        G.append(R[-1]+nouveauxInfectesGraves-nouveauxGravesMorts)\n",
    "        R.append(R[-1]+nouveauxInfectesRemis+nouveauxGravesRemis)\n",
    "        M.append(R[-1]+nouveauxGravesMorts)\n",
    "        assert(round(S[-1]+I[-1]+G[-1]+R[-1]+M[-1],3) == 1) # la somme fait toujours 1\n",
    "    return None"
   ]
  },
  {
   "cell_type": "markdown",
   "metadata": {},
   "source": [
    "# Calibration"
   ]
  },
  {
   "cell_type": "markdown",
   "metadata": {},
   "source": [
    "## Le cas simple du SIR"
   ]
  },
  {
   "cell_type": "markdown",
   "metadata": {},
   "source": [
    "L'objectif est d'obtenir un vecteur de paramètres qui permet au SIR d'être le plus proche d'une matrice de données sur les compartiments."
   ]
  },
  {
   "cell_type": "markdown",
   "metadata": {},
   "source": [
    "Les paramètres à optimiser sont :"
   ]
  },
  {
   "cell_type": "markdown",
   "metadata": {},
   "source": [
    "\\begin{bmatrix} \\beta \\\\ \\gamma \\end{bmatrix}"
   ]
  },
  {
   "cell_type": "markdown",
   "metadata": {},
   "source": [
    "Ce qui nous donne une matrice du nombre d'individus dans les compartiments du modèles par période temporelle numérotée de 1 à n:"
   ]
  },
  {
   "cell_type": "markdown",
   "metadata": {},
   "source": [
    "\\begin{bmatrix} s_1 & i_1 & r_1 \\\\ s_2 & i_2 & r_2 \\\\ ... & ... & ... \\\\ s_n & i_n & r_n \\end{bmatrix}"
   ]
  },
  {
   "cell_type": "markdown",
   "metadata": {},
   "source": [
    "Pour évaluer cette solution il faut choisir une fonction de distance avec la matrice des données réelles, comme par exemple une norme sur l'espace des matrices. Techniquement, on peut faire sauter une colonne car la somme des colonnes fait 1."
   ]
  },
  {
   "cell_type": "markdown",
   "metadata": {},
   "source": [
    "On teste avec une matrice généré artificiellement:"
   ]
  },
  {
   "cell_type": "code",
   "execution_count": 535,
   "metadata": {},
   "outputs": [],
   "source": [
    "I=[0.0005]\n",
    "S=[0.9995]\n",
    "R=[0.0]\n",
    "\n",
    "liste_tauxTransmiss = [0.8] * 20\n",
    "tauxRemis = 0.15\n",
    "\n",
    "SIR_increment(I, S, R, liste_tauxTransmiss, tauxRemis)\n",
    "\n",
    "data_objectif = np.array([I, R])"
   ]
  },
  {
   "cell_type": "markdown",
   "metadata": {},
   "source": [
    "On code un algorithme génétique qui cherche 0.8 et 0.15 à partir des données des comportements sur des périodes possiblement différenciées."
   ]
  },
  {
   "cell_type": "code",
   "execution_count": 536,
   "metadata": {},
   "outputs": [],
   "source": [
    "def eval_SIR(candidat, data_objectif, periodes_confinement, population=1):\n",
    "    I=[data_objectif[0][0]]\n",
    "    S=[1 - data_objectif[0][0]]\n",
    "    R=[0.0]\n",
    "    liste_taux = []\n",
    "    i = 0\n",
    "    for periode in periodes_confinement:\n",
    "        liste_taux = liste_taux + [candidat[i]] * periode\n",
    "        i += 1\n",
    "    tauxRemis = candidat[-1]\n",
    "    SIR_increment(I, S, R, liste_taux, tauxRemis)\n",
    "    candidat_data = np.array([I, R])\n",
    "    return np.linalg.norm(candidat_data - data_objectif),"
   ]
  },
  {
   "cell_type": "code",
   "execution_count": 537,
   "metadata": {},
   "outputs": [
    {
     "data": {
      "text/plain": [
       "(0.0,)"
      ]
     },
     "execution_count": 537,
     "metadata": {},
     "output_type": "execute_result"
    }
   ],
   "source": [
    "eval_SIR([0.8, 0.15], data_objectif, [20])"
   ]
  },
  {
   "cell_type": "code",
   "execution_count": 538,
   "metadata": {},
   "outputs": [],
   "source": [
    "import random\n",
    "from deap import base\n",
    "from deap import creator\n",
    "from deap import tools\n",
    "import array\n",
    "import numpy\n",
    "from deap import algorithms"
   ]
  },
  {
   "cell_type": "code",
   "execution_count": 539,
   "metadata": {},
   "outputs": [],
   "source": [
    "def optimisation_genetique_SIR(n_indiv, n_gen, data_objectif, periodes_confinement, verbose=False):\n",
    "\n",
    "    creator.create(\"FitnessMax\", base.Fitness, weights=(-1.0,))\n",
    "    creator.create(\"Individual\", list, fitness=creator.FitnessMax)\n",
    "\n",
    "    toolbox = base.Toolbox()\n",
    "    toolbox.register(\"attr_float\", random.random)\n",
    "    toolbox.register(\"individual\", tools.initRepeat, creator.Individual, toolbox.attr_float, n=len(periodes_confinement)+1)\n",
    "    toolbox.register(\"population\", tools.initRepeat, list, toolbox.individual)\n",
    "    toolbox.register(\"evaluate\", eval_SIR, data_objectif=data_objectif, periodes_confinement=periodes_confinement)\n",
    "    toolbox.register(\"mate\", tools.cxTwoPoint)\n",
    "    toolbox.register(\"mutate\", tools.mutGaussian, mu=0, sigma=0.1, indpb=0.05)\n",
    "    toolbox.register(\"select\", tools.selTournament, tournsize=3)\n",
    "\n",
    "    pop = toolbox.population(n=n_indiv)\n",
    "    hof = tools.HallOfFame(1)\n",
    "    \n",
    "    stats = tools.Statistics(lambda ind: ind.fitness.values)\n",
    "    stats.register(\"avg\", numpy.mean)\n",
    "    stats.register(\"std\", numpy.std)\n",
    "    stats.register(\"min\", numpy.min)\n",
    "    stats.register(\"max\", numpy.max)\n",
    "\n",
    "    pop, log = algorithms.eaSimple(pop, toolbox, cxpb=0.5, mutpb=0.2, ngen=n_gen, \n",
    "                                   stats=stats, halloffame=hof, verbose=verbose)\n",
    "    return hof[0]"
   ]
  },
  {
   "cell_type": "code",
   "execution_count": 540,
   "metadata": {},
   "outputs": [
    {
     "data": {
      "text/plain": [
       "[0.7984028122855306, 0.14856209889342561]"
      ]
     },
     "execution_count": 540,
     "metadata": {},
     "output_type": "execute_result"
    }
   ],
   "source": [
    "optimisation_genetique_SIR(300, 50, data_objectif, [20])"
   ]
  },
  {
   "cell_type": "markdown",
   "metadata": {},
   "source": [
    "## Données du ministère"
   ]
  },
  {
   "cell_type": "code",
   "execution_count": 541,
   "metadata": {},
   "outputs": [],
   "source": [
    "data = pd.read_csv('chiffres-cles.csv')"
   ]
  },
  {
   "cell_type": "markdown",
   "metadata": {},
   "source": [
    "On garde uniquement les données nationales du ministere:"
   ]
  },
  {
   "cell_type": "code",
   "execution_count": 542,
   "metadata": {},
   "outputs": [],
   "source": [
    "data = data.loc[data['source_type'] == \"ministere-sante\"]\n",
    "data = data.loc[data['granularite'] == \"pays\"].reset_index()"
   ]
  },
  {
   "cell_type": "markdown",
   "metadata": {},
   "source": [
    "On conserve les colonnes d'intérêt."
   ]
  },
  {
   "cell_type": "code",
   "execution_count": 543,
   "metadata": {},
   "outputs": [],
   "source": [
    "data = data[['date','cas_confirmes', 'deces', 'deces_ehpad', 'reanimation', 'hospitalises', 'gueris']]"
   ]
  },
  {
   "cell_type": "markdown",
   "metadata": {},
   "source": [
    "Mesure temporaire : on va compléter les données manquantes."
   ]
  },
  {
   "cell_type": "code",
   "execution_count": 544,
   "metadata": {},
   "outputs": [],
   "source": [
    "data = data.interpolate().fillna(method='bfill')"
   ]
  },
  {
   "cell_type": "code",
   "execution_count": 545,
   "metadata": {
    "scrolled": false
   },
   "outputs": [
    {
     "data": {
      "text/html": [
       "<div>\n",
       "<style scoped>\n",
       "    .dataframe tbody tr th:only-of-type {\n",
       "        vertical-align: middle;\n",
       "    }\n",
       "\n",
       "    .dataframe tbody tr th {\n",
       "        vertical-align: top;\n",
       "    }\n",
       "\n",
       "    .dataframe thead th {\n",
       "        text-align: right;\n",
       "    }\n",
       "</style>\n",
       "<table border=\"1\" class=\"dataframe\">\n",
       "  <thead>\n",
       "    <tr style=\"text-align: right;\">\n",
       "      <th></th>\n",
       "      <th>date</th>\n",
       "      <th>cas_confirmes</th>\n",
       "      <th>deces</th>\n",
       "      <th>deces_ehpad</th>\n",
       "      <th>reanimation</th>\n",
       "      <th>hospitalises</th>\n",
       "      <th>gueris</th>\n",
       "    </tr>\n",
       "  </thead>\n",
       "  <tbody>\n",
       "    <tr>\n",
       "      <th>72</th>\n",
       "      <td>2020-04-18</td>\n",
       "      <td>111821.0</td>\n",
       "      <td>11842.0</td>\n",
       "      <td>7481.0</td>\n",
       "      <td>5833.0</td>\n",
       "      <td>30639.0</td>\n",
       "      <td>35983.0</td>\n",
       "    </tr>\n",
       "    <tr>\n",
       "      <th>73</th>\n",
       "      <td>2020-04-19</td>\n",
       "      <td>112606.0</td>\n",
       "      <td>12069.0</td>\n",
       "      <td>7649.0</td>\n",
       "      <td>5744.0</td>\n",
       "      <td>30610.0</td>\n",
       "      <td>36578.0</td>\n",
       "    </tr>\n",
       "    <tr>\n",
       "      <th>74</th>\n",
       "      <td>2020-04-20</td>\n",
       "      <td>114657.0</td>\n",
       "      <td>12513.0</td>\n",
       "      <td>7752.0</td>\n",
       "      <td>5683.0</td>\n",
       "      <td>30584.0</td>\n",
       "      <td>37409.0</td>\n",
       "    </tr>\n",
       "    <tr>\n",
       "      <th>75</th>\n",
       "      <td>2020-04-21</td>\n",
       "      <td>117324.0</td>\n",
       "      <td>12900.0</td>\n",
       "      <td>7896.0</td>\n",
       "      <td>5433.0</td>\n",
       "      <td>30106.0</td>\n",
       "      <td>39181.0</td>\n",
       "    </tr>\n",
       "    <tr>\n",
       "      <th>76</th>\n",
       "      <td>2020-04-22</td>\n",
       "      <td>119151.0</td>\n",
       "      <td>13236.0</td>\n",
       "      <td>8104.0</td>\n",
       "      <td>5218.0</td>\n",
       "      <td>29741.0</td>\n",
       "      <td>40657.0</td>\n",
       "    </tr>\n",
       "  </tbody>\n",
       "</table>\n",
       "</div>"
      ],
      "text/plain": [
       "          date  cas_confirmes    deces  deces_ehpad  reanimation  \\\n",
       "72  2020-04-18       111821.0  11842.0       7481.0       5833.0   \n",
       "73  2020-04-19       112606.0  12069.0       7649.0       5744.0   \n",
       "74  2020-04-20       114657.0  12513.0       7752.0       5683.0   \n",
       "75  2020-04-21       117324.0  12900.0       7896.0       5433.0   \n",
       "76  2020-04-22       119151.0  13236.0       8104.0       5218.0   \n",
       "\n",
       "    hospitalises   gueris  \n",
       "72       30639.0  35983.0  \n",
       "73       30610.0  36578.0  \n",
       "74       30584.0  37409.0  \n",
       "75       30106.0  39181.0  \n",
       "76       29741.0  40657.0  "
      ]
     },
     "execution_count": 545,
     "metadata": {},
     "output_type": "execute_result"
    }
   ],
   "source": [
    "data.tail()"
   ]
  },
  {
   "cell_type": "markdown",
   "metadata": {},
   "source": [
    "Optimisation :"
   ]
  },
  {
   "cell_type": "code",
   "execution_count": 546,
   "metadata": {},
   "outputs": [],
   "source": [
    "I=np.array(data['cas_confirmes']/67000000)\n",
    "R=np.array(data['gueris']/67000000)\n",
    "S=[1]*77 - I - R\n",
    "data_objectif_ministere = np.array([I, R])"
   ]
  },
  {
   "cell_type": "code",
   "execution_count": 547,
   "metadata": {},
   "outputs": [
    {
     "name": "stderr",
     "output_type": "stream",
     "text": [
      "/usr/local/lib/python3.6/dist-packages/ipykernel_launcher.py:3: RuntimeWarning: overflow encountered in double_scalars\n",
      "  This is separate from the ipykernel package so we can avoid doing imports until\n"
     ]
    }
   ],
   "source": [
    "solution = optimisation_genetique_SIR(300, 1000, data_objectif_ministere, [76])"
   ]
  },
  {
   "cell_type": "code",
   "execution_count": 548,
   "metadata": {},
   "outputs": [
    {
     "data": {
      "text/plain": [
       "[0.2039218609508777, 0.04796662954401283]"
      ]
     },
     "execution_count": 548,
     "metadata": {},
     "output_type": "execute_result"
    }
   ],
   "source": [
    "solution"
   ]
  },
  {
   "cell_type": "code",
   "execution_count": 561,
   "metadata": {},
   "outputs": [],
   "source": [
    "def compare_solution(solution, data_objectif, periodes_confinement):\n",
    "    I=[data_objectif[0][0]]\n",
    "    S=[1-data_objectif[0][0]]\n",
    "    R=[0.0]\n",
    "    i = 0\n",
    "    liste_taux=[]\n",
    "    for periode in periodes_confinement:\n",
    "        liste_taux = liste_taux + [solution[i]] * periode\n",
    "        i += 1\n",
    "    SIR_increment(I, S, R, liste_taux, solution[-1])\n",
    "    fig, ax = plt.subplots(figsize=(12,7))\n",
    "    plt.plot(data_objectif[0], label=\"Infectés (données)\")\n",
    "    plt.plot(I, label=\"Infectés (estimation\")\n",
    "    plt.plot(data_objectif[1], label=\"Remis (données)\")\n",
    "    plt.plot(R, label=\"Remis (estimation)\")\n",
    "    plt.legend()"
   ]
  },
  {
   "cell_type": "code",
   "execution_count": 562,
   "metadata": {},
   "outputs": [
    {
     "data": {
      "image/png": "[encoded data removed]",
      "text/plain": [
       "<Figure size 864x504 with 1 Axes>"
      ]
     },
     "metadata": {
      "needs_background": "light"
     },
     "output_type": "display_data"
    }
   ],
   "source": [
    "compare_solution(solution, data_objectif_ministere, [76])"
   ]
  },
  {
   "cell_type": "markdown",
   "metadata": {},
   "source": [
    "L'optimisation fait au mieux compte-tenu du fait que la courbe des cas confirmés ne colle pas avec un modèle SIR, pour des raisons de confinement (entre autres...)."
   ]
  },
  {
   "cell_type": "markdown",
   "metadata": {},
   "source": [
    "## Le cas avec confinement"
   ]
  },
  {
   "cell_type": "markdown",
   "metadata": {},
   "source": [
    "En théorie rien n'empêche d'augmenter la taille du vecteur de paramètres à optimiser pour introduire plusieurs taux de transmission pour représenter le confinement : \\begin{bmatrix} \\beta_1 \\\\ \\beta_2 \\\\ \\beta_3 \\\\ \\gamma \\end{bmatrix}"
   ]
  },
  {
   "cell_type": "markdown",
   "metadata": {},
   "source": [
    "Le cas extrême est ainsi d'attribuer un taux par période."
   ]
  },
  {
   "cell_type": "markdown",
   "metadata": {},
   "source": [
    "Imaginons qu'à la période 10 (sur 20) un confinement survienne."
   ]
  },
  {
   "cell_type": "code",
   "execution_count": 565,
   "metadata": {},
   "outputs": [],
   "source": [
    "I=[0.0005]\n",
    "S=[0.9995]\n",
    "R=[0.0]\n",
    "\n",
    "liste_tauxTransmiss = [0.8] * 10 + [0.1] * 10\n",
    "tauxRemis = 0.15\n",
    "\n",
    "SIR_increment(I, S, R, liste_tauxTransmiss, tauxRemis)\n",
    "data_objectif = np.array([I, R])\n",
    "periodes_confinement = [10,10]"
   ]
  },
  {
   "cell_type": "code",
   "execution_count": 568,
   "metadata": {},
   "outputs": [
    {
     "data": {
      "text/plain": [
       "(0.0,)"
      ]
     },
     "execution_count": 568,
     "metadata": {},
     "output_type": "execute_result"
    }
   ],
   "source": [
    "eval_SIR([0.8, 0.1, 0.15], data_objectif, [10, 10])"
   ]
  },
  {
   "cell_type": "code",
   "execution_count": 569,
   "metadata": {},
   "outputs": [],
   "source": [
    "solution = optimisation_genetique_SIR(300, 1000, data_objectif, periodes_confinement)"
   ]
  },
  {
   "cell_type": "code",
   "execution_count": 570,
   "metadata": {
    "scrolled": true
   },
   "outputs": [
    {
     "data": {
      "text/plain": [
       "[0.8004324105139402, 0.10111736309715244, 0.15098036679324045]"
      ]
     },
     "execution_count": 570,
     "metadata": {},
     "output_type": "execute_result"
    }
   ],
   "source": [
    "solution"
   ]
  },
  {
   "cell_type": "code",
   "execution_count": 571,
   "metadata": {},
   "outputs": [
    {
     "data": {
      "image/png": "[encoded data removed]",
      "text/plain": [
       "<Figure size 864x504 with 1 Axes>"
      ]
     },
     "metadata": {
      "needs_background": "light"
     },
     "output_type": "display_data"
    }
   ],
   "source": [
    "compare_solution(solution, data_objectif, [10, 10])"
   ]
  },
  {
   "cell_type": "markdown",
   "metadata": {},
   "source": [
    "## Données réelles"
   ]
  },
  {
   "cell_type": "markdown",
   "metadata": {},
   "source": [
    "En France, trois dates marquantes pour le confinement : annonce le 17/03 (n=40), durcissement le 24/03 (n=47) et prolongement le 13/04 (n=67)."
   ]
  },
  {
   "cell_type": "code",
   "execution_count": 583,
   "metadata": {},
   "outputs": [],
   "source": [
    "periodes_confinement = [40, 7, 29]"
   ]
  },
  {
   "cell_type": "code",
   "execution_count": 580,
   "metadata": {},
   "outputs": [
    {
     "name": "stderr",
     "output_type": "stream",
     "text": [
      "/usr/local/lib/python3.6/dist-packages/ipykernel_launcher.py:3: RuntimeWarning: overflow encountered in double_scalars\n",
      "  This is separate from the ipykernel package so we can avoid doing imports until\n"
     ]
    }
   ],
   "source": [
    "solution = optimisation_genetique_SIR(300, 1000, data_objectif_ministere, periodes_confinement)"
   ]
  },
  {
   "cell_type": "code",
   "execution_count": 581,
   "metadata": {},
   "outputs": [
    {
     "data": {
      "text/plain": [
       "[0.2280554144022231,\n",
       " 0.4034686254651848,\n",
       " 0.04873081066542719,\n",
       " 0.025070465217154662]"
      ]
     },
     "execution_count": 581,
     "metadata": {},
     "output_type": "execute_result"
    }
   ],
   "source": [
    "solution"
   ]
  },
  {
   "cell_type": "code",
   "execution_count": 584,
   "metadata": {
    "scrolled": false
   },
   "outputs": [
    {
     "data": {
      "image/png": "[encoded data removed]",
      "text/plain": [
       "<Figure size 864x504 with 1 Axes>"
      ]
     },
     "metadata": {
      "needs_background": "light"
     },
     "output_type": "display_data"
    }
   ],
   "source": [
    "compare_solution(solution, data_objectif_ministere, periodes_confinement)"
   ]
  },
  {
   "cell_type": "markdown",
   "metadata": {},
   "source": [
    "Les résultats sont rassurants : avec des données inexactes on ne peut pas faire rentrer le modèle SIR. Il y a une vraie nécéssité d'ajouter des boîtes supplémentaires et de focaliser le calibrage sur les données que l'on sait être correctes (nombre de patients en réanimation par exemple). Si le modèle fitte bien ce sera un vrai argument."
   ]
  },
  {
   "cell_type": "markdown",
   "metadata": {},
   "source": [
    "# Bibliography\n",
    "- M. J. Keeling and P. Rohani, [Modeling Infectious Diseases in Humans and Animals](https://press.princeton.edu/books/hardcover/9780691116174/modeling-infectious-diseases-in-humans-and-animals), Princeton (2007).\n",
    "- W. Kermack and A. McKendrick, [A contribution to the mathematical theory of epidemics](http://alun.math.ncsu.edu/wp-content/uploads/sites/2/2017/01/kermack_27.pdf), Proc. R. Soc., A115 (1927), pp. 700–72\n",
    "- Epirecip [cookbook](http://epirecip.es/epicookbook/) \n",
    "- P-Y Boelle, [La modélisation des épidémies de maladies émergentes](http://www.annales.org/re/2008/re51/Boelle.pdf), Responsabilité & Environnement, N° 51, pp. 49-55, Juillet 2008\n",
    "- Interstices, [Dossier \"épidémies\"](http://images.math.cnrs.fr/+-Epidemies-+.html), mars 2020 (notamment articles de [Corentin Bayette](http://images.math.cnrs.fr/Modelisation-d-une-epidemie-partie-1.html) et de [F Renchenmann](https://interstices.info/modeliser-la-propagation-dune-epidemie/))"
   ]
  }
 ],
 "metadata": {
  "kernelspec": {
   "display_name": "Python 3",
   "language": "python",
   "name": "python3"
  },
  "language_info": {
   "codemirror_mode": {
    "name": "ipython",
    "version": 3
   },
   "file_extension": ".py",
   "mimetype": "text/x-python",
   "name": "python",
   "nbconvert_exporter": "python",
   "pygments_lexer": "ipython3",
   "version": "3.6.9"
  }
 },
 "nbformat": 4,
 "nbformat_minor": 2
}
