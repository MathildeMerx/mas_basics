{
 "cells": [
  {
   "cell_type": "markdown",
   "metadata": {
    "slideshow": {
     "slide_type": "-"
    }
   },
   "source": [
    "# A Multiagent transportation system\n",
    "\n",
    "Auteur : Philippe Mathieu, [CRISTAL Lab](https://www.cristal.univ-lille.fr/), [SMAC Team](https://www.cristal.univ-lille.fr/?rubrique26&id=7), [University of Lille](http://www.univ-lille1.fr), email : philippe.mathieu@univ-lille.fr\n",
    "\n",
    "Contributeurs : Corwin Fèvre (CRISTAL/SMAC , CRISTAL/OSM)\n",
    "\n",
    "Creation : 15/01/2020\n",
    "\n",
    "\n",
    "## Principe général\n",
    "\n",
    "\n",
    "Cette feuille fait suite à [mas_basics_fr.ipynb](mas_basics_fr.ipynb) qui donnait les bases de la construction d'un système multi-agents sur un reseau social.\n",
    "Nous vous montrons ici, comment réaliser une petite simulation d'un système de co-voiturage à l'aide des agents.\n",
    "\n",
    "## Un système séquentiel\n",
    "\n",
    "Dans sa forme la plus simple, un agent est une entité dotée d'une seule\n",
    "capacité, celle de décider quoi faire. Personne ne lui indique ce qu'il doit faire,\n",
    "c'est lui qui décide ! C'est le principe d'**autonomie**. Il suffit juste de lui donner la\n",
    "parole pour qu'il agisse. Lors de sa prise de parole, l'agent réalise sémantiquement 3 étapes différentes : la **perception** de son entourage, la **decision** en fonction de son propre état et de ce qu'il a perçu, puis l'**action** effective qu'il réalise in fine. Idéalement chaque agent ne peut faire qu'une seule action lors de sa prise de parole."
   ]
  },
  {
   "cell_type": "code",
   "execution_count": 289,
   "metadata": {},
   "outputs": [],
   "source": [
    "class Agent:\n",
    "      def __init__(self,name) :\n",
    "          self.name=name\n",
    "        \n",
    "      def decide(self):\n",
    "          print(\"Bonjour ! My name is \"+self.name)"
   ]
  },
  {
   "cell_type": "markdown",
   "metadata": {},
   "source": [
    "Il est bien sûr possible de créer plusieurs agents et de les interroger directement."
   ]
  },
  {
   "cell_type": "code",
   "execution_count": 290,
   "metadata": {},
   "outputs": [
    {
     "name": "stdout",
     "output_type": "stream",
     "text": [
      "Bonjour ! My name is philippe\n",
      "Bonjour ! My name is corwin\n"
     ]
    }
   ],
   "source": [
    "a1 = Agent(\"philippe\")\n",
    "a2 = Agent(\"corwin\")\n",
    "a1.decide()\n",
    "a2.decide()"
   ]
  },
  {
   "cell_type": "markdown",
   "metadata": {},
   "source": [
    "### Le système multiagent séquentiel\n",
    "\n",
    "Bien évidemment, un système multi-agent utilise des dizaines voire des\n",
    "milliers d'agents. Il est alors necessaire de créer une classe\n",
    "permettant de les manager. En général la méthode qui lance la\n",
    "simulation se nomme `run` et prend en paramètre le nombre de prises de\n",
    "paroles.\n",
    "Afin d'assurer le principe d'**équité** on s'assure que chaque agent a\n",
    "au moins une fois la parole avant qu'un autre agent ne l'ait deux\n",
    "fois. On s'appuie pour cela sur la notion de tour de parole. Chaque tour de\n",
    "parole donne aléatoirement la parole à l'ensemble des agents, avant de\n",
    "recommencer. Un tour de parole constitue sémantiquement une unité de temps, un tick d'horloge. La classe SMA s'écrit :\n"
   ]
  },
  {
   "cell_type": "code",
   "execution_count": 291,
   "metadata": {},
   "outputs": [],
   "source": [
    "import random\n",
    "class SMA:\n",
    "      def __init__(self):\n",
    "        self.tick=0\n",
    "        self.resetTicks()\n",
    "        self.agentList = []\n",
    "\n",
    "      def resetTicks(self):\n",
    "          tick=0\n",
    "          \n",
    "      def addAgent(self,ag):\n",
    "          self.agentList.append(ag)\n",
    " \n",
    "      def run(self,rounds):\n",
    "          for i in range(0,rounds):\n",
    "              self.runOnce()\n",
    "\n",
    "      def runOnce(self):\n",
    "          self.tick+=1\n",
    "          random.shuffle(self.agentList)\n",
    "          for ag in self.agentList :\n",
    "              ag.decide()\n",
    "          print(\"tick \"+str(self.tick)+\" ended\")"
   ]
  },
  {
   "cell_type": "code",
   "execution_count": 292,
   "metadata": {},
   "outputs": [
    {
     "name": "stdout",
     "output_type": "stream",
     "text": [
      "Bonjour ! My name is paul\n",
      "Bonjour ! My name is kim\n",
      "tick 1 ended\n",
      "Bonjour ! My name is paul\n",
      "Bonjour ! My name is kim\n",
      "tick 2 ended\n",
      "Bonjour ! My name is kim\n",
      "Bonjour ! My name is paul\n",
      "tick 3 ended\n",
      "Bonjour ! My name is paul\n",
      "Bonjour ! My name is kim\n",
      "tick 4 ended\n",
      "Bonjour ! My name is kim\n",
      "Bonjour ! My name is paul\n",
      "tick 5 ended\n",
      "Bonjour ! My name is paul\n",
      "Bonjour ! My name is kim\n",
      "tick 6 ended\n"
     ]
    }
   ],
   "source": [
    "sma = SMA()\n",
    "sma.addAgent(Agent(\"paul\"))\n",
    "sma.addAgent(Agent(\"kim\"))\n",
    "sma.run(6)"
   ]
  },
  {
   "cell_type": "markdown",
   "metadata": {},
   "source": [
    "### La simultanéïté\n",
    "\n",
    "Le système séquentiel présenté précédemment possède des avantages mais aussi des inconvénients. Parmi ses avanatages, il y a bien évidemment sa simplicité. Il possède néanmoins un inconvénient lié au fait que comme un agent agit dès qu'il le peut (dans sa méthode `decide`), deux agents évalués consécutivement ne sont donc pas face au même état de l'environnement.\n",
    "\n",
    "Prenons un simple exemple d'agents qui raisonnent sur le nombre d'appels total qu'il y a eu à une des méthodes `decide`. Chacun incrémente ce nombre d'appel global, mais aucun d'entre eux ne perçoit la même valeur.\n"
   ]
  },
  {
   "cell_type": "code",
   "execution_count": 293,
   "metadata": {},
   "outputs": [
    {
     "name": "stdout",
     "output_type": "stream",
     "text": [
      "Je suis  Kim et je pense que le nombre global est  1\n",
      "Je suis  Paul et je pense que le nombre global est  2\n",
      "Je suis  Lisa et je pense que le nombre global est  3\n",
      "tick 1 ended\n",
      "Je suis  Kim et je pense que le nombre global est  4\n",
      "Je suis  Paul et je pense que le nombre global est  5\n",
      "Je suis  Lisa et je pense que le nombre global est  6\n",
      "tick 2 ended\n",
      "Je suis  Kim et je pense que le nombre global est  7\n",
      "Je suis  Paul et je pense que le nombre global est  8\n",
      "Je suis  Lisa et je pense que le nombre global est  9\n",
      "tick 3 ended\n",
      "Je suis  Kim et je pense que le nombre global est  10\n",
      "Je suis  Paul et je pense que le nombre global est  11\n",
      "Je suis  Lisa et je pense que le nombre global est  12\n",
      "tick 4 ended\n",
      "Je suis  Lisa et je pense que le nombre global est  13\n",
      "Je suis  Paul et je pense que le nombre global est  14\n",
      "Je suis  Kim et je pense que le nombre global est  15\n",
      "tick 5 ended\n",
      "Je suis  Lisa et je pense que le nombre global est  16\n",
      "Je suis  Kim et je pense que le nombre global est  17\n",
      "Je suis  Paul et je pense que le nombre global est  18\n",
      "tick 6 ended\n"
     ]
    }
   ],
   "source": [
    "global_calls = 0\n",
    "\n",
    "class Agent:\n",
    "    def __init__(self,name) :\n",
    "        self.name=name\n",
    "            \n",
    "    def decide(self):\n",
    "        global global_calls\n",
    "        global_calls += 1\n",
    "        print(\"Je suis \",self.name, \"et je pense que le nombre global est \", global_calls) \n",
    "\n",
    "sma = SMA()\n",
    "sma.addAgent(Agent(\"Paul\"))\n",
    "sma.addAgent(Agent(\"Kim\"))\n",
    "sma.addAgent(Agent(\"Lisa\"))\n",
    "sma.run(6)"
   ]
  },
  {
   "cell_type": "markdown",
   "metadata": {},
   "source": [
    "On voir clairement ici la différence de niveau d'information des différents agents au sein d'un même tour de parole.\n",
    "\n",
    "Dans certaines simulations, il est parfois necessaire que, dans un même tour de parole, tous les agents soient face à la même connaissance lors de leur raisonnement. C'est le principe d'équité en raisonnement, ou en d'autres termes, *la simultanéïté* dans l'action (problème similaire à celui des automates cellulaires : dans le célèbre `jeu de la vie`, toutes les cellules changent d'état simultanément).\n",
    "\n",
    "Pour implémenter ce principe de simultanéité, le principe perception-decision-action doit être \"ventilé\". L'agent a alors besoin de 2 méthodes d'accès. La première pour la perception et la décision : `update`  et la seconde pour l'action :`decide`.\n",
    "Le SMA appelle alors `update` chez tous les agents, puis `decide`. La connaissance étant identique pour tous au moment du raisonnement, l'ordre de passage des agents est maintenant indifférent : ils peuvent tous agir dans le même ordre."
   ]
  },
  {
   "cell_type": "code",
   "execution_count": 294,
   "metadata": {},
   "outputs": [],
   "source": [
    "global_calls = 0 \n",
    "\n",
    "class Agent:\n",
    "    def __init__(self,name) :\n",
    "        self.name=name\n",
    "\n",
    "    def update(self) :\n",
    "        global global_calls \n",
    "        global_calls += 1\n",
    "        \n",
    "    def decide(self):\n",
    "        print(\"Je suis \",self.name, \"et je pense que le nombre global est \", global_calls)"
   ]
  },
  {
   "cell_type": "code",
   "execution_count": 295,
   "metadata": {},
   "outputs": [],
   "source": [
    "import random\n",
    "class SMA:\n",
    "    def __init__(self):\n",
    "        self.tick=0\n",
    "        self.resetTicks()\n",
    "        self.agentList = []\n",
    "\n",
    "    def resetTicks(self):\n",
    "        tick=0\n",
    "          \n",
    "    def addAgent(self,ag):\n",
    "        self.agentList.append(ag)\n",
    " \n",
    "    def run(self,rounds):\n",
    "        for i in range(0,rounds):\n",
    "            self.runOnce()\n",
    "\n",
    "    def runOnce(self):\n",
    "        self.tick+=1\n",
    "        for ag in self.agentList :\n",
    "            ag.update()\n",
    "        for ag in self.agentList :\n",
    "            ag.decide()            \n",
    "        print(\"tick \"+str(self.tick)+\" ended\")"
   ]
  },
  {
   "cell_type": "code",
   "execution_count": 296,
   "metadata": {
    "scrolled": true
   },
   "outputs": [
    {
     "name": "stdout",
     "output_type": "stream",
     "text": [
      "Je suis  Paul et je pense que le nombre global est  3\n",
      "Je suis  Kim et je pense que le nombre global est  3\n",
      "Je suis  Lisa et je pense que le nombre global est  3\n",
      "tick 1 ended\n",
      "Je suis  Paul et je pense que le nombre global est  6\n",
      "Je suis  Kim et je pense que le nombre global est  6\n",
      "Je suis  Lisa et je pense que le nombre global est  6\n",
      "tick 2 ended\n",
      "Je suis  Paul et je pense que le nombre global est  9\n",
      "Je suis  Kim et je pense que le nombre global est  9\n",
      "Je suis  Lisa et je pense que le nombre global est  9\n",
      "tick 3 ended\n"
     ]
    }
   ],
   "source": [
    "sma = SMA()\n",
    "sma.addAgent(Agent(\"Paul\"))\n",
    "sma.addAgent(Agent(\"Kim\"))\n",
    "sma.addAgent(Agent(\"Lisa\"))\n",
    "sma.run(3)"
   ]
  },
  {
   "cell_type": "markdown",
   "metadata": {},
   "source": [
    "Cette fois on constate que tous les agents ont eu la même information dans un même tour de parole.\n",
    "\n",
    "La simultanéïté des agents résoud parfois certains problèmes, mais elle possède évidemment un inconvénient majeur. Si les ressources accédées par les agents sont communes, il y a alors risque de conflit, et il faudra alors régler les conflits. C'est pourquoi le principe de simultanéïté n'est utilisé dans les SMA que lorsque c'est vraiment necessaire.\n",
    "\n",
    "Quand des agents `véhicules` circulent sur infrastructure, le SMA leur permet régulièrement d'avancer en fonction de ce qu'ils perçoivent. Dans un tel cas, on comprend aisément que l'ordre de raisonnement des agents devient capital : Si A est devant B et que tous deux sont très proches et à la même vitesse, si A avance en premier, B n'a ensuite aucune difficulté à avancer, tandis que si B avance en premier, l'accident est inévitable. la simultanéïté devient alors impérative.\n",
    "\n"
   ]
  },
  {
   "cell_type": "markdown",
   "metadata": {},
   "source": [
    "# La simulation du trafic\n",
    "\n",
    "A chaque étape, le véhicule suit son itinéraire."
   ]
  },
  {
   "cell_type": "code",
   "execution_count": 1374,
   "metadata": {},
   "outputs": [],
   "source": [
    "import networkx as nx\n",
    "import random as random\n",
    "import matplotlib.pyplot as plt\n",
    "import itertools"
   ]
  },
  {
   "cell_type": "code",
   "execution_count": 1375,
   "metadata": {},
   "outputs": [],
   "source": [
    "class Agent:\n",
    "    def __init__(self, unique_id):\n",
    "        self.is_alive = True\n",
    "        self.unique_id = unique_id\n",
    "        self.is_alive = True\n",
    "    \n",
    "    def update(self) -> None:\n",
    "        pass\n",
    "    \n",
    "    def decide(self) -> None:\n",
    "        pass"
   ]
  },
  {
   "cell_type": "code",
   "execution_count": 1376,
   "metadata": {},
   "outputs": [],
   "source": [
    "class DriverAgent(Agent):\n",
    "    def __init__(self, unique_id, trip):\n",
    "        super().__init__(unique_id)\n",
    "        self.trip = trip\n",
    "    def update(self) :\n",
    "        pass\n",
    "    def decide(self) :\n",
    "        if len(self.trip)>0:\n",
    "            self.trip.pop(0)\n",
    "        else :\n",
    "            self.is_alive = False\n",
    "            "
   ]
  },
  {
   "cell_type": "code",
   "execution_count": 1415,
   "metadata": {},
   "outputs": [],
   "source": [
    "class RiderAgent(Agent):\n",
    "    def __init__(self, unique_id, v_dep, v_arr):\n",
    "        super().__init__(unique_id)\n",
    "        self.v_r = v_dep\n",
    "        self.v_arr = v_arr\n",
    "        self.Av = {self.v_r}\n",
    "        self.Ats = dict()\n",
    "        self.Ats[self.v_r]={'distance':0}\n",
    "        self.Ad = []\n",
    "        self.G_ts = None\n",
    "        \n",
    "    def generate_transition_graph(self):\n",
    "        G_ts = nx.MultiDiGraph()\n",
    "        print(self.Ats)\n",
    "        for ats, val in self.Ats.items():\n",
    "            print(ats, val)\n",
    "            #print(ats)\n",
    "            G_ts.add_node(ats, distance=val['distance'])\n",
    "            print(G_ts.nodes())\n",
    "            for ad in self.Ad[ats]:\n",
    "                #si le parcours est faisable\n",
    "                d_time_left = ad[2]\n",
    "                r_time_left = self.Ats[ats]['distance']\n",
    "                d_subtrip_size = len(ad[1]) - 1\n",
    "                if d_time_left >= r_time_left :\n",
    "                    #id_d = ad[0]\n",
    "                    #TODO il va falloir split : 1 noeuds jusqu'a une contribution positive puis un pour la suite\n",
    "                    new_node = ad[1][-1]\n",
    "                    \n",
    "                    #dist : nombres de ticks minimum necessaires pour atteindre un noeuds\n",
    "                    if r_time_left == 0 :\n",
    "                        dist = d_time_left + d_subtrip_size\n",
    "                    else :\n",
    "                        dist = ((d_time_left + r_time_left) - (d_time_left - r_time_left)) + d_subtrip_size\n",
    "                        \n",
    "                    if G_ts.has_node(new_node):\n",
    "                        if (dist < G_ts.nodes[new_node]['distance']):\n",
    "                            G_ts.nodes[new_node]['distance'] = dist\n",
    "                    else :\n",
    "                        G_ts.add_node(new_node, distance=dist)\n",
    "                        \n",
    "                    contrib = nx.shortest_path_length(sma.graph, source=ats, target=self.v_arr) - nx.shortest_path_length(sma.graph, source=new_node, target=self.v_arr)\n",
    "                    delay = d_time_left - r_time_left\n",
    "                    G_ts.add_edge(ats, new_node, d=ad, contrib=contrib, delay=delay)\n",
    "                    \n",
    "        self.G_ts = G_ts\n",
    "        return G_ts\n",
    "    \n",
    "    \n",
    "#     def generate_transition_graph_v3(self):\n",
    "#         G_ts = nx.MultiDiGraph()\n",
    "        \n",
    "#         #On ajoute les noeuds ou il y a eu un match ainsi que le noeuds d'arrivé \n",
    "#         for node, ads in self.Ad.items():\n",
    "#             if !G_ts.has_node(node):\n",
    "#                 G_ts.add_node(node, distance=None)\n",
    "                \n",
    "#             for ad in ads :\n",
    "#                 subtrip = ad[1]\n",
    "#                 last_visited_node = node\n",
    "#                 for trip_node in subtrip:\n",
    "#                     if (last_visited_node == node and trip_node == subtrip[-1]) or\n",
    "#                     (trip_node in self.Ad.keys()):\n",
    "#                         if !G_ts.has_node(trip_node):\n",
    "#                             G_ts.add_node(trip_node, distance=None)\n",
    "#                         G_ts.add_edge(node, trip_node, d=d, )\n",
    "                        \n",
    "                    \n",
    "#                 end_node = subtrip[-1]\n",
    "#                 last_visited_node = end_node\n",
    "                \n",
    "#                 contrib = nx.shortest_path_length(sma.graph, source=node, target=self.v_arr) - nx.shortest_path_length(sma.graph, source=end_node, target=self.v_arr)\n",
    "#                 if !G_ts.has_node(end_node):\n",
    "#                     G_ts.add_node(node, distance=None)\n",
    "                    \n",
    "#                 for i in range(len(subtrip)):\n",
    "                    \n",
    "                    \n",
    "                    \n",
    "#                 end_node = subtrip[-1]\n",
    "#                 contrib = nx.shortest_path_length(sma.graph, source=node, target=self.v_arr) - nx.shortest_path_length(sma.graph, source=end_node, target=self.v_arr)\n",
    "#                 if end_node\n",
    "            \n",
    "            \n",
    "            \n",
    "            \n",
    "        \n",
    "#             for ad in ads :\n",
    "#                 next_node = ad[1][1]\n",
    "#                 if next_node != v_r:\n",
    "#                     if (!G_ts.has_node(next_node)):\n",
    "#                         G_ts.add_node(next_node, distance=None)\n",
    "#                     contrib = nx.shortest_path_length(sma.graph, source=node, target=self.v_arr) - nx.shortest_path_length(sma.graph, source=new_node, target=self.v_arr)\n",
    "#                     G_ts.add_edge(node,next_node, d=ad, contrib=contrib, delay=None)\n",
    "            \n",
    "#         #on verifie que tout les noeuds matchés sont réalisable en temps et on mets à jour leur distance\n",
    "#         G_ts.nodes[self.v_r]['distance']=0\n",
    "#         G_ts.pred\n",
    "                \n",
    "        \n",
    "                    \n",
    "               \n",
    "                \n",
    "            \n",
    "            \n",
    "#     def get_distance(self, node):\n",
    "    \n",
    "    \n",
    "    \n",
    "#         return distance\n",
    "    \n",
    "                    \n",
    "    def best_driver_contrib_and_wait(self):\n",
    "        scores_paths = dict()\n",
    "        cur_node = self.v_r\n",
    "        print(cur_node)\n",
    "        other_nodes = [node for node in list(self.G_ts.nodes()) if node != cur_node]\n",
    "        paths = nx.all_simple_paths(self.G_ts, source=cur_node, target=other_nodes)\n",
    "\n",
    "        #heuristique : suivre le chemin qui rapporte le plus de cases le plus rapidement possible\n",
    "        for path in paths :\n",
    "            id_d = None\n",
    "            score_path = 0\n",
    "            print(path)\n",
    "            for i in range(len(path)):\n",
    "\n",
    "                if i+1<len(path):\n",
    "                    data = self.G_ts.get_edge_data(path[i], path[i+1])\n",
    "                    print(data)\n",
    "\n",
    "                    #si il y a plusieurs arretes menants au meme noeuds\n",
    "\n",
    "                    best_score = None\n",
    "                    #on est dans un multigraph, donc on prends la meilleur edge\n",
    "                    for j in range(len(data)):\n",
    "                        cur_score = data[j]['contrib'] - data[j]['delay']\n",
    "                        if best_score == None or best_score < cur_score:\n",
    "                            best_score = cur_score\n",
    "                            if i==0 :\n",
    "                                id_d = data[j]['d'][0]\n",
    "\n",
    "                    score_path += best_score                   \n",
    "\n",
    "                else :\n",
    "                    break\n",
    "\n",
    "            scores_paths[id_d]=score_path\n",
    "        bests_d = [key for m in [max(scores_paths.values())] for key,val in scores_paths.items() if val == m]\n",
    "        random.shuffle(bests_d)\n",
    "        print(bests_d)\n",
    "        \n",
    "        for d in sma.agentList[0].Ad[cur_node]:\n",
    "            if d[0] in bests_d:\n",
    "                return(d)\n",
    "            \n",
    "        print(\"Problème ou meilleur conducteur a venir? Pas de conducteur trouvé\")\n",
    "        return None\n",
    "\n",
    "    \n",
    "    \n",
    "    \n",
    "    \n",
    "        \n",
    "    def update(self):\n",
    "        self.Ad = sma.get_rider_matched_drivers(self.Ats)\n",
    "        G_ts = self.generate_transition_graph()\n",
    "        cur_node = self.v_r\n",
    "        other_nodes = [node for node in list(self.G_ts.nodes()) if node != cur_node]\n",
    "        #decision ici:\n",
    "        \n",
    "        \n",
    "        #si véhicule présent direct alors on effectue heuritique sinon reste sur son noeud et comportement dif\n",
    "        #manque un if ici\n",
    "        best_driver = self.best_driver_contrib_and_wait()\n",
    "        #v_r = nouveau noeuds\n",
    "        #après decision\n",
    "        \n",
    "        new_node = best_driver[1][1]\n",
    "        self.v_r=new_node\n",
    "        #on ecrase l'ancien noeud\n",
    "        nx.relabel_nodes(G_ts, {cur_node:new_node}, copy=False)\n",
    "        #G_ts.node[new_node] = G_ts[cur_node]\n",
    "        print(G_ts.node[new_node])\n",
    "        #G_ts.add_edge(new_node, best_driver[1][-1])\n",
    "        #G_ts.remove_node(cur_node)\n",
    "        Av = {new_node}\n",
    "        blacklist = {cur_node}\n",
    "        self.Ats = dict()\n",
    "        self.Ats[new_node] = {'distance':0}\n",
    "        for node in other_nodes:\n",
    "            if nx.has_path(G_ts,new_node,node):\n",
    "                G_ts.node[node]['distance'] = G_ts.node[node]['distance'] - 1\n",
    "                self.Ats[node] = {'distance': G_ts.node[node]['distance']}\n",
    "                edge_data = self.G_ts.get_edge_data(new_node,node)\n",
    "                #print(data)\n",
    "\n",
    "                    #si il y a plusieurs arretes menants au meme noeuds\n",
    "                    #on est dans un multigraph, donc on prends la meilleur edge\n",
    "                for j in range(len(data)): \n",
    "                    print(edge_data[j])\n",
    "                    d = edge_data[j]['d']\n",
    "                    self.Av.union(set(d[1]))\n",
    "                \n",
    "            else :\n",
    "                blacklist.add(node)\n",
    "                G_ts.remove_node(node)\n",
    "                \n",
    "        #clean\n",
    "        #self.G_ts.remove_node(cur_node)\n",
    "        self.Av.difference(blacklist)\n",
    "        print(self.Ats)\n",
    " \n",
    "    def decide(self):\n",
    "        pass"
   ]
  },
  {
   "cell_type": "code",
   "execution_count": 1416,
   "metadata": {},
   "outputs": [],
   "source": [
    "\n",
    "#     def generate_transition_graph_v2(self):\n",
    "#         G_ts = nx.MultiDiGraph()\n",
    "#         print(self.Ats)\n",
    "#         for ats, val in self.Ats.items():\n",
    "#             print(ats, val)\n",
    "#             #print(ats)\n",
    "#             G_ts.add_node(ats, distance=val['distance'])\n",
    "#             print(G_ts.nodes())\n",
    "#             for ad in self.Ad[ats]:\n",
    "#                 #si le parcours est faisable\n",
    "#                 d_time_left = ad[2]\n",
    "#                 r_time_left = self.Ats[ats]['distance']\n",
    "#                 d_subtrip = ad[1]\n",
    "#                 d_subtrip_size = len(ad[1]) - 1\n",
    "#                 if d_time_left >= r_time_left :\n",
    "#                     #id_d = ad[0]\n",
    "#                     #TODO il va falloir split : 1 noeuds jusqu'a une contribution positive puis un pour la suite\n",
    "#                     new_node = ad[1][-1]\n",
    "                    \n",
    "#                     #dist : nombres de ticks minimum necessaires pour atteindre un noeuds\n",
    "#                     if r_time_left == 0 :\n",
    "#                         dist = d_time_left + d_subtrip_size\n",
    "#                     else :\n",
    "#                         dist = ((d_time_left + r_time_left) - (d_time_left - r_time_left)) + d_subtrip_size\n",
    "                        \n",
    "#                     if G_ts.has_node(new_node):\n",
    "#                         if (dist < G_ts.nodes[new_node]['distance']):\n",
    "#                             G_ts.nodes[new_node]['distance'] = dist\n",
    "#                     else :\n",
    "#                         G_ts.add_node(new_node, distance=dist)\n",
    "                        \n",
    "#                     #on prends tout les noeuds sauf le premier et le dernier\n",
    "#                     for node in ad[1][1:-1]:\n",
    "#                         if node in self.Ad.keys():\n",
    "#                             or_time_left = G_ts[ats]['distance'] + ad[1].index(node)\n",
    "#                             for od in self.Ad[node]:\n",
    "#                                 od_time_left = od[2]\n",
    "#                                 d_subtrip = od[1]\n",
    "#                                 d_subtrip_size = len(od[1]) - 1\n",
    "#                                 if d_time_left >= r_time_left :\n",
    "#                                     #id_d = ad[0]\n",
    "#                                     #TODO il va falloir split : 1 noeuds jusqu'a une contribution positive puis un pour la suite\n",
    "#                                     new_node = ad[1][-1]\n",
    "\n",
    "#                                     #dist : nombres de ticks minimum necessaires pour atteindre un noeuds\n",
    "#                                     if r_time_left == 0 :\n",
    "#                                         dist = d_time_left + d_subtrip_size\n",
    "#                                     else :\n",
    "#                                         dist = ((d_time_left + r_time_left) - (d_time_left - r_time_left)) + d_subtrip_size\n",
    "\n",
    "#                                     if G_ts.has_node(new_node):\n",
    "#                                         if (dist < G_ts.nodes[new_node]['distance']):\n",
    "#                                             G_ts.nodes[new_node]['distance'] = dist\n",
    "#                                     else :\n",
    "#                                         G_ts.add_node(new_node, distance=dist)\n",
    "                                \n",
    "                        \n",
    "#                     contrib = nx.shortest_path_length(sma.graph, source=ats, target=self.v_arr) - nx.shortest_path_length(sma.graph, source=new_node, target=self.v_arr)\n",
    "#                     delay = d_time_left - r_time_left\n",
    "#                     G_ts.add_edge(ats, new_node, d=ad, contrib=contrib, delay=delay)\n",
    "                    \n",
    "#         self.G_ts = G_ts\n",
    "#         return G_ts"
   ]
  },
  {
   "cell_type": "code",
   "execution_count": 1417,
   "metadata": {},
   "outputs": [],
   "source": [
    "class SMA:\n",
    "    def __init__(self, agentList, graph):\n",
    "        self.tick = 0\n",
    "        self.agentList = agentList\n",
    "        self.drivers_nodes_tracker = dict()\n",
    "        self.graph = graph\n",
    "    \n",
    "    #ces méthodes ne doivent pas être là mais je ne sais pas ou les mettre autrement, ça permet d'éviter\n",
    "    #de faire plein de demande de match au drivers, on regarde une fois qui match avec quoi avec update_nodes_tracker\n",
    "    #puis ensuite il suffit d'acceder au dictionnaire avec get_rider_matched_drivers\n",
    "    \n",
    "    \n",
    "    def update_nodes_tracker(self):\n",
    "        drivers = [agent for agent in self.agentList if (agent.__class__.__name__ == \"DriverAgent\")]\n",
    "        \n",
    "        for node in list(self.graph.nodes()):\n",
    "            self.drivers_nodes_tracker[node] = list()\n",
    "            \n",
    "        for key in list(self.drivers_nodes_tracker.keys()):\n",
    "            for driver in drivers :   \n",
    "                if key in driver.trip:\n",
    "                    m_idx = driver.trip.index(key)\n",
    "                    sub_trip = driver.trip[m_idx:]\n",
    "                    #on verifie que le noeud de transition n'est pas l'arrive du conducteur\n",
    "                    if len(sub_trip) > 1:\n",
    "                        self.drivers_nodes_tracker[key].append((driver.unique_id, driver.trip[m_idx:], m_idx))\n",
    "        print(\"\\n driver node tracker :\", self.drivers_nodes_tracker)\n",
    "        \n",
    "        \n",
    "    def get_rider_matched_drivers(self, Av):\n",
    "        Ad = dict()\n",
    "        for av in Av:\n",
    "            Ad[av] = self.drivers_nodes_tracker[av]\n",
    "        \n",
    "        print(\"\\n ad :\", Ad)\n",
    "        return Ad\n",
    "        \n",
    "        \n",
    "    def run(self, rounds):\n",
    "        for i in range(0,rounds):\n",
    "            self.runOnce()\n",
    "\n",
    "    def runOnce(self):\n",
    "        self.tick += 1\n",
    "        \n",
    "        #on nettoie la liste des agents\n",
    "        for a in agentList :\n",
    "            if a.is_alive == False:\n",
    "                agentList.remove(a) \n",
    "            \n",
    "        self.update_nodes_tracker()\n",
    "        for agent in self.agentList:\n",
    "            agent.update()\n",
    "            agent.decide()\n",
    "        print(\"tick \" + str(self.tick) + \" ended\")"
   ]
  },
  {
   "cell_type": "code",
   "execution_count": 1418,
   "metadata": {},
   "outputs": [
    {
     "data": {
      "text/plain": [
       "[4]"
      ]
     },
     "execution_count": 1418,
     "metadata": {},
     "output_type": "execute_result"
    }
   ],
   "source": [
    "a = list((1,2,3,4))\n",
    "a[3:]"
   ]
  },
  {
   "cell_type": "code",
   "execution_count": 1419,
   "metadata": {},
   "outputs": [
    {
     "data": {
      "image/png": "[encoded data removed]",
      "text/plain": [
       "<Figure size 720x720 with 1 Axes>"
      ]
     },
     "metadata": {},
     "output_type": "display_data"
    }
   ],
   "source": [
    "graph = nx.grid_2d_graph(4,4)\n",
    "\n",
    "\n",
    "plt.figure(figsize=(10,10))    # pour définir la taille de la figure\n",
    "pos = nx.planar_layout(graph)\n",
    "nx.draw_networkx(graph,pos=pos,edge_color='black',width=1,linewidths=1,node_size=800,node_color='pink',alpha=0.9)\n",
    "plt.axis('off')\n",
    "plt.show()\n"
   ]
  },
  {
   "cell_type": "code",
   "execution_count": 1429,
   "metadata": {},
   "outputs": [
    {
     "name": "stdout",
     "output_type": "stream",
     "text": [
      "[(1, 3), (1, 2), (1, 1), (1, 0)]\n",
      "\n",
      " trip1: [(1, 3), (1, 2), (1, 1), (1, 0), (2, 0)] \n",
      " trip2: [(1, 3), (1, 2), (1, 1), (1, 0)] \n",
      " trip3: [(1, 0), (1, 1), (1, 2), (1, 3), (2, 3)] \n",
      " trip4: [(2, 2), (1, 2), (0, 2), (1, 1)] \n",
      " trip5: [(3, 2), (2, 2), (2, 3), (1, 3), (0, 3), (0, 2)]\n"
     ]
    }
   ],
   "source": [
    "node_list = list(graph.nodes)\n",
    "trip1 = nx.shortest_path( graph, random.choice(node_list), random.choice(node_list))\n",
    "trip2 = nx.shortest_path( graph, (1, 3), (1, 0))\n",
    "print(trip2)\n",
    "trip3 = nx.shortest_path( graph, (1, 0), (2, 3))\n",
    "trip4 = list(((2,2),(1,2),(0,2),(1,1)))\n",
    "trip5 = list(((3,2),(2,2),(2,3),(1,3),(0,3),(0,2)))\n",
    "print(\"\\n trip1:\",trip1,\"\\n trip2:\",trip2,\"\\n trip3:\",trip3,\"\\n trip4:\",trip4, \"\\n trip5:\",trip5 )"
   ]
  },
  {
   "cell_type": "code",
   "execution_count": 1430,
   "metadata": {},
   "outputs": [
    {
     "name": "stdout",
     "output_type": "stream",
     "text": [
      "\n",
      " driver node tracker : {(0, 0): [], (0, 1): [], (0, 2): [(4, [(0, 2), (1, 1)], 2)], (0, 3): [(5, [(0, 3), (0, 2)], 4)], (1, 0): [(1, [(1, 0), (2, 0)], 3), (3, [(1, 0), (1, 1), (1, 2), (1, 3), (2, 3)], 0)], (1, 1): [(1, [(1, 1), (1, 0), (2, 0)], 2), (2, [(1, 1), (1, 0)], 2), (3, [(1, 1), (1, 2), (1, 3), (2, 3)], 1)], (1, 2): [(1, [(1, 2), (1, 1), (1, 0), (2, 0)], 1), (2, [(1, 2), (1, 1), (1, 0)], 1), (3, [(1, 2), (1, 3), (2, 3)], 2), (4, [(1, 2), (0, 2), (1, 1)], 1)], (1, 3): [(1, [(1, 3), (1, 2), (1, 1), (1, 0), (2, 0)], 0), (2, [(1, 3), (1, 2), (1, 1), (1, 0)], 0), (3, [(1, 3), (2, 3)], 3), (5, [(1, 3), (0, 3), (0, 2)], 3)], (2, 0): [], (2, 1): [], (2, 2): [(4, [(2, 2), (1, 2), (0, 2), (1, 1)], 0), (5, [(2, 2), (2, 3), (1, 3), (0, 3), (0, 2)], 1)], (2, 3): [(5, [(2, 3), (1, 3), (0, 3), (0, 2)], 2)], (3, 0): [], (3, 1): [], (3, 2): [(5, [(3, 2), (2, 2), (2, 3), (1, 3), (0, 3), (0, 2)], 0)], (3, 3): []}\n",
      "\n",
      " ad : {(1, 1): [(1, [(1, 1), (1, 0), (2, 0)], 2), (2, [(1, 1), (1, 0)], 2), (3, [(1, 1), (1, 2), (1, 3), (2, 3)], 1)]}\n",
      "{(1, 1): {'distance': 0}}\n",
      "(1, 1) {'distance': 0}\n",
      "[(1, 1)]\n",
      "(1, 1)\n",
      "[(1, 1), (2, 0)]\n",
      "{0: {'d': (1, [(1, 1), (1, 0), (2, 0)], 2), 'contrib': -2, 'delay': 2}}\n",
      "[(1, 1), (1, 0)]\n",
      "{0: {'d': (2, [(1, 1), (1, 0)], 2), 'contrib': -1, 'delay': 2}}\n",
      "[(1, 1), (2, 3)]\n",
      "{0: {'d': (3, [(1, 1), (1, 2), (1, 3), (2, 3)], 1), 'contrib': 1, 'delay': 1}}\n",
      "[3]\n",
      "{'distance': 0}\n",
      "{'d': (1, [(1, 1), (1, 0), (2, 0)], 2), 'contrib': -2, 'delay': 2}\n",
      "{'d': (2, [(1, 1), (1, 0)], 2), 'contrib': -1, 'delay': 2}\n",
      "{'d': (3, [(1, 1), (1, 2), (1, 3), (2, 3)], 1), 'contrib': 1, 'delay': 1}\n",
      "{(1, 2): {'distance': 0}, (2, 0): {'distance': 3}, (1, 0): {'distance': 2}, (2, 3): {'distance': 3}}\n",
      "tick 1 ended\n"
     ]
    }
   ],
   "source": [
    "agentList = [RiderAgent(0,(1, 1),(1, 3)), DriverAgent(1, trip1), DriverAgent(2, trip2), DriverAgent(3, trip3), DriverAgent(4, trip4), DriverAgent(5, trip5)]\n",
    "sma = SMA(agentList, graph)\n",
    "sma.runOnce()\n"
   ]
  },
  {
   "cell_type": "code",
   "execution_count": 1431,
   "metadata": {},
   "outputs": [
    {
     "data": {
      "image/png": "[encoded data removed]",
      "text/plain": [
       "<Figure size 720x720 with 1 Axes>"
      ]
     },
     "metadata": {},
     "output_type": "display_data"
    },
    {
     "name": "stdout",
     "output_type": "stream",
     "text": [
      "{(2, 0): 3, (1, 0): 2, (2, 3): 3, (1, 2): 0}\n"
     ]
    }
   ],
   "source": [
    "import matplotlib.pyplot as plt\n",
    "\n",
    "plt.figure(figsize=(10,10))    # pour définir la taille de la figure\n",
    "G_ts = sma.agentList[0].G_ts\n",
    "pos = nx.spring_layout(G_ts)\n",
    "#labels = nx.get_node_attributes(G_ts, 'distance') \n",
    "nx.draw_networkx(G_ts,pos=pos, edge_color='black',width=1,linewidths=1,node_size=1500,node_color='pink',alpha=0.9)\n",
    "nx.draw_networkx_edge_labels(G_ts,pos=pos)\n",
    "#nx.draw_networkx_labels(G_ts,pos=nx.spring_layout(G_ts),labels=labels)\n",
    "plt.axis('off')\n",
    "plt.show()\n",
    "print( nx.get_node_attributes(G_ts, 'distance') )"
   ]
  },
  {
   "cell_type": "code",
   "execution_count": 1432,
   "metadata": {},
   "outputs": [
    {
     "name": "stdout",
     "output_type": "stream",
     "text": [
      "\n",
      " driver node tracker : {(0, 0): [], (0, 1): [], (0, 2): [(4, [(0, 2), (1, 1)], 1)], (0, 3): [(5, [(0, 3), (0, 2)], 3)], (1, 0): [(1, [(1, 0), (2, 0)], 2)], (1, 1): [(1, [(1, 1), (1, 0), (2, 0)], 1), (2, [(1, 1), (1, 0)], 1), (3, [(1, 1), (1, 2), (1, 3), (2, 3)], 0)], (1, 2): [(1, [(1, 2), (1, 1), (1, 0), (2, 0)], 0), (2, [(1, 2), (1, 1), (1, 0)], 0), (3, [(1, 2), (1, 3), (2, 3)], 1), (4, [(1, 2), (0, 2), (1, 1)], 0)], (1, 3): [(3, [(1, 3), (2, 3)], 2), (5, [(1, 3), (0, 3), (0, 2)], 2)], (2, 0): [], (2, 1): [], (2, 2): [(5, [(2, 2), (2, 3), (1, 3), (0, 3), (0, 2)], 0)], (2, 3): [(5, [(2, 3), (1, 3), (0, 3), (0, 2)], 1)], (3, 0): [], (3, 1): [], (3, 2): [], (3, 3): []}\n",
      "\n",
      " ad : {(1, 2): [(1, [(1, 2), (1, 1), (1, 0), (2, 0)], 0), (2, [(1, 2), (1, 1), (1, 0)], 0), (3, [(1, 2), (1, 3), (2, 3)], 1), (4, [(1, 2), (0, 2), (1, 1)], 0)], (2, 0): [], (1, 0): [(1, [(1, 0), (2, 0)], 2)], (2, 3): [(5, [(2, 3), (1, 3), (0, 3), (0, 2)], 1)]}\n",
      "{(1, 2): {'distance': 0}, (2, 0): {'distance': 3}, (1, 0): {'distance': 2}, (2, 3): {'distance': 3}}\n",
      "(1, 2) {'distance': 0}\n",
      "[(1, 2)]\n",
      "(2, 0) {'distance': 3}\n",
      "[(1, 2), (2, 0), (1, 0), (2, 3), (1, 1)]\n",
      "(1, 0) {'distance': 2}\n",
      "[(1, 2), (2, 0), (1, 0), (2, 3), (1, 1)]\n",
      "(2, 3) {'distance': 3}\n",
      "[(1, 2), (2, 0), (1, 0), (2, 3), (1, 1)]\n",
      "(1, 2)\n",
      "[(1, 2), (2, 0)]\n",
      "{0: {'d': (1, [(1, 2), (1, 1), (1, 0), (2, 0)], 0), 'contrib': -3, 'delay': 0}}\n",
      "[(1, 2), (1, 0)]\n",
      "{0: {'d': (2, [(1, 2), (1, 1), (1, 0)], 0), 'contrib': -2, 'delay': 0}}\n",
      "[(1, 2), (1, 0), (2, 0)]\n",
      "{0: {'d': (2, [(1, 2), (1, 1), (1, 0)], 0), 'contrib': -2, 'delay': 0}}\n",
      "{0: {'d': (1, [(1, 0), (2, 0)], 2), 'contrib': -1, 'delay': 0}}\n",
      "[(1, 2), (2, 3)]\n",
      "{0: {'d': (3, [(1, 2), (1, 3), (2, 3)], 1), 'contrib': 0, 'delay': 1}}\n",
      "[(1, 2), (1, 1)]\n",
      "{0: {'d': (4, [(1, 2), (0, 2), (1, 1)], 0), 'contrib': -1, 'delay': 0}}\n",
      "[4, 3]\n",
      "{'distance': 0}\n",
      "{'d': (1, [(1, 2), (1, 1), (1, 0), (2, 0)], 0), 'contrib': -3, 'delay': 0}\n",
      "{'d': (2, [(1, 2), (1, 1), (1, 0)], 0), 'contrib': -2, 'delay': 0}\n",
      "{'d': (3, [(1, 2), (1, 3), (2, 3)], 1), 'contrib': 0, 'delay': 1}\n",
      "{'d': (4, [(1, 2), (0, 2), (1, 1)], 0), 'contrib': -1, 'delay': 0}\n",
      "{(1, 3): {'distance': 0}, (2, 0): {'distance': 2}, (1, 0): {'distance': 1}, (2, 3): {'distance': 2}, (1, 1): {'distance': 1}}\n",
      "tick 2 ended\n"
     ]
    }
   ],
   "source": [
    "sma.runOnce()"
   ]
  },
  {
   "cell_type": "code",
   "execution_count": 1433,
   "metadata": {},
   "outputs": [
    {
     "data": {
      "image/png": "[encoded data removed]",
      "text/plain": [
       "<Figure size 720x720 with 1 Axes>"
      ]
     },
     "metadata": {},
     "output_type": "display_data"
    }
   ],
   "source": [
    "import matplotlib.pyplot as plt\n",
    "\n",
    "plt.figure(figsize=(10,10))    # pour définir la taille de la figure\n",
    "G_ts = sma.agentList[0].G_ts\n",
    "pos = nx.spring_layout(G_ts)\n",
    "nx.draw_networkx(G_ts,pos=pos,edge_color='black',width=1,linewidths=1,node_size=800,node_color='pink',alpha=0.9)\n",
    "nx.draw_networkx_edge_labels(G_ts,pos=pos)\n",
    "plt.axis('off')\n",
    "plt.show()\n"
   ]
  },
  {
   "cell_type": "markdown",
   "metadata": {},
   "source": [
    "Il a l'air de bien arriver à (1,3) donc ça marche pas trop mal, l'affichage est pourri par contre..."
   ]
  },
  {
   "cell_type": "code",
   "execution_count": 1425,
   "metadata": {},
   "outputs": [
    {
     "ename": "ValueError",
     "evalue": "max() arg is an empty sequence",
     "output_type": "error",
     "traceback": [
      "\u001b[0;31m---------------------------------------------------------------------------\u001b[0m",
      "\u001b[0;31mValueError\u001b[0m                                Traceback (most recent call last)",
      "\u001b[0;32m<ipython-input-1425-33130bf39575>\u001b[0m in \u001b[0;36m<module>\u001b[0;34m\u001b[0m\n\u001b[1;32m     40\u001b[0m \u001b[0;34m\u001b[0m\u001b[0m\n\u001b[1;32m     41\u001b[0m         \u001b[0mscores_paths\u001b[0m\u001b[0;34m[\u001b[0m\u001b[0mid_d\u001b[0m\u001b[0;34m]\u001b[0m\u001b[0;34m=\u001b[0m\u001b[0mscore_path\u001b[0m\u001b[0;34m\u001b[0m\u001b[0;34m\u001b[0m\u001b[0m\n\u001b[0;32m---> 42\u001b[0;31m \u001b[0mbests_d\u001b[0m \u001b[0;34m=\u001b[0m \u001b[0;34m[\u001b[0m\u001b[0mkey\u001b[0m \u001b[0;32mfor\u001b[0m \u001b[0mm\u001b[0m \u001b[0;32min\u001b[0m \u001b[0;34m[\u001b[0m\u001b[0mmax\u001b[0m\u001b[0;34m(\u001b[0m\u001b[0mscores_paths\u001b[0m\u001b[0;34m.\u001b[0m\u001b[0mvalues\u001b[0m\u001b[0;34m(\u001b[0m\u001b[0;34m)\u001b[0m\u001b[0;34m)\u001b[0m\u001b[0;34m]\u001b[0m \u001b[0;32mfor\u001b[0m \u001b[0mkey\u001b[0m\u001b[0;34m,\u001b[0m\u001b[0mval\u001b[0m \u001b[0;32min\u001b[0m \u001b[0mscores_paths\u001b[0m\u001b[0;34m.\u001b[0m\u001b[0mitems\u001b[0m\u001b[0;34m(\u001b[0m\u001b[0;34m)\u001b[0m \u001b[0;32mif\u001b[0m \u001b[0mval\u001b[0m \u001b[0;34m==\u001b[0m \u001b[0mm\u001b[0m\u001b[0;34m]\u001b[0m\u001b[0;34m\u001b[0m\u001b[0;34m\u001b[0m\u001b[0m\n\u001b[0m\u001b[1;32m     43\u001b[0m \u001b[0mrandom\u001b[0m\u001b[0;34m.\u001b[0m\u001b[0mshuffle\u001b[0m\u001b[0;34m(\u001b[0m\u001b[0mbests_d\u001b[0m\u001b[0;34m)\u001b[0m\u001b[0;34m\u001b[0m\u001b[0;34m\u001b[0m\u001b[0m\n\u001b[1;32m     44\u001b[0m \u001b[0mprint\u001b[0m\u001b[0;34m(\u001b[0m\u001b[0mbests_d\u001b[0m\u001b[0;34m)\u001b[0m\u001b[0;34m\u001b[0m\u001b[0;34m\u001b[0m\u001b[0m\n",
      "\u001b[0;31mValueError\u001b[0m: max() arg is an empty sequence"
     ]
    }
   ],
   "source": [
    "#version si jamais ça marche pas\n",
    "import itertools\n",
    "\n",
    "scores_paths = dict()\n",
    "cur_node = (1,1)\n",
    "other_nodes = [node for node in list(G_ts.nodes()) if node != cur_node]\n",
    "paths = nx.all_simple_paths(G_ts, source=cur_node, target=other_nodes)\n",
    "\n",
    "#heuristique : suivre le chemin qui rapporte le plus de cases le plus rapidement possible\n",
    "for path in paths :\n",
    "    id_d = None\n",
    "    score_path = 0\n",
    "    print(path)\n",
    "    for i in range(len(path)):\n",
    "        \n",
    "        if i+1<len(path):\n",
    "            data = G_ts.get_edge_data(path[i], path[i+1])\n",
    "            print(data)\n",
    "            \n",
    "            #si il y a plusieurs arretes menants au meme noeuds\n",
    "            if len(data) > 1:\n",
    "                best_score = None\n",
    "                #on est dans un multigraph, donc on prends la meilleur edge\n",
    "                for j in range(len(data)):\n",
    "                    cur_score = data[j]['contrib'] - data[j]['delay']\n",
    "                    if best_score == None or best_score < cur_score:\n",
    "                        best_score = cur_score\n",
    "                        if i==0 :\n",
    "                            id_d = data[j]['idd']\n",
    "                        \n",
    "                score_path += best_score\n",
    "                \n",
    "                    \n",
    "            else :\n",
    "                if i==0:\n",
    "                    id_d =  data[0]['idd']\n",
    "                score_path += data[0]['contrib'] - data[0]['delay']\n",
    "        else :\n",
    "            break\n",
    "            \n",
    "        scores_paths[id_d]=score_path\n",
    "bests_d = [key for m in [max(scores_paths.values())] for key,val in scores_paths.items() if val == m]\n",
    "random.shuffle(bests_d)\n",
    "print(bests_d)\n",
    "for d in sma.agentList[0].Ad[cur_node]:\n",
    "    if d[0] in bests_d:\n",
    "        print(d)\n",
    "        \n",
    "        "
   ]
  },
  {
   "cell_type": "code",
   "execution_count": null,
   "metadata": {},
   "outputs": [],
   "source": []
  },
  {
   "cell_type": "code",
   "execution_count": 1221,
   "metadata": {},
   "outputs": [
    {
     "name": "stdout",
     "output_type": "stream",
     "text": [
      "[(1, 1), (1, 0)]\n",
      "{0: {'idd': 2, 'contrib': -1, 'delay': 1}}\n"
     ]
    },
    {
     "ename": "KeyError",
     "evalue": "'d'",
     "output_type": "error",
     "traceback": [
      "\u001b[0;31m---------------------------------------------------------------------------\u001b[0m",
      "\u001b[0;31mKeyError\u001b[0m                                  Traceback (most recent call last)",
      "\u001b[0;32m<ipython-input-1221-c8b8eeca2c36>\u001b[0m in \u001b[0;36m<module>\u001b[0;34m\u001b[0m\n\u001b[1;32m     26\u001b[0m                     \u001b[0mbest_score\u001b[0m \u001b[0;34m=\u001b[0m \u001b[0mcur_score\u001b[0m\u001b[0;34m\u001b[0m\u001b[0;34m\u001b[0m\u001b[0m\n\u001b[1;32m     27\u001b[0m                     \u001b[0;32mif\u001b[0m \u001b[0mi\u001b[0m\u001b[0;34m==\u001b[0m\u001b[0;36m0\u001b[0m \u001b[0;34m:\u001b[0m\u001b[0;34m\u001b[0m\u001b[0;34m\u001b[0m\u001b[0m\n\u001b[0;32m---> 28\u001b[0;31m                         \u001b[0md\u001b[0m \u001b[0;34m=\u001b[0m \u001b[0mdata\u001b[0m\u001b[0;34m[\u001b[0m\u001b[0mj\u001b[0m\u001b[0;34m]\u001b[0m\u001b[0;34m[\u001b[0m\u001b[0;34m'd'\u001b[0m\u001b[0;34m]\u001b[0m\u001b[0;34m\u001b[0m\u001b[0;34m\u001b[0m\u001b[0m\n\u001b[0m\u001b[1;32m     29\u001b[0m \u001b[0;34m\u001b[0m\u001b[0m\n\u001b[1;32m     30\u001b[0m             \u001b[0mscore_path\u001b[0m \u001b[0;34m+=\u001b[0m \u001b[0mbest_score\u001b[0m\u001b[0;34m\u001b[0m\u001b[0;34m\u001b[0m\u001b[0m\n",
      "\u001b[0;31mKeyError\u001b[0m: 'd'"
     ]
    }
   ],
   "source": [
    "\n",
    "import itertools\n",
    "\n",
    "scores_paths = dict()\n",
    "cur_node = (1,1)\n",
    "other_nodes = [node for node in list(G_ts.nodes()) if node != cur_node]\n",
    "paths = nx.all_simple_paths(G_ts, source=cur_node, target=other_nodes)\n",
    "\n",
    "#heuristique : suivre le chemin qui rapporte le plus de cases avec le moins de temps d'attente\n",
    "for path in paths :\n",
    "    d = None\n",
    "    score_path = 0\n",
    "    print(path)\n",
    "    for i in range(len(path)):\n",
    "        \n",
    "        if i+1<len(path):\n",
    "            data = G_ts.get_edge_data(path[i], path[i+1])\n",
    "            print(data)\n",
    "            \n",
    "            #si il y a plusieurs arretes menants au meme noeuds\n",
    "            \n",
    "            best_score = None\n",
    "            #on est dans un multigraph, donc on prends la meilleur edge\n",
    "            for j in range(len(data)):\n",
    "                cur_score = data[j]['contrib'] - data[j]['delay']\n",
    "                if best_score == None or best_score < cur_score:\n",
    "                    best_score = cur_score\n",
    "                    if i==0 :\n",
    "                        d = data[j]['d']\n",
    "                        \n",
    "            score_path += best_score                   \n",
    "            \n",
    "        else :\n",
    "            break\n",
    "    \n",
    "    scores_paths[d]=score_path\n",
    "\n",
    "bests_d = [key for m in [max(scores_paths.values())] for key,val in scores_paths.items() if val == m]\n",
    "random.shuffle(bests_d)\n",
    "print(bests_d)\n",
    "for d in bests_d :\n",
    "    if d[2]==0:\n",
    "        print(ad)\n",
    "            "
   ]
  },
  {
   "cell_type": "code",
   "execution_count": 1165,
   "metadata": {},
   "outputs": [
    {
     "name": "stdout",
     "output_type": "stream",
     "text": [
      "1\n"
     ]
    }
   ],
   "source": [
    "print(sma.agentList[0].Ad[cur_node][0][2])"
   ]
  },
  {
   "cell_type": "code",
   "execution_count": 1168,
   "metadata": {},
   "outputs": [
    {
     "name": "stdout",
     "output_type": "stream",
     "text": [
      "1\n",
      "0\n"
     ]
    }
   ],
   "source": [
    "for ad in sma.agentList[0].Ad[cur_node] :\n",
    "    print(ad[2])"
   ]
  },
  {
   "cell_type": "code",
   "execution_count": 1202,
   "metadata": {},
   "outputs": [
    {
     "ename": "ValueError",
     "evalue": "max() arg is an empty sequence",
     "output_type": "error",
     "traceback": [
      "\u001b[0;31m---------------------------------------------------------------------------\u001b[0m",
      "\u001b[0;31mValueError\u001b[0m                                Traceback (most recent call last)",
      "\u001b[0;32m<ipython-input-1202-15a2f38289b7>\u001b[0m in \u001b[0;36m<module>\u001b[0;34m\u001b[0m\n\u001b[1;32m      1\u001b[0m \u001b[0;31m##### scores_paths[5]=2\u001b[0m\u001b[0;34m\u001b[0m\u001b[0;34m\u001b[0m\u001b[0;34m\u001b[0m\u001b[0m\n\u001b[0;32m----> 2\u001b[0;31m \u001b[0mbests_d\u001b[0m \u001b[0;34m=\u001b[0m \u001b[0;34m[\u001b[0m\u001b[0mkey\u001b[0m \u001b[0;32mfor\u001b[0m \u001b[0mm\u001b[0m \u001b[0;32min\u001b[0m \u001b[0;34m[\u001b[0m\u001b[0mmax\u001b[0m\u001b[0;34m(\u001b[0m\u001b[0mscores_paths\u001b[0m\u001b[0;34m.\u001b[0m\u001b[0mvalues\u001b[0m\u001b[0;34m(\u001b[0m\u001b[0;34m)\u001b[0m\u001b[0;34m)\u001b[0m\u001b[0;34m]\u001b[0m \u001b[0;32mfor\u001b[0m \u001b[0mkey\u001b[0m\u001b[0;34m,\u001b[0m\u001b[0mval\u001b[0m \u001b[0;32min\u001b[0m \u001b[0mscores_paths\u001b[0m\u001b[0;34m.\u001b[0m\u001b[0mitems\u001b[0m\u001b[0;34m(\u001b[0m\u001b[0;34m)\u001b[0m \u001b[0;32mif\u001b[0m \u001b[0mval\u001b[0m \u001b[0;34m==\u001b[0m \u001b[0mm\u001b[0m\u001b[0;34m]\u001b[0m\u001b[0;34m\u001b[0m\u001b[0;34m\u001b[0m\u001b[0m\n\u001b[0m\u001b[1;32m      3\u001b[0m \u001b[0mbests_d\u001b[0m\u001b[0;34m\u001b[0m\u001b[0;34m\u001b[0m\u001b[0m\n",
      "\u001b[0;31mValueError\u001b[0m: max() arg is an empty sequence"
     ]
    }
   ],
   "source": [
    "##### scores_paths[5]=2\n",
    "bests_d = [key for m in [max(scores_paths.values())] for key,val in scores_paths.items() if val == m]\n",
    "bests_d"
   ]
  },
  {
   "cell_type": "code",
   "execution_count": 1150,
   "metadata": {},
   "outputs": [
    {
     "data": {
      "text/plain": [
       "{2: -2, 3: 2, 5: 2}"
      ]
     },
     "execution_count": 1150,
     "metadata": {},
     "output_type": "execute_result"
    }
   ],
   "source": [
    "scores_paths"
   ]
  },
  {
   "cell_type": "code",
   "execution_count": null,
   "metadata": {},
   "outputs": [],
   "source": []
  },
  {
   "cell_type": "code",
   "execution_count": 1136,
   "metadata": {},
   "outputs": [
    {
     "data": {
      "text/plain": [
       "[[(1, 1), (1, 0)], [(1, 1), (1, 3)]]"
      ]
     },
     "execution_count": 1136,
     "metadata": {},
     "output_type": "execute_result"
    }
   ],
   "source": [
    "scores = dict()\n",
    "cur_node = (1,1)\n",
    "other_nodes = [node for node in list(G_ts.nodes()) if node != cur_node]\n",
    "paths = list(nx.all_simple_paths(G_ts, source=cur_node, target=other_nodes))\n",
    "paths"
   ]
  },
  {
   "cell_type": "code",
   "execution_count": 1071,
   "metadata": {},
   "outputs": [
    {
     "ename": "TypeError",
     "evalue": "not all arguments converted during string formatting",
     "output_type": "error",
     "traceback": [
      "\u001b[0;31m---------------------------------------------------------------------------\u001b[0m",
      "\u001b[0;31mTypeError\u001b[0m                                 Traceback (most recent call last)",
      "\u001b[0;32m<ipython-input-1071-bd5d92e45f29>\u001b[0m in \u001b[0;36m<module>\u001b[0;34m\u001b[0m\n\u001b[0;32m----> 1\u001b[0;31m \u001b[0mnx\u001b[0m\u001b[0;34m.\u001b[0m\u001b[0mall_simple_paths\u001b[0m\u001b[0;34m(\u001b[0m\u001b[0mG_ts\u001b[0m\u001b[0;34m,\u001b[0m \u001b[0msource\u001b[0m\u001b[0;34m=\u001b[0m\u001b[0;34m(\u001b[0m\u001b[0;36m2\u001b[0m\u001b[0;34m,\u001b[0m\u001b[0;36m2\u001b[0m\u001b[0;34m)\u001b[0m\u001b[0;34m,\u001b[0m \u001b[0mtarget\u001b[0m\u001b[0;34m=\u001b[0m\u001b[0mlist\u001b[0m\u001b[0;34m(\u001b[0m\u001b[0mG_ts\u001b[0m\u001b[0;34m.\u001b[0m\u001b[0mnodes\u001b[0m\u001b[0;34m(\u001b[0m\u001b[0;34m)\u001b[0m\u001b[0;34m)\u001b[0m\u001b[0;34m[\u001b[0m\u001b[0;36m1\u001b[0m\u001b[0;34m:\u001b[0m\u001b[0;34m]\u001b[0m\u001b[0;34m)\u001b[0m\u001b[0;34m\u001b[0m\u001b[0;34m\u001b[0m\u001b[0m\n\u001b[0m",
      "\u001b[0;32m~/Applications/anaconda3/lib/python3.7/site-packages/networkx/algorithms/simple_paths.py\u001b[0m in \u001b[0;36mall_simple_paths\u001b[0;34m(G, source, target, cutoff)\u001b[0m\n\u001b[1;32m    229\u001b[0m     \"\"\"\n\u001b[1;32m    230\u001b[0m     \u001b[0;32mif\u001b[0m \u001b[0msource\u001b[0m \u001b[0;32mnot\u001b[0m \u001b[0;32min\u001b[0m \u001b[0mG\u001b[0m\u001b[0;34m:\u001b[0m\u001b[0;34m\u001b[0m\u001b[0;34m\u001b[0m\u001b[0m\n\u001b[0;32m--> 231\u001b[0;31m         \u001b[0;32mraise\u001b[0m \u001b[0mnx\u001b[0m\u001b[0;34m.\u001b[0m\u001b[0mNodeNotFound\u001b[0m\u001b[0;34m(\u001b[0m\u001b[0;34m'source node %s not in graph'\u001b[0m \u001b[0;34m%\u001b[0m \u001b[0msource\u001b[0m\u001b[0;34m)\u001b[0m\u001b[0;34m\u001b[0m\u001b[0;34m\u001b[0m\u001b[0m\n\u001b[0m\u001b[1;32m    232\u001b[0m     \u001b[0;32mif\u001b[0m \u001b[0mtarget\u001b[0m \u001b[0;32min\u001b[0m \u001b[0mG\u001b[0m\u001b[0;34m:\u001b[0m\u001b[0;34m\u001b[0m\u001b[0;34m\u001b[0m\u001b[0m\n\u001b[1;32m    233\u001b[0m         \u001b[0mtargets\u001b[0m \u001b[0;34m=\u001b[0m \u001b[0;34m{\u001b[0m\u001b[0mtarget\u001b[0m\u001b[0;34m}\u001b[0m\u001b[0;34m\u001b[0m\u001b[0;34m\u001b[0m\u001b[0m\n",
      "\u001b[0;31mTypeError\u001b[0m: not all arguments converted during string formatting"
     ]
    }
   ],
   "source": [
    "nx.all_simple_paths(G_ts, source=(2,2), target=list(G_ts.nodes())[1:])"
   ]
  },
  {
   "cell_type": "code",
   "execution_count": 970,
   "metadata": {},
   "outputs": [
    {
     "data": {
      "text/plain": [
       "-1"
      ]
     },
     "execution_count": 970,
     "metadata": {},
     "output_type": "execute_result"
    }
   ],
   "source": [
    "G_ts.get_edge_data((1, 1), (1, 0))[0]['contrib']"
   ]
  },
  {
   "cell_type": "code",
   "execution_count": 932,
   "metadata": {},
   "outputs": [
    {
     "data": {
      "text/plain": [
       "[(1, 0), (1, 3), (0, 2)]"
      ]
     },
     "execution_count": 932,
     "metadata": {},
     "output_type": "execute_result"
    }
   ],
   "source": []
  },
  {
   "cell_type": "code",
   "execution_count": 921,
   "metadata": {},
   "outputs": [
    {
     "ename": "NodeNotFound",
     "evalue": "source node [((1, 1), 1), ((1, 0), 1), ((1, 3), 1), ((0, 2), 1)] not in graph",
     "output_type": "error",
     "traceback": [
      "\u001b[0;31m---------------------------------------------------------------------------\u001b[0m",
      "\u001b[0;31mNodeNotFound\u001b[0m                              Traceback (most recent call last)",
      "\u001b[0;32m<ipython-input-921-40de9acf16d3>\u001b[0m in \u001b[0;36m<module>\u001b[0;34m\u001b[0m\n\u001b[0;32m----> 1\u001b[0;31m \u001b[0mnx\u001b[0m\u001b[0;34m.\u001b[0m\u001b[0mall_simple_paths\u001b[0m\u001b[0;34m(\u001b[0m\u001b[0mG_ts\u001b[0m\u001b[0;34m,\u001b[0m \u001b[0msource\u001b[0m\u001b[0;34m=\u001b[0m\u001b[0mG_ts\u001b[0m\u001b[0;34m.\u001b[0m\u001b[0mnodes\u001b[0m\u001b[0;34m(\u001b[0m\u001b[0;36m1\u001b[0m\u001b[0;34m,\u001b[0m\u001b[0;36m1\u001b[0m\u001b[0;34m)\u001b[0m\u001b[0;34m,\u001b[0m \u001b[0mtarget\u001b[0m\u001b[0;34m=\u001b[0m\u001b[0mG_ts\u001b[0m\u001b[0;34m.\u001b[0m\u001b[0mnodes\u001b[0m\u001b[0;34m(\u001b[0m\u001b[0;34m)\u001b[0m\u001b[0;34m)\u001b[0m\u001b[0;34m\u001b[0m\u001b[0;34m\u001b[0m\u001b[0m\n\u001b[0m",
      "\u001b[0;32m~/Applications/anaconda3/lib/python3.7/site-packages/networkx/algorithms/simple_paths.py\u001b[0m in \u001b[0;36mall_simple_paths\u001b[0;34m(G, source, target, cutoff)\u001b[0m\n\u001b[1;32m    229\u001b[0m     \"\"\"\n\u001b[1;32m    230\u001b[0m     \u001b[0;32mif\u001b[0m \u001b[0msource\u001b[0m \u001b[0;32mnot\u001b[0m \u001b[0;32min\u001b[0m \u001b[0mG\u001b[0m\u001b[0;34m:\u001b[0m\u001b[0;34m\u001b[0m\u001b[0;34m\u001b[0m\u001b[0m\n\u001b[0;32m--> 231\u001b[0;31m         \u001b[0;32mraise\u001b[0m \u001b[0mnx\u001b[0m\u001b[0;34m.\u001b[0m\u001b[0mNodeNotFound\u001b[0m\u001b[0;34m(\u001b[0m\u001b[0;34m'source node %s not in graph'\u001b[0m \u001b[0;34m%\u001b[0m \u001b[0msource\u001b[0m\u001b[0;34m)\u001b[0m\u001b[0;34m\u001b[0m\u001b[0;34m\u001b[0m\u001b[0m\n\u001b[0m\u001b[1;32m    232\u001b[0m     \u001b[0;32mif\u001b[0m \u001b[0mtarget\u001b[0m \u001b[0;32min\u001b[0m \u001b[0mG\u001b[0m\u001b[0;34m:\u001b[0m\u001b[0;34m\u001b[0m\u001b[0;34m\u001b[0m\u001b[0m\n\u001b[1;32m    233\u001b[0m         \u001b[0mtargets\u001b[0m \u001b[0;34m=\u001b[0m \u001b[0;34m{\u001b[0m\u001b[0mtarget\u001b[0m\u001b[0;34m}\u001b[0m\u001b[0;34m\u001b[0m\u001b[0;34m\u001b[0m\u001b[0m\n",
      "\u001b[0;31mNodeNotFound\u001b[0m: source node [((1, 1), 1), ((1, 0), 1), ((1, 3), 1), ((0, 2), 1)] not in graph"
     ]
    }
   ],
   "source": [
    "nx.all_simple_paths(G_ts, source=G_ts.nodes(1,1), target=G_ts.nodes())"
   ]
  },
  {
   "cell_type": "markdown",
   "metadata": {},
   "source": [
    "# OLD\n",
    "tout ce qui est au dessus me semble ok\n",
    "je conserve le reste pour archive pour l'instant, et il y a le generateur qui etait pas mauvais normalement"
   ]
  },
  {
   "cell_type": "code",
   "execution_count": null,
   "metadata": {},
   "outputs": [],
   "source": [
    "import random\n",
    "\n",
    "class CarAgent():\n",
    "    global bounds\n",
    "    def __init__(self, unique_id, pos_dep):\n",
    "        self.unique_id = unique_id\n",
    "        self.pos = pos_dep\n",
    "        self.new_pos = self.pos\n",
    "        self.is_alive = True\n",
    "        \n",
    "    def update(self):\n",
    "        direction = random.randrange(4)\n",
    "        if direction == 0:\n",
    "            self.new_pos = (self.pos[0]+1,self.pos[1])#EST\n",
    "        elif direction == 1:\n",
    "            self.new_pos = (self.pos[0],self.pos[1]-1)#SUD\n",
    "        elif direction == 2:\n",
    "            self.new_pos = (self.pos[0]-1,self.pos[1])#OUEST\n",
    "        else :\n",
    "            self.new_pos = (self.pos[0],self.pos[1]+1)#NORD\n",
    "\n",
    "        # on vérifie que la nouvelle position est bien dans les limites de l'environnement sinon l'agent meurt\n",
    "        if bounds[0]<=self.new_pos[0] or self.new_pos[0] <0 or  bounds[1]<=self.new_pos[1] or self.new_pos[1]<0:\n",
    "            #global agentList\n",
    "            #agentList.remove(self) # on ne peut pas faire ça sinon l'agent suivant remplace l'agent courant\n",
    "            self.is_alive = False\n",
    "            print(\"agent \"+str(self.unique_id)+ \" died\")\n",
    "\n",
    "    def decide(self):\n",
    "        if self.is_alive == True :\n",
    "            if self.pos == self.new_pos:\n",
    "                print(\"Agent voiture n°\",self.unique_id,\"apparait en\",self.pos)\n",
    "            else :\n",
    "                print(\"Agent voiture n°\",self.unique_id,\"bouge de\",self.pos,\"à\",self.new_pos)\n",
    "                self.pos = self.new_pos\n",
    "        "
   ]
  },
  {
   "cell_type": "code",
   "execution_count": null,
   "metadata": {},
   "outputs": [],
   "source": [
    "bounds = (10,10)\n",
    "agentList = [CarAgent(1,(0,0)) , CarAgent(2,(5,5)), CarAgent(3,(8,8))]\n",
    "tick = 0\n",
    "for _ in range(10):\n",
    "    for a in agentList :\n",
    "        a.update()\n",
    "    for a in agentList :\n",
    "        a.decide()\n",
    "        \n",
    "    #Etape de nettoyage de la liste d'agents\n",
    "    for a in agentList :\n",
    "        if a.is_alive == False:\n",
    "            random.shuffle(agentList)\n",
    "            agentList.remove(a) \n",
    "    print(\"tick\",tick,\"ended\\n\")\n",
    "    tick+=1\n",
    "        "
   ]
  },
  {
   "cell_type": "code",
   "execution_count": null,
   "metadata": {},
   "outputs": [],
   "source": [
    "class RiderAgent():\n",
    "    def __init__(self, unique_id, pos_dep, pos_arr):\n",
    "        self.unique_id = unique_id\n",
    "        self.pos = pos_dep\n",
    "        self.new_pos = self.pos\n",
    "        self.pos_arr = pos_arr\n",
    "        self.waiting_time = 0\n",
    "        self.is_alive = True\n",
    "\n",
    "    #on vérifie si il y a un véhicule qui va dans notre direction\n",
    "    def move(self, caragent):\n",
    "        for car in caragent:\n",
    "            if (self.pos[0] < self.pos_arr[0]) and (car.pos[0] < car.pos_arr[0]):\n",
    "                return car\n",
    "            elif (self.pos[0] > self.pos_arr[0]) and (car.pos[0] > car.pos_arr[0]):\n",
    "                return car\n",
    "            elif (self.pos[1] < self.pos_arr[1]) and (car.pos[1] < car.pos_arr[1]):\n",
    "                return car\n",
    "            elif (self.pos[1] > self.pos_arr[1]) and (car.pos[1] > car.pos_arr[1]):\n",
    "                return car\n",
    "        return None\n",
    "\n",
    "    def update(self):\n",
    "        ##On vérifie si il y a quelqu'un sur notre case, sinon ça ne sert à rien d'agir\n",
    "        global agentList\n",
    "        caragent = [agent for agent in agentList if (agent.__class__.__name__ == \"CarAgent\" and agent.pos == self.pos)]\n",
    "        if len(caragent) > 0:\n",
    "            new_car = self.move(caragent)\n",
    "            if new_car != None:\n",
    "                self.new_pos = new_car.new_pos\n",
    "            else :\n",
    "                self.new_pos = self.pos\n",
    "        else :\n",
    "            self.new_pos = self.pos\n",
    "    \n",
    "    def decide(self):\n",
    "        #print(\"Agent Rider:\", self, self.pos, self.pos_arr, self.new_position)\n",
    "        if self.new_pos != self.pos :\n",
    "            self.pos = self.new_pos\n",
    "            #on vérifie si le passager est arrivé à destination\n",
    "            if self.pos == self.pos_arr:\n",
    "                print(\"Agent passager n°\",self.unique_id,\" arrivé à destination avec un temps total d'attente de:\",self.waiting_time)\n",
    "                self.is_alive = False\n",
    "        else :\n",
    "            self.waiting_time += 1"
   ]
  },
  {
   "cell_type": "markdown",
   "metadata": {},
   "source": [
    "# A ton besoin de simultanéité ?\n",
    "Voici un petit bout de code permettant de prouver le besoin de simultanéité, en effet comme précisé plus haut, si l'on donne le tour de parole aléatoirement au agents, il se peu qu'un agent effectue deux fois son tour de parole d'affilé :\n",
    "\n",
    "type de config :\n",
    "\n",
    "--tick 0\n",
    "agent 1 puis agent 2\n",
    "\n",
    "\n",
    "--tick 1\n",
    "agent 2 puis agent 1"
   ]
  },
  {
   "cell_type": "code",
   "execution_count": null,
   "metadata": {},
   "outputs": [],
   "source": [
    "bounds = (10,10)\n",
    "agentList = [CarAgent(1,(0,0)) , CarAgent(2,(5,5)), CarAgent(3,(8,8)), RiderAgent(4,(5,5),(5,9))]\n",
    "tick = 0\n",
    "for _ in range(10):\n",
    "    for a in agentList :\n",
    "        a.update()\n",
    "    for a in agentList :\n",
    "        a.decide()\n",
    "        \n",
    "    #Etape de nettoyage de la liste d'agents\n",
    "    for a in agentList :\n",
    "        if a.is_alive == False:\n",
    "            random.shuffle(agentList)\n",
    "            agentList.remove(a) \n",
    "    print(\"tick\",tick,\"ended\\n\")\n",
    "    tick+=1\n",
    "        "
   ]
  },
  {
   "cell_type": "markdown",
   "metadata": {},
   "source": [
    "### Les générateurs de véhicules\n",
    "\n",
    "Afin d'avoir un flux continu de véhicules, il est nécessaire de générer de nouveaux véhicules régulièrement. c'est le role des agents `Generator`."
   ]
  },
  {
   "cell_type": "code",
   "execution_count": null,
   "metadata": {},
   "outputs": [],
   "source": [
    "import random\n",
    "\n",
    "class Generator() :\n",
    "    global bounds\n",
    "    global tick\n",
    "    def __init__(self, unique_id, frequence, nb_cars):\n",
    "        self.unique_id = unique_id\n",
    "        self.frequence = frequence #generation tout les \"frequence\" ticks\n",
    "        self.nb_cars = nb_cars\n",
    "        self.is_alive = True\n",
    "        \n",
    "    def update(self): \n",
    "        if tick == 0 or (self.frequence % tick) :\n",
    "            genList = []\n",
    "            for _ in range(self.nb_cars):\n",
    "                global id_count\n",
    "                id_count += 1\n",
    "                genList.append(CarAgent(id_count, (random.randrange(bounds[0]),random.randrange(bounds[1]))))\n",
    "            \n",
    "            global agentList\n",
    "            agentList = agentList + genList\n",
    "        else:\n",
    "            pass\n",
    "    \n",
    "    def decide(self):\n",
    "        pass\n",
    "    "
   ]
  },
  {
   "cell_type": "code",
   "execution_count": null,
   "metadata": {},
   "outputs": [],
   "source": [
    "bounds = (10,10)\n",
    "agentList = []\n",
    "id_count = 0\n",
    "tick = 0\n",
    "gen = Generator(0, 5, 5)\n",
    "agentList = [gen]\n",
    "for _ in range(5):\n",
    "    random.shuffle(agentList)\n",
    "    for a in agentList :\n",
    "        a.update()\n",
    "    for a in agentList :\n",
    "        a.decide()\n",
    "    #Etape de nettoyage de la liste d'agents\n",
    "    for a in agentList :\n",
    "        if a.is_alive == False:\n",
    "            agentList.remove(a) \n",
    "    print(\"tick\",tick)\n",
    "    tick += 1"
   ]
  },
  {
   "cell_type": "code",
   "execution_count": null,
   "metadata": {},
   "outputs": [],
   "source": [
    "class RiderAgent():\n",
    "    def __init__(self, unique_id, pos_dep, pos_arr):\n",
    "        self.unique_id = unique_id\n",
    "        self.pos = pos_dep\n",
    "        self.new_pos = self.pos\n",
    "        self.pos_arr = pos_arr\n",
    "        self.waiting_time = 0\n",
    "        self.is_alive = True\n",
    "\n",
    "    #on vérifie si il y a un véhicule qui va dans notre direction\n",
    "    def move(self, caragent):\n",
    "        for car in caragent:\n",
    "            if (self.pos[0] < self.pos_arr[0]) and (car.pos[0] < car.pos_arr[0]):\n",
    "                return car\n",
    "            elif (self.pos[0] > self.pos_arr[0]) and (car.pos[0] > car.pos_arr[0]):\n",
    "                return car\n",
    "            elif (self.pos[1] < self.pos_arr[1]) and (car.pos[1] < car.pos_arr[1]):\n",
    "                return car\n",
    "            elif (self.pos[1] > self.pos_arr[1]) and (car.pos[1] > car.pos_arr[1]):\n",
    "                return car\n",
    "        return None\n",
    "\n",
    "    def update(self):\n",
    "        ##On vérifie si il y a quelqu'un sur notre case, sinon ça ne sert à rien d'agir\n",
    "        global agentList\n",
    "        caragent = [agent for agent in agentList if (agent.__class__.__name__ == \"CarAgent\" and agent.pos == self.pos)]\n",
    "        if len(caragent) > 0:\n",
    "            new_car = self.move(caragent)\n",
    "            if new_car != None:\n",
    "                self.new_pos = new_car.new_pos\n",
    "            else :\n",
    "                self.new_pos = self.pos\n",
    "        else :\n",
    "            self.new_pos = self.pos\n",
    "    \n",
    "    def decide(self):\n",
    "        #print(\"Agent Rider:\", self, self.pos, self.pos_arr, self.new_position)\n",
    "        if self.new_pos != self.pos :\n",
    "            self.pos = self.new_pos\n",
    "            #on vérifie si le passager est arrivé à destination\n",
    "            if self.pos == self.pos_arr:\n",
    "                print(\"Agent passager n°\",self.unique_id,\" arrivé à destination avec un temps total d'attente de:\",self.waiting_time)\n",
    "                self.is_alive = False\n",
    "        else :\n",
    "            self.waiting_time += 1"
   ]
  },
  {
   "cell_type": "markdown",
   "metadata": {},
   "source": [
    "# A ton besoin de simultanéité ?\n",
    "Voici un petit bout de code permettant de prouver le besoin de simultanéité, en effet comme précisé plus haut, si l'on donne le tour de parole aléatoirement au agents, il se peu qu'un agent effectue deux fois son tour de parole d'affilé :\n",
    "\n",
    "type de config :\n",
    "\n",
    "--tick 0\n",
    "agent 1 puis agent 2\n",
    "\n",
    "\n",
    "--tick 1\n",
    "agent 2 puis agent 1"
   ]
  },
  {
   "cell_type": "code",
   "execution_count": null,
   "metadata": {},
   "outputs": [],
   "source": [
    "bounds = (10,10)\n",
    "agentList = [RiderAgent(0, (5,5), (5,0)),]\n",
    "tick = 0\n",
    "\n",
    "\n",
    "agentList = [gen]\n",
    "for _ in range(5):\n",
    "    for a in agentList :\n",
    "        a.update()\n",
    "    for a in agentList :\n",
    "        a.decide()\n",
    "    #Etape de nettoyage de la liste d'agents\n",
    "    for a in agentList :\n",
    "        if a.is_alive == False:\n",
    "            agentList.remove(a) \n",
    "    print(\"tick\",tick)\n",
    "    tick += 1"
   ]
  },
  {
   "cell_type": "markdown",
   "metadata": {},
   "source": [
    "\n",
    "On a une grille. Un générateur de véhicules qui génère selon une loi de probabilité des véhicules sur l'un des axes dans l'un des sens. Simultanément apparaissent des passagers à un lei aléatoire pour une destination aléatoire (X,Y).\n",
    "Les véhicules sont réputés toujours aller jusqu'au bout d'un axe et peuvent descendre un passager où ils veulent (c'est un bus ou un train). Le système est rythmé par unités de temps (ticks). Avancer d'une case prend 1 tick, et donc attendre un véhicule qui est 2 cases plus loin prend 2 ticks.\n"
   ]
  },
  {
   "cell_type": "markdown",
   "metadata": {},
   "source": [
    "## Le SMA"
   ]
  },
  {
   "cell_type": "code",
   "execution_count": null,
   "metadata": {},
   "outputs": [],
   "source": [
    "import random\n",
    "class SMA:\n",
    "    def __init__(self, bounds):\n",
    "        self.tick=0\n",
    "        self.resetTicks()\n",
    "        self.agentList = []\n",
    "        #self.gen = gen # on associe le générateur au sma, c'est plus simple\n",
    "        self.bounds = bounds\n",
    "        self.collector = [] # on collecte ici les temps d'attente\n",
    "\n",
    "    def resetTicks(self):\n",
    "        tick=0\n",
    "          \n",
    "    def addAgent(self,ag):\n",
    "        self.agentList.append(ag)\n",
    " \n",
    "    def run(self,rounds):\n",
    "        for i in range(0,rounds):\n",
    "            self.runOnce()\n",
    "    \n",
    "    def runOnce(self):\n",
    "        self.tick+=1\n",
    "        gen.generate_agent()\n",
    "        random.shuffle(self.agentList)\n",
    "        #on calcule les prochains positions des voitures\n",
    "        for ag in self.agentList :\n",
    "            ag.cars_new_pos()\n",
    "        #on determine si les passagers vont bouger ou non\n",
    "        for ag in self.agentList :\n",
    "            ag.riders_new_pos()\n",
    "        #on actualise la position des agents\n",
    "        for ag in self.agentList :\n",
    "            ag.agents_update_pos()\n",
    "            \n",
    "        #print(\"tick \"+str(self.tick)+\" ended\")"
   ]
  },
  {
   "cell_type": "code",
   "execution_count": null,
   "metadata": {},
   "outputs": [],
   "source": [
    "#bounds = (10,10)\n",
    "#agentList = []\n",
    "#id_count = 0\n",
    "#tick = 0\n",
    "gen = Generator(0, 5, 5)\n",
    "agentList = [gen]\n",
    "for _ in range(5):\n",
    "    for a in agentList :\n",
    "        a.update()\n",
    "    for a in agentList :\n",
    "        a.decide()\n",
    "    #Etape de nettoyage de la liste d'agents\n",
    "    for a in agentList :\n",
    "        if a.is_alive == False:\n",
    "            agentList.remove(a) \n",
    "    print(\"tick\",tick)\n",
    "    tick += 1"
   ]
  },
  {
   "cell_type": "markdown",
   "metadata": {},
   "source": [
    "## L'environnement"
   ]
  },
  {
   "cell_type": "markdown",
   "metadata": {},
   "source": [
    "\n",
    "Au final, on a pas du tout besoin d'une grille, dans le sens ou on l'on peut fonctionner juste avec les coordonnées des agents dans l'espace."
   ]
  },
  {
   "cell_type": "markdown",
   "metadata": {},
   "source": [
    "## Les agents"
   ]
  },
  {
   "cell_type": "code",
   "execution_count": null,
   "metadata": {},
   "outputs": [],
   "source": [
    "class Agent:\n",
    "    \"\"\" Pour pouvoir manipuler facilement les agents dans le sma, on creer une sorte d'abstract class \"\"\"\n",
    "\n",
    "    def __init__(self, unique_id: int, dep: (int, int), dest: (int,int)) -> None:\n",
    "        self.unique_id = unique_id\n",
    "        self.pos = dep\n",
    "        self.pos_arr = dest\n",
    "        self.new_pos = self.pos\n",
    "    \n",
    "    def cars_new_pos(self) -> None:\n",
    "        pass\n",
    "\n",
    "    def riders_new_pos(self) -> None:\n",
    "        pass\n",
    "\n",
    "    def agents_update_pos(self) -> None:\n",
    "        pass"
   ]
  },
  {
   "cell_type": "markdown",
   "metadata": {},
   "source": [
    "### Les véhicules"
   ]
  },
  {
   "cell_type": "code",
   "execution_count": null,
   "metadata": {},
   "outputs": [],
   "source": [
    "class CarAgent(Agent):\n",
    "    def __init__(self, unique_id, pos_dep, pos_arr):\n",
    "        super().__init__(unique_id, pos_dep, pos_arr)\n",
    "        \n",
    "    def move(self):\n",
    "        if self.pos[0] == self.pos_arr[0]:\n",
    "            if self.pos[1] == self.pos_arr[1]:\n",
    "                #print(\"Agent voiture n°\",self.unique_id,\" arrivée à destination.\")\n",
    "                sma.agentList.remove(self)\n",
    "                return\n",
    "            elif self.pos[1] > self.pos_arr[1]:\n",
    "                new_position = (self.pos[0],self.pos[1]-1)\n",
    "            else : \n",
    "                new_position = (self.pos[0],self.pos[1]+1)\n",
    "        elif self.pos[0] > self.pos_arr[0]:\n",
    "            new_position = (self.pos[0]-1,self.pos[1])\n",
    "        else : \n",
    "            new_position = (self.pos[0]+1,self.pos[1])\n",
    "        \n",
    "       \n",
    "        self.new_pos = new_position\n",
    "        \n",
    "        \n",
    "        \n",
    "    def cars_new_pos(self):\n",
    "        self.move()\n",
    "\n",
    "    def riders_new_pos(self):\n",
    "        pass\n",
    "\n",
    "    def agents_update_pos(self):\n",
    "        #print(\"Agent voiture n°\",self.unique_id,\" bouge de \",self.pos,\" à \",self.new_pos)\n",
    "        self.pos = self.new_pos"
   ]
  },
  {
   "cell_type": "markdown",
   "metadata": {},
   "source": [
    "Les véhicules vont donc uniquement dans une direction, à chaque ticks ils regardent dans quel sens ils sont sensé aller et bougent d'une case."
   ]
  },
  {
   "cell_type": "markdown",
   "metadata": {},
   "source": [
    "### Les passagers"
   ]
  },
  {
   "cell_type": "code",
   "execution_count": null,
   "metadata": {},
   "outputs": [],
   "source": [
    "class RiderAgent(Agent):\n",
    "    def __init__(self, unique_id, pos_dep, pos_arr):\n",
    "        super().__init__(unique_id, pos_dep, pos_arr)\n",
    "        self.waiting_time = 0\n",
    "\n",
    "    #on vérifie si il y a un véhicule qui va dans notre direction\n",
    "    def move(self, caragent):\n",
    "        for car in caragent:\n",
    "            if (self.pos[0] < self.pos_arr[0]) and (car.pos[0] < car.pos_arr[0]):\n",
    "                return car\n",
    "            elif (self.pos[0] > self.pos_arr[0]) and (car.pos[0] > car.pos_arr[0]):\n",
    "                return car\n",
    "            elif (self.pos[1] < self.pos_arr[1]) and (car.pos[1] < car.pos_arr[1]):\n",
    "                return car\n",
    "            elif (self.pos[1] > self.pos_arr[1]) and (car.pos[1] > car.pos_arr[1]):\n",
    "                return car\n",
    "        return None\n",
    "    \n",
    "    def cars_new_pos(self):\n",
    "        pass\n",
    "\n",
    "    def riders_new_pos(self):\n",
    "        if self.pos == self.pos_arr:\n",
    "            #print(\"Agent passager n°\",self.unique_id,\" arrivé à destination avec un temps total d'attente de:\",self.waiting_time)\n",
    "            sma.collector.append(self.waiting_time)\n",
    "            sma.agentList.remove(self)\n",
    "            return\n",
    "        \n",
    "        ##On vérifie si il y a quelqu'un sur notre case, sinon ça ne sert à rien d'agir\n",
    "        caragent = [agent for agent in sma.agentList if (agent.__class__.__name__ == \"CarAgent\" and agent.pos == self.pos)]\n",
    "        if len(caragent) > 0:\n",
    "            new_car = self.move(caragent)\n",
    "            if new_car != None:\n",
    "                self.new_pos = new_car.new_pos\n",
    "            else :\n",
    "                self.new_pos = self.pos\n",
    "        else :\n",
    "            self.new_pos = self.pos\n",
    "    \n",
    "    def agents_update_pos(self):\n",
    "        #print(\"Agent Rider:\", self, self.pos, self.pos_arr, self.new_position)\n",
    "        if self.new_pos != self.pos :\n",
    "            self.pos = self.new_pos\n",
    "        else :\n",
    "            self.waiting_time += 1"
   ]
  },
  {
   "cell_type": "markdown",
   "metadata": {},
   "source": [
    "A chaque tour, les agents passagers collectent le ou les agents voiture présent sur sa case, et prends celui qui va dans sa direction."
   ]
  },
  {
   "cell_type": "markdown",
   "metadata": {},
   "source": [
    "## Les générateurs de véhicules"
   ]
  },
  {
   "cell_type": "code",
   "execution_count": null,
   "metadata": {},
   "outputs": [],
   "source": [
    "# Mettre ici le code d'un générateur trivial\n",
    "import random\n",
    "class Generator():\n",
    "    def __init__(self, height, width, nb_car_x, nb_car_y, nb_rider):\n",
    "        self.height = height\n",
    "        self.width = width\n",
    "        self.nb_car_x = nb_car_x\n",
    "        self.nb_car_y = nb_car_y\n",
    "        self.nb_rider = nb_rider\n",
    "        self.n_id = -1\n",
    "    \n",
    "    def next_id(self):\n",
    "        self.n_id += 1\n",
    "        return self.n_id\n",
    "    \n",
    "    #genere les agents voitures a l'horizontal\n",
    "    def XAgentGenerator(self):\n",
    "        x = random.choice([0, self.width - 1])\n",
    "        y = random.randrange(self.height)\n",
    "        pos_dep = (x, y)\n",
    "        pos_arr = (abs(x - self.width + 1), y)\n",
    "\n",
    "        a = CarAgent(self.next_id(), pos_dep, pos_arr)\n",
    "        sma.addAgent(a)\n",
    "        \n",
    "        \n",
    "    #genere les agents voitures a la vertical\n",
    "    def YAgentGenerator(self):\n",
    "        x = random.randrange(self.width)\n",
    "        y = random.choice([0, self.height - 1])\n",
    "        pos_dep = (x, y)\n",
    "        pos_arr = (x, abs(y - self.height + 1))\n",
    "\n",
    "        a = CarAgent(self.next_id(), pos_dep, pos_arr)\n",
    "        sma.addAgent(a)\n",
    "\n",
    "    #genere les agents passagers a des positions aleatoire\n",
    "    def RiderAgentGenerator(self):\n",
    "        x = random.randrange(self.height)\n",
    "        y = random.randrange(self.width)\n",
    "\n",
    "        pos_dep = (x, y)\n",
    "        x_p = random.randrange(self.height)\n",
    "        y_p = random.randrange(self.width)\n",
    "        pos_arr = (x_p, y_p)\n",
    "        a = RiderAgent(self.next_id(), pos_dep, pos_arr)\n",
    "        sma.addAgent(a)\n",
    "    \n",
    "    #fonction qui genere les agents en fonction des valeurs choisis\n",
    "    def generate_agent(self):\n",
    "       \n",
    "        for _ in range(random.randrange(self.nb_car_x)):\n",
    "            self.XAgentGenerator()\n",
    "        for _ in range(random.randrange(self.nb_car_y)):\n",
    "            self.YAgentGenerator()\n",
    "        for _ in range(random.randrange(self.nb_rider)):\n",
    "            self.RiderAgentGenerator()\n",
    "    "
   ]
  },
  {
   "cell_type": "markdown",
   "metadata": {},
   "source": [
    "# Une première version\n",
    "Un passager est aveugle. Il monte dans le premier véhicule qui se présente dans sa direction (soit verticale soit horizontale) et il va jusqu'au maximum de sa possibilité (son X ou son Y de destination). Il se déplace dans une direction 1 fois, descend du véhicule, attend le prochain véhicule dans l'autre sens et arrive à sa destination.\n",
    "Précisions :\n",
    "- au maximum il attend 2 fois : au départ, et au changement\n",
    "- grâce au rythme du système on est capable de tracer des courbes de temps d'attente (en tick)\n",
    "\n"
   ]
  },
  {
   "cell_type": "code",
   "execution_count": null,
   "metadata": {},
   "outputs": [],
   "source": [
    "gen = Generator(10, 10, 5, 5, 5)\n",
    "sma = SMA(gen)\n",
    "sma.run(1000)\n"
   ]
  },
  {
   "cell_type": "code",
   "execution_count": null,
   "metadata": {},
   "outputs": [],
   "source": [
    "import numpy as np\n",
    "print(\"Le temps d'attente moyen est de\",np.mean(sma.collector), \"ticks\")"
   ]
  },
  {
   "cell_type": "markdown",
   "metadata": {},
   "source": [
    "Experience : faire varier le nombre de véhicule"
   ]
  },
  {
   "cell_type": "code",
   "execution_count": null,
   "metadata": {},
   "outputs": [],
   "source": [
    "import matplotlib.pyplot as plt\n",
    "range_vehicules = np.arange(5,50,5)\n",
    "nb_passagers = 5\n",
    "\n",
    "big_collector = []\n",
    "\n",
    "for nb_vehicule in range_vehicules:\n",
    "    gen = Generator(10, 10, nb_vehicule, nb_vehicule, 5)\n",
    "    sma = SMA(gen)\n",
    "    sma.run(1000)\n",
    "    big_collector.append(np.mean(sma.collector))\n",
    "    \n",
    "plt.xlabel(\"Nombre de conducteur\")\n",
    "plt.ylabel(\"Nombre moyen de ticks d'attente\")\n",
    "plt.plot(range_vehicules,big_collector)"
   ]
  },
  {
   "cell_type": "markdown",
   "metadata": {},
   "source": [
    "# Une version plus poussée\n",
    "\n",
    "Le passager perçoit une partie de l'environnement : sa verticale et son horizontale. Quand un véhicule arrive dans sa case, il regarde le nombre de cases N que ce véhicule lui permet de faire (N=X ou N=Y), et si il y a dans sa perception un autre véhicule à T distance qui lui permettra d'avancer d'un nombre de cases U (dans l'autre direction), avec U-T > N alors il attend celui là (Corwin raisonne sur un \"potentiel\" : U-T c'est le potentiel de cases dans l'autre direction avec un taux de transfert 0).\n",
    "Une fois dans le véhicule, le passager fait ce raisonnement là à chaque case, et donc, décide de descendre ou pas, pour en attendre un autre.\n",
    "Précisions :\n",
    "- la formule de choix mise en place pourrait être inversée ! c'est une heuristique ! Il y a des heuristiques optimistes et des heuristiques pessimistes (ne serait-ce qu'en inversant l'inégalité).\n",
    "- Dans cette version le passager peut donc voyager en zig-zag, néanmoins il ne \"dépasse\" jamais son X et son Y.\n"
   ]
  },
  {
   "cell_type": "code",
   "execution_count": null,
   "metadata": {},
   "outputs": [],
   "source": []
  },
  {
   "cell_type": "markdown",
   "metadata": {},
   "source": [
    "# Bibliographie\n",
    "\n",
    "Philippe Mathieu, Yann Secq.\n",
    "Environment Updating and Agent Scheduling Policies in Agent-based Simulators. \n",
    "ICAART Conference, 2012, pp 170-175\n",
    "\n",
    "Philippe Mathieu, Sébastien Picault, Yann Secq.\n",
    "Design Patterns for Environments in Multi-agent Simulations. \n",
    "PRIMA Conference, 2015, pp 678-686\n",
    "\n",
    "Philippe Mathieu, Gildas Morvan, Sébastien Picault.\n",
    "Multi-level agent-based simulations: Four design patterns. \n",
    "Journal of Simulation Modelling Practice and Theory, Janv 2018\n"
   ]
  }
 ],
 "metadata": {
  "celltoolbar": "Format de la Cellule Texte Brut",
  "kernelspec": {
   "display_name": "Python 3",
   "language": "python",
   "name": "python3"
  },
  "language_info": {
   "codemirror_mode": {
    "name": "ipython",
    "version": 3
   },
   "file_extension": ".py",
   "mimetype": "text/x-python",
   "name": "python",
   "nbconvert_exporter": "python",
   "pygments_lexer": "ipython3",
   "version": "3.7.4"
  }
 },
 "nbformat": 4,
 "nbformat_minor": 2
}
