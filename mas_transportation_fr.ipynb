{
 "cells": [
  {
   "cell_type": "markdown",
   "metadata": {
    "slideshow": {
     "slide_type": "-"
    }
   },
   "source": [
    "# A Multiagent transportation system\n",
    "\n",
    "Auteur : Philippe Mathieu, [CRISTAL Lab](https://www.cristal.univ-lille.fr/), [SMAC Team](https://www.cristal.univ-lille.fr/?rubrique26&id=7), [University of Lille](http://www.univ-lille1.fr), email : philippe.mathieu@univ-lille.fr\n",
    "\n",
    "Contributeurs : Corwin Fèvre (CRISTAL/SMAC , CRISTAL/OSM)\n",
    "\n",
    "Creation : 15/01/2020\n",
    "\n",
    "\n",
    "## Principe général\n",
    "\n",
    "\n",
    "Cette feuille fait suite à [mas_basics_fr.ipynb](mas_basics_fr.ipynb) qui donnait les bases de la construction d'un système multi-agents sur un reseau social.\n",
    "Nous vous montrons ici, comment réaliser une petite simulation d'un système de co-voiturage à l'aide des agents.\n",
    "\n",
    "## Un système séquentiel\n",
    "\n",
    "Dans sa forme la plus simple, un agent est une entité dotée d'une seule\n",
    "capacité, celle de décider quoi faire. Personne ne lui indique ce qu'il doit faire,\n",
    "c'est lui qui décide ! C'est le principe d'**autonomie**. Il suffit juste de lui donner la\n",
    "parole pour qu'il agisse. Lors de sa prise de parole, l'agent réalise sémantiquement 3 étapes différentes : la **perception** de son entourage, la **decision** en fonction de son propre état et de ce qu'il a perçu, puis l'**action** effective qu'il réalise in fine. Idéalement chaque agent ne peut faire qu'une seule action lors de sa prise de parole."
   ]
  },
  {
   "cell_type": "code",
   "execution_count": 289,
   "metadata": {},
   "outputs": [],
   "source": [
    "class Agent:\n",
    "      def __init__(self,name) :\n",
    "          self.name=name\n",
    "        \n",
    "      def decide(self):\n",
    "          print(\"Bonjour ! My name is \"+self.name)"
   ]
  },
  {
   "cell_type": "markdown",
   "metadata": {},
   "source": [
    "Il est bien sûr possible de créer plusieurs agents et de les interroger directement."
   ]
  },
  {
   "cell_type": "code",
   "execution_count": 290,
   "metadata": {},
   "outputs": [
    {
     "name": "stdout",
     "output_type": "stream",
     "text": [
      "Bonjour ! My name is philippe\n",
      "Bonjour ! My name is corwin\n"
     ]
    }
   ],
   "source": [
    "a1 = Agent(\"philippe\")\n",
    "a2 = Agent(\"corwin\")\n",
    "a1.decide()\n",
    "a2.decide()"
   ]
  },
  {
   "cell_type": "markdown",
   "metadata": {},
   "source": [
    "### Le système multiagent séquentiel\n",
    "\n",
    "Bien évidemment, un système multi-agent utilise des dizaines voire des\n",
    "milliers d'agents. Il est alors necessaire de créer une classe\n",
    "permettant de les manager. En général la méthode qui lance la\n",
    "simulation se nomme `run` et prend en paramètre le nombre de prises de\n",
    "paroles.\n",
    "Afin d'assurer le principe d'**équité** on s'assure que chaque agent a\n",
    "au moins une fois la parole avant qu'un autre agent ne l'ait deux\n",
    "fois. On s'appuie pour cela sur la notion de tour de parole. Chaque tour de\n",
    "parole donne aléatoirement la parole à l'ensemble des agents, avant de\n",
    "recommencer. Un tour de parole constitue sémantiquement une unité de temps, un tick d'horloge. La classe SMA s'écrit :\n"
   ]
  },
  {
   "cell_type": "code",
   "execution_count": 291,
   "metadata": {},
   "outputs": [],
   "source": [
    "import random\n",
    "class SMA:\n",
    "      def __init__(self):\n",
    "        self.tick=0\n",
    "        self.resetTicks()\n",
    "        self.agentList = []\n",
    "\n",
    "      def resetTicks(self):\n",
    "          tick=0\n",
    "          \n",
    "      def addAgent(self,ag):\n",
    "          self.agentList.append(ag)\n",
    " \n",
    "      def run(self,rounds):\n",
    "          for i in range(0,rounds):\n",
    "              self.runOnce()\n",
    "\n",
    "      def runOnce(self):\n",
    "          self.tick+=1\n",
    "          random.shuffle(self.agentList)\n",
    "          for ag in self.agentList :\n",
    "              ag.decide()\n",
    "          print(\"tick \"+str(self.tick)+\" ended\")"
   ]
  },
  {
   "cell_type": "code",
   "execution_count": 292,
   "metadata": {},
   "outputs": [
    {
     "name": "stdout",
     "output_type": "stream",
     "text": [
      "Bonjour ! My name is paul\n",
      "Bonjour ! My name is kim\n",
      "tick 1 ended\n",
      "Bonjour ! My name is paul\n",
      "Bonjour ! My name is kim\n",
      "tick 2 ended\n",
      "Bonjour ! My name is kim\n",
      "Bonjour ! My name is paul\n",
      "tick 3 ended\n",
      "Bonjour ! My name is paul\n",
      "Bonjour ! My name is kim\n",
      "tick 4 ended\n",
      "Bonjour ! My name is kim\n",
      "Bonjour ! My name is paul\n",
      "tick 5 ended\n",
      "Bonjour ! My name is paul\n",
      "Bonjour ! My name is kim\n",
      "tick 6 ended\n"
     ]
    }
   ],
   "source": [
    "sma = SMA()\n",
    "sma.addAgent(Agent(\"paul\"))\n",
    "sma.addAgent(Agent(\"kim\"))\n",
    "sma.run(6)"
   ]
  },
  {
   "cell_type": "markdown",
   "metadata": {},
   "source": [
    "### La simultanéïté\n",
    "\n",
    "Le système séquentiel présenté précédemment possède des avantages mais aussi des inconvénients. Parmi ses avanatages, il y a bien évidemment sa simplicité. Il possède néanmoins un inconvénient lié au fait que comme un agent agit dès qu'il le peut (dans sa méthode `decide`), deux agents évalués consécutivement ne sont donc pas face au même état de l'environnement.\n",
    "\n",
    "Prenons un simple exemple d'agents qui raisonnent sur le nombre d'appels total qu'il y a eu à une des méthodes `decide`. Chacun incrémente ce nombre d'appel global, mais aucun d'entre eux ne perçoit la même valeur.\n"
   ]
  },
  {
   "cell_type": "code",
   "execution_count": 293,
   "metadata": {},
   "outputs": [
    {
     "name": "stdout",
     "output_type": "stream",
     "text": [
      "Je suis  Kim et je pense que le nombre global est  1\n",
      "Je suis  Paul et je pense que le nombre global est  2\n",
      "Je suis  Lisa et je pense que le nombre global est  3\n",
      "tick 1 ended\n",
      "Je suis  Kim et je pense que le nombre global est  4\n",
      "Je suis  Paul et je pense que le nombre global est  5\n",
      "Je suis  Lisa et je pense que le nombre global est  6\n",
      "tick 2 ended\n",
      "Je suis  Kim et je pense que le nombre global est  7\n",
      "Je suis  Paul et je pense que le nombre global est  8\n",
      "Je suis  Lisa et je pense que le nombre global est  9\n",
      "tick 3 ended\n",
      "Je suis  Kim et je pense que le nombre global est  10\n",
      "Je suis  Paul et je pense que le nombre global est  11\n",
      "Je suis  Lisa et je pense que le nombre global est  12\n",
      "tick 4 ended\n",
      "Je suis  Lisa et je pense que le nombre global est  13\n",
      "Je suis  Paul et je pense que le nombre global est  14\n",
      "Je suis  Kim et je pense que le nombre global est  15\n",
      "tick 5 ended\n",
      "Je suis  Lisa et je pense que le nombre global est  16\n",
      "Je suis  Kim et je pense que le nombre global est  17\n",
      "Je suis  Paul et je pense que le nombre global est  18\n",
      "tick 6 ended\n"
     ]
    }
   ],
   "source": [
    "global_calls = 0\n",
    "\n",
    "class Agent:\n",
    "    def __init__(self,name) :\n",
    "        self.name=name\n",
    "            \n",
    "    def decide(self):\n",
    "        global global_calls\n",
    "        global_calls += 1\n",
    "        print(\"Je suis \",self.name, \"et je pense que le nombre global est \", global_calls) \n",
    "\n",
    "sma = SMA()\n",
    "sma.addAgent(Agent(\"Paul\"))\n",
    "sma.addAgent(Agent(\"Kim\"))\n",
    "sma.addAgent(Agent(\"Lisa\"))\n",
    "sma.run(6)"
   ]
  },
  {
   "cell_type": "markdown",
   "metadata": {},
   "source": [
    "On voir clairement ici la différence de niveau d'information des différents agents au sein d'un même tour de parole.\n",
    "\n",
    "Dans certaines simulations, il est parfois necessaire que, dans un même tour de parole, tous les agents soient face à la même connaissance lors de leur raisonnement. C'est le principe d'équité en raisonnement, ou en d'autres termes, *la simultanéïté* dans l'action (problème similaire à celui des automates cellulaires : dans le célèbre `jeu de la vie`, toutes les cellules changent d'état simultanément).\n",
    "\n",
    "Pour implémenter ce principe de simultanéité, le principe perception-decision-action doit être \"ventilé\". L'agent a alors besoin de 2 méthodes d'accès. La première pour la perception et la décision : `update`  et la seconde pour l'action :`decide`.\n",
    "Le SMA appelle alors `update` chez tous les agents, puis `decide`. La connaissance étant identique pour tous au moment du raisonnement, l'ordre de passage des agents est maintenant indifférent : ils peuvent tous agir dans le même ordre."
   ]
  },
  {
   "cell_type": "code",
   "execution_count": 294,
   "metadata": {},
   "outputs": [],
   "source": [
    "global_calls = 0 \n",
    "\n",
    "class Agent:\n",
    "    def __init__(self,name) :\n",
    "        self.name=name\n",
    "\n",
    "    def update(self) :\n",
    "        global global_calls \n",
    "        global_calls += 1\n",
    "        \n",
    "    def decide(self):\n",
    "        print(\"Je suis \",self.name, \"et je pense que le nombre global est \", global_calls)"
   ]
  },
  {
   "cell_type": "code",
   "execution_count": 295,
   "metadata": {},
   "outputs": [],
   "source": [
    "import random\n",
    "class SMA:\n",
    "    def __init__(self):\n",
    "        self.tick=0\n",
    "        self.resetTicks()\n",
    "        self.agentList = []\n",
    "\n",
    "    def resetTicks(self):\n",
    "        tick=0\n",
    "          \n",
    "    def addAgent(self,ag):\n",
    "        self.agentList.append(ag)\n",
    " \n",
    "    def run(self,rounds):\n",
    "        for i in range(0,rounds):\n",
    "            self.runOnce()\n",
    "\n",
    "    def runOnce(self):\n",
    "        self.tick+=1\n",
    "        for ag in self.agentList :\n",
    "            ag.update()\n",
    "        for ag in self.agentList :\n",
    "            ag.decide()            \n",
    "        print(\"tick \"+str(self.tick)+\" ended\")"
   ]
  },
  {
   "cell_type": "code",
   "execution_count": 296,
   "metadata": {
    "scrolled": true
   },
   "outputs": [
    {
     "name": "stdout",
     "output_type": "stream",
     "text": [
      "Je suis  Paul et je pense que le nombre global est  3\n",
      "Je suis  Kim et je pense que le nombre global est  3\n",
      "Je suis  Lisa et je pense que le nombre global est  3\n",
      "tick 1 ended\n",
      "Je suis  Paul et je pense que le nombre global est  6\n",
      "Je suis  Kim et je pense que le nombre global est  6\n",
      "Je suis  Lisa et je pense que le nombre global est  6\n",
      "tick 2 ended\n",
      "Je suis  Paul et je pense que le nombre global est  9\n",
      "Je suis  Kim et je pense que le nombre global est  9\n",
      "Je suis  Lisa et je pense que le nombre global est  9\n",
      "tick 3 ended\n"
     ]
    }
   ],
   "source": [
    "sma = SMA()\n",
    "sma.addAgent(Agent(\"Paul\"))\n",
    "sma.addAgent(Agent(\"Kim\"))\n",
    "sma.addAgent(Agent(\"Lisa\"))\n",
    "sma.run(3)"
   ]
  },
  {
   "cell_type": "markdown",
   "metadata": {},
   "source": [
    "Cette fois on constate que tous les agents ont eu la même information dans un même tour de parole.\n",
    "\n",
    "La simultanéïté des agents résoud parfois certains problèmes, mais elle possède évidemment un inconvénient majeur. Si les ressources accédées par les agents sont communes, il y a alors risque de conflit, et il faudra alors régler les conflits. C'est pourquoi le principe de simultanéïté n'est utilisé dans les SMA que lorsque c'est vraiment necessaire.\n",
    "\n",
    "Quand des agents `véhicules` circulent sur infrastructure, le SMA leur permet régulièrement d'avancer en fonction de ce qu'ils perçoivent. Dans un tel cas, on comprend aisément que l'ordre de raisonnement des agents devient capital : Si A est devant B et que tous deux sont très proches et à la même vitesse, si A avance en premier, B n'a ensuite aucune difficulté à avancer, tandis que si B avance en premier, l'accident est inévitable. la simultanéïté devient alors impérative.\n",
    "\n"
   ]
  },
  {
   "cell_type": "markdown",
   "metadata": {},
   "source": [
    "# La simulation du trafic\n",
    "\n",
    "On souhaite ici concevoir un générateur de trafic routier rudimentaire. Dans ce modèle, des agents `CarAgent` circulent sur une infrastructure routiere simplifiée constituée d'une grille abstraite de `n` verticales et `m` horizontales. Cette grille sera simplement matérialisée par ses bornes `bounds(n,m)`. Nos véhicules passent simplement d'une intersection à la suivante. Ils ont donc une position (x,y) sur la grille.\n",
    "\n",
    "A chaque étape, le véhicule suit son itinéraire."
   ]
  },
  {
   "cell_type": "code",
   "execution_count": 297,
   "metadata": {},
   "outputs": [],
   "source": [
    "import random\n",
    "class CarAgent():\n",
    "    def __init__(self, unique_id, pos_dep, pos_arr):\n",
    "        self.pos = pos_dep\n",
    "        self.pos_arr = pos_arr\n",
    "        self.is_alive = True\n",
    "        self.unique_id = unique_id\n",
    "        \n",
    "    def decide(self):\n",
    "        if self.pos[0] == self.pos_arr[0]:\n",
    "            if self.pos[1] == self.pos_arr[1]:\n",
    "                #arrivé à destination\n",
    "                self.is_alive = False\n",
    "                print(\"agent \"+str(self.unique_id)+ \" died\")\n",
    "                return\n",
    "            elif self.pos[1] > self.pos_arr[1]:\n",
    "                self.new_pos = (self.pos[0],self.pos[1]-1)\n",
    "            else :\n",
    "                self.new_pos = (self.pos[0],self.pos[1]+1)\n",
    "        elif self.pos[0] > self.pos_arr[0]:\n",
    "            self.new_pos = (self.pos[0]-1,self.pos[1])\n",
    "        else :\n",
    "            self.new_pos = (self.pos[0]+1,self.pos[1])\n",
    "            \n",
    "        print(\"Agent voiture n°\",self.unique_id,\"bouge de\",self.pos,\"à\",self.new_pos)\n",
    "        self.pos = self.new_pos\n",
    "        "
   ]
  },
  {
   "cell_type": "code",
   "execution_count": 298,
   "metadata": {},
   "outputs": [
    {
     "name": "stdout",
     "output_type": "stream",
     "text": [
      "Agent voiture n° 1 bouge de (2, 0) à (3, 0)\n",
      "Agent voiture n° 3 bouge de (8, 8) à (7, 8)\n",
      "Agent voiture n° 2 bouge de (5, 5) à (6, 5)\n",
      "tick 0 ended\n",
      "\n",
      "Agent voiture n° 1 bouge de (3, 0) à (4, 0)\n",
      "Agent voiture n° 3 bouge de (7, 8) à (6, 8)\n",
      "Agent voiture n° 2 bouge de (6, 5) à (7, 5)\n",
      "tick 1 ended\n",
      "\n",
      "Agent voiture n° 3 bouge de (6, 8) à (5, 8)\n",
      "agent 1 died\n",
      "Agent voiture n° 2 bouge de (7, 5) à (7, 6)\n",
      "tick 2 ended\n",
      "\n",
      "Agent voiture n° 2 bouge de (7, 6) à (7, 7)\n",
      "Agent voiture n° 3 bouge de (5, 8) à (4, 8)\n",
      "tick 3 ended\n",
      "\n",
      "Agent voiture n° 2 bouge de (7, 7) à (7, 8)\n",
      "Agent voiture n° 3 bouge de (4, 8) à (4, 7)\n",
      "tick 4 ended\n",
      "\n",
      "Agent voiture n° 2 bouge de (7, 8) à (7, 9)\n",
      "Agent voiture n° 3 bouge de (4, 7) à (4, 6)\n",
      "tick 5 ended\n",
      "\n",
      "agent 3 died\n",
      "agent 2 died\n",
      "tick 6 ended\n",
      "\n"
     ]
    }
   ],
   "source": [
    "agentList = [CarAgent(1,(2,0),(4,0)) , CarAgent(2,(5,5), (7,9)), CarAgent(3,(8,8), (4,6))]\n",
    "tick = 0\n",
    "for _ in range(7):\n",
    "    random.shuffle(agentList)\n",
    "    for a in agentList :\n",
    "        a.decide()\n",
    "        \n",
    "    #Etape de nettoyage de la liste d'agents\n",
    "    for a in agentList :\n",
    "        if a.is_alive == False:\n",
    "            agentList.remove(a) \n",
    "    print(\"tick\",tick,\"ended\\n\")\n",
    "    tick+=1\n",
    "        "
   ]
  },
  {
   "cell_type": "markdown",
   "metadata": {},
   "source": [
    "Un agent passager prend un véhicule si ce dernier va dans sa direction, hors pour l'instant il est impossible de récupérer la prochaine position d'un véhicule, il va donc falloir modifier notre agent véhicule afin que, dans un premier temps, il récupère sa prochaine position afin qu'elle soit accessible au passager et qu'il puisse décider ou non de prendre un véhicule (méthode update()), puis dans un second temps on mettra à jour la position de tous les agents du système (méthode decide())"
   ]
  },
  {
   "cell_type": "code",
   "execution_count": 299,
   "metadata": {},
   "outputs": [],
   "source": [
    "import random\n",
    "class CarAgent():\n",
    "    def __init__(self, unique_id, pos_dep, pos_arr):\n",
    "        self.pos = pos_dep\n",
    "        self.pos_arr = pos_arr\n",
    "        self.new_pos = None\n",
    "        self.is_alive = True\n",
    "        self.unique_id = unique_id\n",
    "        \n",
    "    def update(self):\n",
    "        if self.pos[0] == self.pos_arr[0]:\n",
    "            if self.pos[1] == self.pos_arr[1]:\n",
    "                #arrivé à destination\n",
    "                self.is_alive = False\n",
    "                print(\"agent \"+str(self.unique_id)+ \" died\")\n",
    "                return\n",
    "            elif self.pos[1] > self.pos_arr[1]:\n",
    "                self.new_pos = (self.pos[0],self.pos[1]-1)\n",
    "            else :\n",
    "                self.new_pos = (self.pos[0],self.pos[1]+1)\n",
    "        elif self.pos[0] > self.pos_arr[0]:\n",
    "            self.new_pos = (self.pos[0]-1,self.pos[1])\n",
    "        else :\n",
    "            self.new_pos = (self.pos[0]+1,self.pos[1])\n",
    "\n",
    "\n",
    "    def decide(self):\n",
    "        if self.is_alive == True :\n",
    "            print(\"Agent voiture n°\",self.unique_id,\"bouge de\",self.pos,\"à\",self.new_pos)\n",
    "            self.pos = self.new_pos"
   ]
  },
  {
   "cell_type": "markdown",
   "metadata": {},
   "source": [
    "On peut maintenant creer notre agent passager, quand un véhicule arrivera sur sa position, il déterminera à l'aide de sa méthode move() si c'est utile pour lui de prendre ce véhicule."
   ]
  },
  {
   "cell_type": "code",
   "execution_count": 300,
   "metadata": {},
   "outputs": [],
   "source": [
    "class RiderAgent():\n",
    "    def __init__(self, unique_id, pos_dep, pos_arr):\n",
    "        self.unique_id = unique_id\n",
    "        self.pos = pos_dep\n",
    "        self.new_pos = self.pos\n",
    "        self.pos_arr = pos_arr\n",
    "        self.waiting_time = 0\n",
    "        self.is_alive = True\n",
    "\n",
    "    #on vérifie si il y a un véhicule qui va dans notre direction\n",
    "    def move(self, caragent):\n",
    "        for car in caragent:\n",
    "            if (self.pos[0] < self.pos_arr[0]) and (car.pos[0] < car.pos_arr[0]):\n",
    "                return car\n",
    "            elif (self.pos[0] > self.pos_arr[0]) and (car.pos[0] > car.pos_arr[0]):\n",
    "                return car\n",
    "            elif (self.pos[1] < self.pos_arr[1]) and (car.pos[1] < car.pos_arr[1]):\n",
    "                return car\n",
    "            elif (self.pos[1] > self.pos_arr[1]) and (car.pos[1] > car.pos_arr[1]):\n",
    "                return car\n",
    "        return None\n",
    "\n",
    "    def update(self):\n",
    "        ##On vérifie si il y a quelqu'un sur notre case, sinon ça ne sert à rien d'agir\n",
    "        global agentList\n",
    "        caragent = [agent for agent in agentList if (agent.__class__.__name__ == \"CarAgent\" and agent.pos == self.pos)]\n",
    "        if len(caragent) > 0:\n",
    "            new_car = self.move(caragent)\n",
    "            if new_car != None:\n",
    "                print(\"Je prends le véhicule\",new_car.unique_id)\n",
    "                self.new_pos = new_car.new_pos\n",
    "            else :\n",
    "                self.new_pos = self.pos\n",
    "        else :\n",
    "            self.new_pos = self.pos\n",
    "    \n",
    "    def decide(self):\n",
    "        #print(\"Agent Rider:\", self, self.pos, self.pos_arr, self.new_position)\n",
    "        if self.new_pos != self.pos :\n",
    "            self.pos = self.new_pos\n",
    "            #on vérifie si le passager est arrivé à destination\n",
    "            if self.pos == self.pos_arr:\n",
    "                print(\"Agent passager n°\",self.unique_id,\" arrivé à destination avec un temps total d'attente de:\",self.waiting_time)\n",
    "                self.is_alive = False\n",
    "        else :\n",
    "            self.waiting_time += 1"
   ]
  },
  {
   "cell_type": "markdown",
   "metadata": {},
   "source": [
    "Testons : on met un passager et un vehicule, le véhicule va dans la même direction que le passager, la destination du passager est à une case de son départ.En toute logique, le passager devrait donc arriver à destination en un tick et afficher son message d'arriver."
   ]
  },
  {
   "cell_type": "code",
   "execution_count": 301,
   "metadata": {},
   "outputs": [
    {
     "name": "stdout",
     "output_type": "stream",
     "text": [
      "Agent voiture n° 1 bouge de (4, 5) à (5, 5)\n",
      "tick 0 ended\n",
      "\n",
      "Je prends le véhicule 1\n",
      "Agent voiture n° 1 bouge de (5, 5) à (6, 5)\n",
      "tick 1 ended\n",
      "\n",
      "agent 1 died\n",
      "tick 2 ended\n",
      "\n"
     ]
    }
   ],
   "source": [
    "bounds = (10,10)\n",
    "car = CarAgent(1,(4,5),(6,5))\n",
    "rider = RiderAgent(2,(5,5),(6,5))\n",
    "agentList = [car,rider]\n",
    "tick = 0\n",
    "\n",
    "#Tick 1\n",
    "\n",
    "car.update()\n",
    "rider.update()\n",
    "car.decide()\n",
    "rider.decide()\n",
    "print(\"tick\",tick,\"ended\\n\")\n",
    "tick+=1\n",
    "\n",
    "#tick 2\n",
    "\n",
    "rider.update()\n",
    "car.update()\n",
    "rider.decide()\n",
    "car.decide()\n",
    "print(\"tick\",tick,\"ended\\n\")\n",
    "tick+=1\n",
    "\n",
    "#tick 3\n",
    "\n",
    "rider.update()\n",
    "car.update()\n",
    "rider.decide()\n",
    "car.decide()\n",
    "print(\"tick\",tick,\"ended\\n\")\n",
    "tick+=1\n",
    "\n",
    "\n",
    "        "
   ]
  },
  {
   "cell_type": "markdown",
   "metadata": {},
   "source": [
    "On voit ici que le passager à bien détecté le véhicule et qu'il compte le prendre, il devrait donc normalement arriver à destination, mais ce n'est pas le cas. Le problème étant que lors du tick 2, le passager à eu son tour de parole avant le véhicule, le véhicule n'a donc pas pu calculer sa prochaine position et la transmettre au passager. Cepandant si on change l'ordre d'éxécution :"
   ]
  },
  {
   "cell_type": "code",
   "execution_count": 302,
   "metadata": {},
   "outputs": [
    {
     "name": "stdout",
     "output_type": "stream",
     "text": [
      "Agent voiture n° 1 bouge de (4, 5) à (5, 5)\n",
      "tick 0 ended\n",
      "\n",
      "Je prends le véhicule 1\n",
      "Agent voiture n° 1 bouge de (5, 5) à (6, 5)\n",
      "Agent passager n° 2  arrivé à destination avec un temps total d'attente de: 1\n",
      "tick 1 ended\n",
      "\n",
      "agent 1 died\n",
      "tick 2 ended\n",
      "\n"
     ]
    }
   ],
   "source": [
    "bounds = (10,10)\n",
    "car = CarAgent(1,(4,5),(6,5))\n",
    "rider = RiderAgent(2,(5,5),(6,5))\n",
    "agentList = [car,rider]\n",
    "tick = 0\n",
    "\n",
    "#Tick 1\n",
    "\n",
    "car.update()\n",
    "rider.update()\n",
    "car.decide()\n",
    "rider.decide()\n",
    "print(\"tick\",tick,\"ended\\n\")\n",
    "tick+=1\n",
    "\n",
    "#tick 2\n",
    "\n",
    "car.update()\n",
    "rider.update()\n",
    "car.decide()\n",
    "rider.decide()\n",
    "print(\"tick\",tick,\"ended\\n\")\n",
    "tick+=1\n",
    "\n",
    "\n",
    "#tick 3\n",
    "\n",
    "car.update()\n",
    "rider.update()\n",
    "car.decide()\n",
    "rider.decide()\n",
    "print(\"tick\",tick,\"ended\\n\")\n",
    "tick+=1\n",
    "\n",
    "\n",
    "        "
   ]
  },
  {
   "cell_type": "markdown",
   "metadata": {},
   "source": [
    "Cette fois si le passager a pu acceder à la prochaine position et mettre à jour la sienne. Il faut donc que tout les agents véhicules calculent leurs prochaines positions avant le tour de parôle des agents passagers. On va donc mettre à jour les agents :"
   ]
  },
  {
   "cell_type": "code",
   "execution_count": 303,
   "metadata": {},
   "outputs": [],
   "source": [
    "class CarAgent():\n",
    "    def __init__(self, unique_id, pos_dep, pos_arr):\n",
    "        self.pos = pos_dep\n",
    "        self.pos_arr = pos_arr\n",
    "        self.new_pos = None\n",
    "        self.is_alive = True\n",
    "        self.unique_id = unique_id\n",
    "        \n",
    "    def cars_update(self):\n",
    "        if self.pos[0] == self.pos_arr[0]:\n",
    "            if self.pos[1] == self.pos_arr[1]:\n",
    "                #arrivé à destination\n",
    "                self.is_alive = False\n",
    "                print(\"agent \"+str(self.unique_id)+ \" died\")\n",
    "                return\n",
    "            elif self.pos[1] > self.pos_arr[1]:\n",
    "                self.new_pos = (self.pos[0],self.pos[1]-1)\n",
    "            else :\n",
    "                self.new_pos = (self.pos[0],self.pos[1]+1)\n",
    "        elif self.pos[0] > self.pos_arr[0]:\n",
    "            self.new_pos = (self.pos[0]-1,self.pos[1])\n",
    "        else :\n",
    "            self.new_pos = (self.pos[0]+1,self.pos[1])\n",
    "\n",
    "    def riders_update(self):\n",
    "        pass\n",
    "\n",
    "    def agents_decide(self):\n",
    "        if self.is_alive == True :\n",
    "            print(\"Agent voiture n°\",self.unique_id,\"bouge de\",self.pos,\"à\",self.new_pos)\n",
    "            self.pos = self.new_pos"
   ]
  },
  {
   "cell_type": "code",
   "execution_count": 304,
   "metadata": {},
   "outputs": [],
   "source": [
    "class RiderAgent():\n",
    "    def __init__(self, unique_id, pos_dep, pos_arr):\n",
    "        self.unique_id = unique_id\n",
    "        self.pos = pos_dep\n",
    "        self.new_pos = self.pos\n",
    "        self.pos_arr = pos_arr\n",
    "        self.waiting_time = 0\n",
    "        self.is_alive = True\n",
    "\n",
    "    #on vérifie si il y a un véhicule qui va dans notre direction\n",
    "    def move(self, caragent):\n",
    "        for car in caragent:\n",
    "            if (self.pos[0] < self.pos_arr[0]) and (car.pos[0] < car.pos_arr[0]):\n",
    "                return car\n",
    "            elif (self.pos[0] > self.pos_arr[0]) and (car.pos[0] > car.pos_arr[0]):\n",
    "                return car\n",
    "            elif (self.pos[1] < self.pos_arr[1]) and (car.pos[1] < car.pos_arr[1]):\n",
    "                return car\n",
    "            elif (self.pos[1] > self.pos_arr[1]) and (car.pos[1] > car.pos_arr[1]):\n",
    "                return car\n",
    "        return None\n",
    "    \n",
    "    def cars_update(self):\n",
    "        pass\n",
    "\n",
    "    def riders_update(self):\n",
    "        ##On vérifie si il y a quelqu'un sur notre case, sinon ça ne sert à rien d'agir\n",
    "        global agentList\n",
    "        caragent = [agent for agent in agentList if (agent.__class__.__name__ == \"CarAgent\" and agent.pos == self.pos)]\n",
    "        if len(caragent) > 0:\n",
    "            new_car = self.move(caragent)\n",
    "            if new_car != None:\n",
    "                print(\"Je prends le véhicule\",new_car.unique_id)\n",
    "                self.new_pos = new_car.new_pos\n",
    "            else :\n",
    "                self.new_pos = self.pos\n",
    "        else :\n",
    "            self.new_pos = self.pos\n",
    "    \n",
    "    def agents_decide(self):\n",
    "        #print(\"Agent Rider:\", self, self.pos, self.pos_arr, self.new_position)\n",
    "        if self.new_pos != self.pos :\n",
    "            self.pos = self.new_pos\n",
    "            #on vérifie si le passager est arrivé à destination\n",
    "            if self.pos == self.pos_arr:\n",
    "                print(\"Agent passager n°\",self.unique_id,\" arrivé à destination avec un temps total d'attente de:\",self.waiting_time)\n",
    "                self.is_alive = False\n",
    "        else :\n",
    "            self.waiting_time += 1"
   ]
  },
  {
   "cell_type": "markdown",
   "metadata": {},
   "source": [
    "On peut maintenant lancer sans inquiétude notre éxecution avec une liste mélangée :"
   ]
  },
  {
   "cell_type": "code",
   "execution_count": 305,
   "metadata": {},
   "outputs": [
    {
     "name": "stdout",
     "output_type": "stream",
     "text": [
      "Agent voiture n° 2 bouge de (5, 5) à (6, 5)\n",
      "Agent voiture n° 3 bouge de (8, 8) à (7, 8)\n",
      "Agent voiture n° 1 bouge de (1, 0) à (2, 0)\n",
      "tick 0 ended\n",
      "\n",
      "Je prends le véhicule 2\n",
      "Agent voiture n° 2 bouge de (6, 5) à (7, 5)\n",
      "Agent voiture n° 3 bouge de (7, 8) à (6, 8)\n",
      "Agent voiture n° 1 bouge de (2, 0) à (3, 0)\n",
      "tick 1 ended\n",
      "\n",
      "Je prends le véhicule 2\n",
      "Agent passager n° 5  arrivé à destination avec un temps total d'attente de: 1\n",
      "Agent voiture n° 3 bouge de (6, 8) à (5, 8)\n",
      "Agent voiture n° 2 bouge de (7, 5) à (7, 6)\n",
      "Agent voiture n° 1 bouge de (3, 0) à (4, 0)\n",
      "tick 2 ended\n",
      "\n",
      "Je prends le véhicule 1\n",
      "Agent voiture n° 1 bouge de (4, 0) à (5, 0)\n",
      "Agent voiture n° 3 bouge de (5, 8) à (4, 8)\n",
      "Agent voiture n° 2 bouge de (7, 6) à (7, 7)\n",
      "tick 3 ended\n",
      "\n",
      "Je prends le véhicule 1\n",
      "Agent voiture n° 2 bouge de (7, 7) à (7, 8)\n",
      "Agent voiture n° 1 bouge de (5, 0) à (6, 0)\n",
      "Agent voiture n° 3 bouge de (4, 8) à (4, 7)\n",
      "tick 4 ended\n",
      "\n",
      "Je prends le véhicule 1\n",
      "Agent voiture n° 2 bouge de (7, 8) à (7, 9)\n",
      "Agent voiture n° 1 bouge de (6, 0) à (7, 0)\n",
      "Agent passager n° 4  arrivé à destination avec un temps total d'attente de: 3\n",
      "Agent voiture n° 3 bouge de (4, 7) à (4, 6)\n",
      "tick 5 ended\n",
      "\n",
      "agent 2 died\n",
      "agent 3 died\n",
      "Agent voiture n° 1 bouge de (7, 0) à (8, 0)\n",
      "tick 6 ended\n",
      "\n",
      "agent 3 died\n",
      "Agent voiture n° 1 bouge de (8, 0) à (9, 0)\n",
      "tick 7 ended\n",
      "\n",
      "agent 1 died\n",
      "tick 8 ended\n",
      "\n",
      "tick 9 ended\n",
      "\n"
     ]
    }
   ],
   "source": [
    "agentList = [CarAgent(1,(1,0),(9,0)) , CarAgent(2,(5,5), (7,9)), CarAgent(3,(8,8), (4,6)),\n",
    "             RiderAgent(4,(4,0),(7,0)),RiderAgent(5,(6,5),(7,6))]\n",
    "\n",
    "tick = 0\n",
    "for _ in range(10):\n",
    "    random.shuffle(agentList)\n",
    "    for a in agentList :\n",
    "        a.cars_update()\n",
    "    for a in agentList : \n",
    "        a.riders_update()\n",
    "    for a in agentList : \n",
    "        a.agents_decide()\n",
    "        \n",
    "    #Etape de nettoyage de la liste d'agents\n",
    "    for a in agentList :\n",
    "        if a.is_alive == False:\n",
    "            agentList.remove(a) \n",
    "    print(\"tick\",tick,\"ended\\n\")\n",
    "    tick+=1\n",
    "        "
   ]
  },
  {
   "cell_type": "markdown",
   "metadata": {},
   "source": [
    "# Simulation de traffic (version papier)"
   ]
  },
  {
   "cell_type": "code",
   "execution_count": 701,
   "metadata": {},
   "outputs": [],
   "source": [
    "import networkx as nx\n",
    "import random as random\n",
    "import matplotlib.pyplot as plt"
   ]
  },
  {
   "cell_type": "code",
   "execution_count": 702,
   "metadata": {},
   "outputs": [],
   "source": [
    "class Agent:\n",
    "    def __init__(self, unique_id):\n",
    "        self.is_alive = True\n",
    "        self.unique_id = unique_id\n",
    "    \n",
    "    def update(self) -> None:\n",
    "        pass\n",
    "    \n",
    "    def decide(self) -> None:\n",
    "        pass"
   ]
  },
  {
   "cell_type": "code",
   "execution_count": 703,
   "metadata": {},
   "outputs": [],
   "source": [
    "class DriverAgent(Agent):\n",
    "    def __init__(self, unique_id, trip):\n",
    "        super().__init__(unique_id)\n",
    "        self.trip = trip\n",
    "        \n",
    "    def update(self) :\n",
    "        pass\n",
    "    def decide(self) :\n",
    "        self.trip.pop(0)"
   ]
  },
  {
   "cell_type": "code",
   "execution_count": 794,
   "metadata": {},
   "outputs": [],
   "source": [
    "class RiderAgent(Agent):\n",
    "    def __init__(self, unique_id, v_dep, v_arr):\n",
    "        super().__init__(unique_id)\n",
    "        self.v_r = v_dep\n",
    "        self.v_arr = v_arr\n",
    "        self.Av = dict()\n",
    "        self.Av[self.v_r]={'distance':0}\n",
    "        self.Ad = []\n",
    "        self.G_ts = None\n",
    "        \n",
    "    def generate_transition_graph(self):\n",
    "        G_ts = nx.MultiGraph()\n",
    "        print(self.Av)\n",
    "        for av, val in self.Av.items():\n",
    "            print(av, val)\n",
    "            #print(av)\n",
    "            G_ts.add_node(av, distance=val['distance'])\n",
    "            print(G_ts.nodes())\n",
    "            for ad in self.Ad[av]:\n",
    "                #si le parcours est faisable\n",
    "                d_time_left = ad[2]\n",
    "                r_time_left = self.Av[av]['distance']\n",
    "                if d_time_left >= r_time_left :\n",
    "                    id_r = ad[0]\n",
    "                    #il va falloir split : 1 noeuds jusqu'a une contribution positive puis un pour la suite\n",
    "                    new_node = ad[1][-1]\n",
    "                    dist = r_time_left + d_time_left\n",
    "                    if G_ts.has_node(new_node):\n",
    "                        if (dist < G_ts.nodes[new_node]['distance']):\n",
    "                            G_ts.nodes[new_node]['distance'] = r_time_left + d_time_left\n",
    "                    else :\n",
    "                        G_ts.add_node(new_node, distance=dist)\n",
    "                        \n",
    "                    contrib = nx.shortest_path_length(sma.graph, source=av, target=self.v_arr) - nx.shortest_path_length(sma.graph, source=new_node, target=self.v_arr)\n",
    "                    delay = d_time_left\n",
    "                    G_ts.add_edge(av, new_node, idr=id_r, contrib=contrib, delay=delay)\n",
    "                    \n",
    "        self.G_ts = G_ts\n",
    "        return G_ts\n",
    "                    \n",
    "            \n",
    "        \n",
    "    def update(self):\n",
    "        self.Ad = sma.get_rider_matched_drivers(self.Av)\n",
    "        G_ts = self.generate_transition_graph()\n",
    "        self.Av = dict()\n",
    "        for node in list(G_ts.nodes):\n",
    "            print(G_ts.nodes[node]['distance'])\n",
    "            self.Av[node] = {'distance':G_ts.nodes[node]['distance']}\n",
    "        print(self.Av)\n",
    "    def decide(self):\n",
    "        \n",
    "        pass"
   ]
  },
  {
   "cell_type": "code",
   "execution_count": 795,
   "metadata": {},
   "outputs": [],
   "source": [
    "class SMA:\n",
    "    def __init__(self, agentList, graph):\n",
    "        self.tick = 0\n",
    "        self.agentList = agentList\n",
    "        self.drivers_nodes_tracker = dict()\n",
    "        self.graph = graph\n",
    "    \n",
    "    def update_nodes_tracker(self):\n",
    "        drivers = [agent for agent in self.agentList if (agent.__class__.__name__ == \"DriverAgent\")]\n",
    "        \n",
    "        for node in list(self.graph.nodes()):\n",
    "            self.drivers_nodes_tracker[node] = list()\n",
    "            \n",
    "        for key in list(self.drivers_nodes_tracker.keys()):\n",
    "            for driver in drivers :   \n",
    "                if key in driver.trip:\n",
    "                    m_idx = driver.trip.index(key)\n",
    "                    self.drivers_nodes_tracker[key].append((driver.unique_id, driver.trip[m_idx:], m_idx))\n",
    "        print(\"\\n driver node tracker :\", self.drivers_nodes_tracker)\n",
    "        \n",
    "        \n",
    "    def get_rider_matched_drivers(self, Av):\n",
    "        Ad = dict()\n",
    "        for av in Av:\n",
    "            Ad[av] = self.drivers_nodes_tracker[av]\n",
    "        \n",
    "        print(\"\\n ad :\", Ad)\n",
    "        return Ad\n",
    "        \n",
    "        \n",
    "    def run(self, rounds):\n",
    "        for i in range(0,rounds):\n",
    "            self.runOnce()\n",
    "\n",
    "    def runOnce(self):\n",
    "        self.tick += 1\n",
    "        self.update_nodes_tracker()\n",
    "        for agent in self.agentList:\n",
    "            agent.update()\n",
    "            agent.decide()\n",
    "        print(\"tick \" + str(self.tick) + \" ended\")"
   ]
  },
  {
   "cell_type": "code",
   "execution_count": 796,
   "metadata": {},
   "outputs": [
    {
     "data": {
      "image/png": "[encoded data removed]",
      "text/plain": [
       "<Figure size 720x720 with 1 Axes>"
      ]
     },
     "metadata": {},
     "output_type": "display_data"
    }
   ],
   "source": [
    "graph = nx.grid_2d_graph(4,4)\n",
    "\n",
    "\n",
    "plt.figure(figsize=(10,10))    # pour définir la taille de la figure\n",
    "pos = nx.planar_layout(graph)\n",
    "nx.draw_networkx(graph,pos=pos,edge_color='black',width=1,linewidths=1,node_size=800,node_color='pink',alpha=0.9)\n",
    "plt.axis('off')\n",
    "plt.show()\n"
   ]
  },
  {
   "cell_type": "code",
   "execution_count": 806,
   "metadata": {},
   "outputs": [
    {
     "name": "stdout",
     "output_type": "stream",
     "text": [
      "[(1, 3), (1, 2), (1, 1), (1, 0)]\n"
     ]
    }
   ],
   "source": [
    "node_list = list(graph.nodes)\n",
    "trip1 = nx.shortest_path( graph, random.choice(node_list), random.choice(node_list))\n",
    "trip2 = nx.shortest_path( graph, (1, 3), (1, 0))\n",
    "print(trip2)\n",
    "trip3 = nx.shortest_path( graph, (1, 0), (1, 3))\n",
    "trip4 = list(((2,2),(1,2),(0,2),(0,1)))\n"
   ]
  },
  {
   "cell_type": "code",
   "execution_count": 807,
   "metadata": {},
   "outputs": [
    {
     "name": "stdout",
     "output_type": "stream",
     "text": [
      "\n",
      " driver node tracker : {(0, 0): [], (0, 1): [(4, [(0, 1)], 3)], (0, 2): [(4, [(0, 2), (0, 1)], 2)], (0, 3): [], (1, 0): [(2, [(1, 0)], 3), (3, [(1, 0), (1, 1), (1, 2), (1, 3)], 0)], (1, 1): [(2, [(1, 1), (1, 0)], 2), (3, [(1, 1), (1, 2), (1, 3)], 1)], (1, 2): [(2, [(1, 2), (1, 1), (1, 0)], 1), (3, [(1, 2), (1, 3)], 2), (4, [(1, 2), (0, 2), (0, 1)], 1)], (1, 3): [(2, [(1, 3), (1, 2), (1, 1), (1, 0)], 0), (3, [(1, 3)], 3)], (2, 0): [], (2, 1): [], (2, 2): [(1, [(2, 2), (2, 3)], 0), (4, [(2, 2), (1, 2), (0, 2), (0, 1)], 0)], (2, 3): [(1, [(2, 3)], 1)], (3, 0): [], (3, 1): [], (3, 2): [], (3, 3): []}\n",
      "\n",
      " ad : {(1, 1): [(2, [(1, 1), (1, 0)], 2), (3, [(1, 1), (1, 2), (1, 3)], 1)]}\n",
      "{(1, 1): {'distance': 0}}\n",
      "(1, 1) {'distance': 0}\n",
      "[(1, 1)]\n",
      "0\n",
      "2\n",
      "1\n",
      "{(1, 1): {'distance': 0}, (1, 0): {'distance': 2}, (1, 3): {'distance': 1}}\n",
      "tick 1 ended\n"
     ]
    }
   ],
   "source": [
    "agentList = [RiderAgent(0,(1, 1),(1, 3)), DriverAgent(1, trip1), DriverAgent(2, trip2), DriverAgent(3, trip3), DriverAgent(4, trip4)]\n",
    "sma = SMA(agentList, graph)\n",
    "sma.runOnce()\n"
   ]
  },
  {
   "cell_type": "code",
   "execution_count": 808,
   "metadata": {},
   "outputs": [
    {
     "data": {
      "image/png": "[encoded data removed]",
      "text/plain": [
       "<Figure size 720x720 with 1 Axes>"
      ]
     },
     "metadata": {},
     "output_type": "display_data"
    }
   ],
   "source": [
    "import matplotlib.pyplot as plt\n",
    "\n",
    "plt.figure(figsize=(10,10))    # pour définir la taille de la figure\n",
    "G_ts = sma.agentList[0].G_ts\n",
    "pos = nx.spring_layout(G_ts)\n",
    "nx.draw_networkx(G_ts,pos=pos,edge_color='black',width=1,linewidths=1,node_size=800,node_color='pink',alpha=0.9)\n",
    "nx.draw_networkx_edge_labels(G_ts,pos=pos)\n",
    "plt.axis('off')\n",
    "plt.show()\n"
   ]
  },
  {
   "cell_type": "code",
   "execution_count": 809,
   "metadata": {},
   "outputs": [
    {
     "name": "stdout",
     "output_type": "stream",
     "text": [
      "[(1, 1), (1, 0), (1, 3)]\n",
      "(1, 1)\n",
      "{'distance': 0}\n",
      "(1, 0)\n",
      "{'distance': 2}\n",
      "(1, 3)\n",
      "{'distance': 1}\n"
     ]
    }
   ],
   "source": [
    "print(G_ts.nodes)\n",
    "for node in list(G_ts.nodes):\n",
    "    print(node)\n",
    "    print(G_ts.nodes[node])"
   ]
  },
  {
   "cell_type": "code",
   "execution_count": 810,
   "metadata": {},
   "outputs": [
    {
     "name": "stdout",
     "output_type": "stream",
     "text": [
      "\n",
      " driver node tracker : {(0, 0): [], (0, 1): [(4, [(0, 1)], 2)], (0, 2): [(4, [(0, 2), (0, 1)], 1)], (0, 3): [], (1, 0): [(2, [(1, 0)], 2)], (1, 1): [(2, [(1, 1), (1, 0)], 1), (3, [(1, 1), (1, 2), (1, 3)], 0)], (1, 2): [(2, [(1, 2), (1, 1), (1, 0)], 0), (3, [(1, 2), (1, 3)], 1), (4, [(1, 2), (0, 2), (0, 1)], 0)], (1, 3): [(3, [(1, 3)], 2)], (2, 0): [], (2, 1): [], (2, 2): [], (2, 3): [(1, [(2, 3)], 0)], (3, 0): [], (3, 1): [], (3, 2): [], (3, 3): []}\n",
      "\n",
      " ad : {(1, 1): [(2, [(1, 1), (1, 0)], 1), (3, [(1, 1), (1, 2), (1, 3)], 0)], (1, 0): [(2, [(1, 0)], 2)], (1, 3): [(3, [(1, 3)], 2)]}\n",
      "{(1, 1): {'distance': 0}, (1, 0): {'distance': 2}, (1, 3): {'distance': 1}}\n",
      "(1, 1) {'distance': 0}\n",
      "[(1, 1)]\n",
      "(1, 0) {'distance': 2}\n",
      "[(1, 1), (1, 0), (1, 3)]\n",
      "(1, 3) {'distance': 1}\n",
      "[(1, 1), (1, 0), (1, 3)]\n",
      "0\n",
      "2\n",
      "1\n",
      "{(1, 1): {'distance': 0}, (1, 0): {'distance': 2}, (1, 3): {'distance': 1}}\n",
      "tick 2 ended\n"
     ]
    }
   ],
   "source": [
    "sma.runOnce()"
   ]
  },
  {
   "cell_type": "code",
   "execution_count": 811,
   "metadata": {},
   "outputs": [
    {
     "data": {
      "image/png": "[encoded data removed]",
      "text/plain": [
       "<Figure size 720x720 with 1 Axes>"
      ]
     },
     "metadata": {},
     "output_type": "display_data"
    }
   ],
   "source": [
    "import matplotlib.pyplot as plt\n",
    "\n",
    "plt.figure(figsize=(10,10))    # pour définir la taille de la figure\n",
    "G_ts = sma.agentList[0].G_ts\n",
    "pos = nx.spring_layout(G_ts)\n",
    "nx.draw_networkx(G_ts,pos=pos,edge_color='black',width=1,linewidths=1,node_size=800,node_color='pink',alpha=0.9)\n",
    "nx.draw_networkx_edge_labels(G_ts,pos=pos)\n",
    "plt.axis('off')\n",
    "plt.show()\n"
   ]
  },
  {
   "cell_type": "markdown",
   "metadata": {},
   "source": [
    "# OLD\n",
    "tout ce qui est au dessus me semble ok\n",
    "je conserve le reste pour archive pour l'instant, et il y a le generateur qui etait pas mauvais normalement"
   ]
  },
  {
   "cell_type": "code",
   "execution_count": null,
   "metadata": {},
   "outputs": [],
   "source": [
    "import random\n",
    "\n",
    "class CarAgent():\n",
    "    global bounds\n",
    "    def __init__(self, unique_id, pos_dep):\n",
    "        self.unique_id = unique_id\n",
    "        self.pos = pos_dep\n",
    "        self.new_pos = self.pos\n",
    "        self.is_alive = True\n",
    "        \n",
    "    def update(self):\n",
    "        direction = random.randrange(4)\n",
    "        if direction == 0:\n",
    "            self.new_pos = (self.pos[0]+1,self.pos[1])#EST\n",
    "        elif direction == 1:\n",
    "            self.new_pos = (self.pos[0],self.pos[1]-1)#SUD\n",
    "        elif direction == 2:\n",
    "            self.new_pos = (self.pos[0]-1,self.pos[1])#OUEST\n",
    "        else :\n",
    "            self.new_pos = (self.pos[0],self.pos[1]+1)#NORD\n",
    "\n",
    "        # on vérifie que la nouvelle position est bien dans les limites de l'environnement sinon l'agent meurt\n",
    "        if bounds[0]<=self.new_pos[0] or self.new_pos[0] <0 or  bounds[1]<=self.new_pos[1] or self.new_pos[1]<0:\n",
    "            #global agentList\n",
    "            #agentList.remove(self) # on ne peut pas faire ça sinon l'agent suivant remplace l'agent courant\n",
    "            self.is_alive = False\n",
    "            print(\"agent \"+str(self.unique_id)+ \" died\")\n",
    "\n",
    "    def decide(self):\n",
    "        if self.is_alive == True :\n",
    "            if self.pos == self.new_pos:\n",
    "                print(\"Agent voiture n°\",self.unique_id,\"apparait en\",self.pos)\n",
    "            else :\n",
    "                print(\"Agent voiture n°\",self.unique_id,\"bouge de\",self.pos,\"à\",self.new_pos)\n",
    "                self.pos = self.new_pos\n",
    "        "
   ]
  },
  {
   "cell_type": "code",
   "execution_count": null,
   "metadata": {},
   "outputs": [],
   "source": [
    "bounds = (10,10)\n",
    "agentList = [CarAgent(1,(0,0)) , CarAgent(2,(5,5)), CarAgent(3,(8,8))]\n",
    "tick = 0\n",
    "for _ in range(10):\n",
    "    for a in agentList :\n",
    "        a.update()\n",
    "    for a in agentList :\n",
    "        a.decide()\n",
    "        \n",
    "    #Etape de nettoyage de la liste d'agents\n",
    "    for a in agentList :\n",
    "        if a.is_alive == False:\n",
    "            random.shuffle(agentList)\n",
    "            agentList.remove(a) \n",
    "    print(\"tick\",tick,\"ended\\n\")\n",
    "    tick+=1\n",
    "        "
   ]
  },
  {
   "cell_type": "code",
   "execution_count": null,
   "metadata": {},
   "outputs": [],
   "source": [
    "class RiderAgent():\n",
    "    def __init__(self, unique_id, pos_dep, pos_arr):\n",
    "        self.unique_id = unique_id\n",
    "        self.pos = pos_dep\n",
    "        self.new_pos = self.pos\n",
    "        self.pos_arr = pos_arr\n",
    "        self.waiting_time = 0\n",
    "        self.is_alive = True\n",
    "\n",
    "    #on vérifie si il y a un véhicule qui va dans notre direction\n",
    "    def move(self, caragent):\n",
    "        for car in caragent:\n",
    "            if (self.pos[0] < self.pos_arr[0]) and (car.pos[0] < car.pos_arr[0]):\n",
    "                return car\n",
    "            elif (self.pos[0] > self.pos_arr[0]) and (car.pos[0] > car.pos_arr[0]):\n",
    "                return car\n",
    "            elif (self.pos[1] < self.pos_arr[1]) and (car.pos[1] < car.pos_arr[1]):\n",
    "                return car\n",
    "            elif (self.pos[1] > self.pos_arr[1]) and (car.pos[1] > car.pos_arr[1]):\n",
    "                return car\n",
    "        return None\n",
    "\n",
    "    def update(self):\n",
    "        ##On vérifie si il y a quelqu'un sur notre case, sinon ça ne sert à rien d'agir\n",
    "        global agentList\n",
    "        caragent = [agent for agent in agentList if (agent.__class__.__name__ == \"CarAgent\" and agent.pos == self.pos)]\n",
    "        if len(caragent) > 0:\n",
    "            new_car = self.move(caragent)\n",
    "            if new_car != None:\n",
    "                self.new_pos = new_car.new_pos\n",
    "            else :\n",
    "                self.new_pos = self.pos\n",
    "        else :\n",
    "            self.new_pos = self.pos\n",
    "    \n",
    "    def decide(self):\n",
    "        #print(\"Agent Rider:\", self, self.pos, self.pos_arr, self.new_position)\n",
    "        if self.new_pos != self.pos :\n",
    "            self.pos = self.new_pos\n",
    "            #on vérifie si le passager est arrivé à destination\n",
    "            if self.pos == self.pos_arr:\n",
    "                print(\"Agent passager n°\",self.unique_id,\" arrivé à destination avec un temps total d'attente de:\",self.waiting_time)\n",
    "                self.is_alive = False\n",
    "        else :\n",
    "            self.waiting_time += 1"
   ]
  },
  {
   "cell_type": "markdown",
   "metadata": {},
   "source": [
    "# A ton besoin de simultanéité ?\n",
    "Voici un petit bout de code permettant de prouver le besoin de simultanéité, en effet comme précisé plus haut, si l'on donne le tour de parole aléatoirement au agents, il se peu qu'un agent effectue deux fois son tour de parole d'affilé :\n",
    "\n",
    "type de config :\n",
    "\n",
    "--tick 0\n",
    "agent 1 puis agent 2\n",
    "\n",
    "\n",
    "--tick 1\n",
    "agent 2 puis agent 1"
   ]
  },
  {
   "cell_type": "code",
   "execution_count": null,
   "metadata": {},
   "outputs": [],
   "source": [
    "bounds = (10,10)\n",
    "agentList = [CarAgent(1,(0,0)) , CarAgent(2,(5,5)), CarAgent(3,(8,8)), RiderAgent(4,(5,5),(5,9))]\n",
    "tick = 0\n",
    "for _ in range(10):\n",
    "    for a in agentList :\n",
    "        a.update()\n",
    "    for a in agentList :\n",
    "        a.decide()\n",
    "        \n",
    "    #Etape de nettoyage de la liste d'agents\n",
    "    for a in agentList :\n",
    "        if a.is_alive == False:\n",
    "            random.shuffle(agentList)\n",
    "            agentList.remove(a) \n",
    "    print(\"tick\",tick,\"ended\\n\")\n",
    "    tick+=1\n",
    "        "
   ]
  },
  {
   "cell_type": "markdown",
   "metadata": {},
   "source": [
    "### Les générateurs de véhicules\n",
    "\n",
    "Afin d'avoir un flux continu de véhicules, il est nécessaire de générer de nouveaux véhicules régulièrement. c'est le role des agents `Generator`."
   ]
  },
  {
   "cell_type": "code",
   "execution_count": null,
   "metadata": {},
   "outputs": [],
   "source": [
    "import random\n",
    "\n",
    "class Generator() :\n",
    "    global bounds\n",
    "    global tick\n",
    "    def __init__(self, unique_id, frequence, nb_cars):\n",
    "        self.unique_id = unique_id\n",
    "        self.frequence = frequence #generation tout les \"frequence\" ticks\n",
    "        self.nb_cars = nb_cars\n",
    "        self.is_alive = True\n",
    "        \n",
    "    def update(self): \n",
    "        if tick == 0 or (self.frequence % tick) :\n",
    "            genList = []\n",
    "            for _ in range(self.nb_cars):\n",
    "                global id_count\n",
    "                id_count += 1\n",
    "                genList.append(CarAgent(id_count, (random.randrange(bounds[0]),random.randrange(bounds[1]))))\n",
    "            \n",
    "            global agentList\n",
    "            agentList = agentList + genList\n",
    "        else:\n",
    "            pass\n",
    "    \n",
    "    def decide(self):\n",
    "        pass\n",
    "    "
   ]
  },
  {
   "cell_type": "code",
   "execution_count": null,
   "metadata": {},
   "outputs": [],
   "source": [
    "bounds = (10,10)\n",
    "agentList = []\n",
    "id_count = 0\n",
    "tick = 0\n",
    "gen = Generator(0, 5, 5)\n",
    "agentList = [gen]\n",
    "for _ in range(5):\n",
    "    random.shuffle(agentList)\n",
    "    for a in agentList :\n",
    "        a.update()\n",
    "    for a in agentList :\n",
    "        a.decide()\n",
    "    #Etape de nettoyage de la liste d'agents\n",
    "    for a in agentList :\n",
    "        if a.is_alive == False:\n",
    "            agentList.remove(a) \n",
    "    print(\"tick\",tick)\n",
    "    tick += 1"
   ]
  },
  {
   "cell_type": "code",
   "execution_count": null,
   "metadata": {},
   "outputs": [],
   "source": [
    "class RiderAgent():\n",
    "    def __init__(self, unique_id, pos_dep, pos_arr):\n",
    "        self.unique_id = unique_id\n",
    "        self.pos = pos_dep\n",
    "        self.new_pos = self.pos\n",
    "        self.pos_arr = pos_arr\n",
    "        self.waiting_time = 0\n",
    "        self.is_alive = True\n",
    "\n",
    "    #on vérifie si il y a un véhicule qui va dans notre direction\n",
    "    def move(self, caragent):\n",
    "        for car in caragent:\n",
    "            if (self.pos[0] < self.pos_arr[0]) and (car.pos[0] < car.pos_arr[0]):\n",
    "                return car\n",
    "            elif (self.pos[0] > self.pos_arr[0]) and (car.pos[0] > car.pos_arr[0]):\n",
    "                return car\n",
    "            elif (self.pos[1] < self.pos_arr[1]) and (car.pos[1] < car.pos_arr[1]):\n",
    "                return car\n",
    "            elif (self.pos[1] > self.pos_arr[1]) and (car.pos[1] > car.pos_arr[1]):\n",
    "                return car\n",
    "        return None\n",
    "\n",
    "    def update(self):\n",
    "        ##On vérifie si il y a quelqu'un sur notre case, sinon ça ne sert à rien d'agir\n",
    "        global agentList\n",
    "        caragent = [agent for agent in agentList if (agent.__class__.__name__ == \"CarAgent\" and agent.pos == self.pos)]\n",
    "        if len(caragent) > 0:\n",
    "            new_car = self.move(caragent)\n",
    "            if new_car != None:\n",
    "                self.new_pos = new_car.new_pos\n",
    "            else :\n",
    "                self.new_pos = self.pos\n",
    "        else :\n",
    "            self.new_pos = self.pos\n",
    "    \n",
    "    def decide(self):\n",
    "        #print(\"Agent Rider:\", self, self.pos, self.pos_arr, self.new_position)\n",
    "        if self.new_pos != self.pos :\n",
    "            self.pos = self.new_pos\n",
    "            #on vérifie si le passager est arrivé à destination\n",
    "            if self.pos == self.pos_arr:\n",
    "                print(\"Agent passager n°\",self.unique_id,\" arrivé à destination avec un temps total d'attente de:\",self.waiting_time)\n",
    "                self.is_alive = False\n",
    "        else :\n",
    "            self.waiting_time += 1"
   ]
  },
  {
   "cell_type": "markdown",
   "metadata": {},
   "source": [
    "# A ton besoin de simultanéité ?\n",
    "Voici un petit bout de code permettant de prouver le besoin de simultanéité, en effet comme précisé plus haut, si l'on donne le tour de parole aléatoirement au agents, il se peu qu'un agent effectue deux fois son tour de parole d'affilé :\n",
    "\n",
    "type de config :\n",
    "\n",
    "--tick 0\n",
    "agent 1 puis agent 2\n",
    "\n",
    "\n",
    "--tick 1\n",
    "agent 2 puis agent 1"
   ]
  },
  {
   "cell_type": "code",
   "execution_count": null,
   "metadata": {},
   "outputs": [],
   "source": [
    "bounds = (10,10)\n",
    "agentList = [RiderAgent(0, (5,5), (5,0)),]\n",
    "tick = 0\n",
    "\n",
    "\n",
    "agentList = [gen]\n",
    "for _ in range(5):\n",
    "    for a in agentList :\n",
    "        a.update()\n",
    "    for a in agentList :\n",
    "        a.decide()\n",
    "    #Etape de nettoyage de la liste d'agents\n",
    "    for a in agentList :\n",
    "        if a.is_alive == False:\n",
    "            agentList.remove(a) \n",
    "    print(\"tick\",tick)\n",
    "    tick += 1"
   ]
  },
  {
   "cell_type": "markdown",
   "metadata": {},
   "source": [
    "\n",
    "On a une grille. Un générateur de véhicules qui génère selon une loi de probabilité des véhicules sur l'un des axes dans l'un des sens. Simultanément apparaissent des passagers à un lei aléatoire pour une destination aléatoire (X,Y).\n",
    "Les véhicules sont réputés toujours aller jusqu'au bout d'un axe et peuvent descendre un passager où ils veulent (c'est un bus ou un train). Le système est rythmé par unités de temps (ticks). Avancer d'une case prend 1 tick, et donc attendre un véhicule qui est 2 cases plus loin prend 2 ticks.\n"
   ]
  },
  {
   "cell_type": "markdown",
   "metadata": {},
   "source": [
    "## Le SMA"
   ]
  },
  {
   "cell_type": "code",
   "execution_count": null,
   "metadata": {},
   "outputs": [],
   "source": [
    "import random\n",
    "class SMA:\n",
    "    def __init__(self, bounds):\n",
    "        self.tick=0\n",
    "        self.resetTicks()\n",
    "        self.agentList = []\n",
    "        #self.gen = gen # on associe le générateur au sma, c'est plus simple\n",
    "        self.bounds = bounds\n",
    "        self.collector = [] # on collecte ici les temps d'attente\n",
    "\n",
    "    def resetTicks(self):\n",
    "        tick=0\n",
    "          \n",
    "    def addAgent(self,ag):\n",
    "        self.agentList.append(ag)\n",
    " \n",
    "    def run(self,rounds):\n",
    "        for i in range(0,rounds):\n",
    "            self.runOnce()\n",
    "    \n",
    "    def runOnce(self):\n",
    "        self.tick+=1\n",
    "        gen.generate_agent()\n",
    "        random.shuffle(self.agentList)\n",
    "        #on calcule les prochains positions des voitures\n",
    "        for ag in self.agentList :\n",
    "            ag.cars_new_pos()\n",
    "        #on determine si les passagers vont bouger ou non\n",
    "        for ag in self.agentList :\n",
    "            ag.riders_new_pos()\n",
    "        #on actualise la position des agents\n",
    "        for ag in self.agentList :\n",
    "            ag.agents_update_pos()\n",
    "            \n",
    "        #print(\"tick \"+str(self.tick)+\" ended\")"
   ]
  },
  {
   "cell_type": "code",
   "execution_count": null,
   "metadata": {},
   "outputs": [],
   "source": [
    "#bounds = (10,10)\n",
    "#agentList = []\n",
    "#id_count = 0\n",
    "#tick = 0\n",
    "gen = Generator(0, 5, 5)\n",
    "agentList = [gen]\n",
    "for _ in range(5):\n",
    "    for a in agentList :\n",
    "        a.update()\n",
    "    for a in agentList :\n",
    "        a.decide()\n",
    "    #Etape de nettoyage de la liste d'agents\n",
    "    for a in agentList :\n",
    "        if a.is_alive == False:\n",
    "            agentList.remove(a) \n",
    "    print(\"tick\",tick)\n",
    "    tick += 1"
   ]
  },
  {
   "cell_type": "markdown",
   "metadata": {},
   "source": [
    "## L'environnement"
   ]
  },
  {
   "cell_type": "markdown",
   "metadata": {},
   "source": [
    "\n",
    "Au final, on a pas du tout besoin d'une grille, dans le sens ou on l'on peut fonctionner juste avec les coordonnées des agents dans l'espace."
   ]
  },
  {
   "cell_type": "markdown",
   "metadata": {},
   "source": [
    "## Les agents"
   ]
  },
  {
   "cell_type": "code",
   "execution_count": null,
   "metadata": {},
   "outputs": [],
   "source": [
    "class Agent:\n",
    "    \"\"\" Pour pouvoir manipuler facilement les agents dans le sma, on creer une sorte d'abstract class \"\"\"\n",
    "\n",
    "    def __init__(self, unique_id: int, dep: (int, int), dest: (int,int)) -> None:\n",
    "        self.unique_id = unique_id\n",
    "        self.pos = dep\n",
    "        self.pos_arr = dest\n",
    "        self.new_pos = self.pos\n",
    "    \n",
    "    def cars_new_pos(self) -> None:\n",
    "        pass\n",
    "\n",
    "    def riders_new_pos(self) -> None:\n",
    "        pass\n",
    "\n",
    "    def agents_update_pos(self) -> None:\n",
    "        pass"
   ]
  },
  {
   "cell_type": "markdown",
   "metadata": {},
   "source": [
    "### Les véhicules"
   ]
  },
  {
   "cell_type": "code",
   "execution_count": null,
   "metadata": {},
   "outputs": [],
   "source": [
    "class CarAgent(Agent):\n",
    "    def __init__(self, unique_id, pos_dep, pos_arr):\n",
    "        super().__init__(unique_id, pos_dep, pos_arr)\n",
    "        \n",
    "    def move(self):\n",
    "        if self.pos[0] == self.pos_arr[0]:\n",
    "            if self.pos[1] == self.pos_arr[1]:\n",
    "                #print(\"Agent voiture n°\",self.unique_id,\" arrivée à destination.\")\n",
    "                sma.agentList.remove(self)\n",
    "                return\n",
    "            elif self.pos[1] > self.pos_arr[1]:\n",
    "                new_position = (self.pos[0],self.pos[1]-1)\n",
    "            else : \n",
    "                new_position = (self.pos[0],self.pos[1]+1)\n",
    "        elif self.pos[0] > self.pos_arr[0]:\n",
    "            new_position = (self.pos[0]-1,self.pos[1])\n",
    "        else : \n",
    "            new_position = (self.pos[0]+1,self.pos[1])\n",
    "        \n",
    "       \n",
    "        self.new_pos = new_position\n",
    "        \n",
    "        \n",
    "        \n",
    "    def cars_new_pos(self):\n",
    "        self.move()\n",
    "\n",
    "    def riders_new_pos(self):\n",
    "        pass\n",
    "\n",
    "    def agents_update_pos(self):\n",
    "        #print(\"Agent voiture n°\",self.unique_id,\" bouge de \",self.pos,\" à \",self.new_pos)\n",
    "        self.pos = self.new_pos"
   ]
  },
  {
   "cell_type": "markdown",
   "metadata": {},
   "source": [
    "Les véhicules vont donc uniquement dans une direction, à chaque ticks ils regardent dans quel sens ils sont sensé aller et bougent d'une case."
   ]
  },
  {
   "cell_type": "markdown",
   "metadata": {},
   "source": [
    "### Les passagers"
   ]
  },
  {
   "cell_type": "code",
   "execution_count": null,
   "metadata": {},
   "outputs": [],
   "source": [
    "class RiderAgent(Agent):\n",
    "    def __init__(self, unique_id, pos_dep, pos_arr):\n",
    "        super().__init__(unique_id, pos_dep, pos_arr)\n",
    "        self.waiting_time = 0\n",
    "\n",
    "    #on vérifie si il y a un véhicule qui va dans notre direction\n",
    "    def move(self, caragent):\n",
    "        for car in caragent:\n",
    "            if (self.pos[0] < self.pos_arr[0]) and (car.pos[0] < car.pos_arr[0]):\n",
    "                return car\n",
    "            elif (self.pos[0] > self.pos_arr[0]) and (car.pos[0] > car.pos_arr[0]):\n",
    "                return car\n",
    "            elif (self.pos[1] < self.pos_arr[1]) and (car.pos[1] < car.pos_arr[1]):\n",
    "                return car\n",
    "            elif (self.pos[1] > self.pos_arr[1]) and (car.pos[1] > car.pos_arr[1]):\n",
    "                return car\n",
    "        return None\n",
    "    \n",
    "    def cars_new_pos(self):\n",
    "        pass\n",
    "\n",
    "    def riders_new_pos(self):\n",
    "        if self.pos == self.pos_arr:\n",
    "            #print(\"Agent passager n°\",self.unique_id,\" arrivé à destination avec un temps total d'attente de:\",self.waiting_time)\n",
    "            sma.collector.append(self.waiting_time)\n",
    "            sma.agentList.remove(self)\n",
    "            return\n",
    "        \n",
    "        ##On vérifie si il y a quelqu'un sur notre case, sinon ça ne sert à rien d'agir\n",
    "        caragent = [agent for agent in sma.agentList if (agent.__class__.__name__ == \"CarAgent\" and agent.pos == self.pos)]\n",
    "        if len(caragent) > 0:\n",
    "            new_car = self.move(caragent)\n",
    "            if new_car != None:\n",
    "                self.new_pos = new_car.new_pos\n",
    "            else :\n",
    "                self.new_pos = self.pos\n",
    "        else :\n",
    "            self.new_pos = self.pos\n",
    "    \n",
    "    def agents_update_pos(self):\n",
    "        #print(\"Agent Rider:\", self, self.pos, self.pos_arr, self.new_position)\n",
    "        if self.new_pos != self.pos :\n",
    "            self.pos = self.new_pos\n",
    "        else :\n",
    "            self.waiting_time += 1"
   ]
  },
  {
   "cell_type": "markdown",
   "metadata": {},
   "source": [
    "A chaque tour, les agents passagers collectent le ou les agents voiture présent sur sa case, et prends celui qui va dans sa direction."
   ]
  },
  {
   "cell_type": "markdown",
   "metadata": {},
   "source": [
    "## Les générateurs de véhicules"
   ]
  },
  {
   "cell_type": "code",
   "execution_count": null,
   "metadata": {},
   "outputs": [],
   "source": [
    "# Mettre ici le code d'un générateur trivial\n",
    "import random\n",
    "class Generator():\n",
    "    def __init__(self, height, width, nb_car_x, nb_car_y, nb_rider):\n",
    "        self.height = height\n",
    "        self.width = width\n",
    "        self.nb_car_x = nb_car_x\n",
    "        self.nb_car_y = nb_car_y\n",
    "        self.nb_rider = nb_rider\n",
    "        self.n_id = -1\n",
    "    \n",
    "    def next_id(self):\n",
    "        self.n_id += 1\n",
    "        return self.n_id\n",
    "    \n",
    "    #genere les agents voitures a l'horizontal\n",
    "    def XAgentGenerator(self):\n",
    "        x = random.choice([0, self.width - 1])\n",
    "        y = random.randrange(self.height)\n",
    "        pos_dep = (x, y)\n",
    "        pos_arr = (abs(x - self.width + 1), y)\n",
    "\n",
    "        a = CarAgent(self.next_id(), pos_dep, pos_arr)\n",
    "        sma.addAgent(a)\n",
    "        \n",
    "        \n",
    "    #genere les agents voitures a la vertical\n",
    "    def YAgentGenerator(self):\n",
    "        x = random.randrange(self.width)\n",
    "        y = random.choice([0, self.height - 1])\n",
    "        pos_dep = (x, y)\n",
    "        pos_arr = (x, abs(y - self.height + 1))\n",
    "\n",
    "        a = CarAgent(self.next_id(), pos_dep, pos_arr)\n",
    "        sma.addAgent(a)\n",
    "\n",
    "    #genere les agents passagers a des positions aleatoire\n",
    "    def RiderAgentGenerator(self):\n",
    "        x = random.randrange(self.height)\n",
    "        y = random.randrange(self.width)\n",
    "\n",
    "        pos_dep = (x, y)\n",
    "        x_p = random.randrange(self.height)\n",
    "        y_p = random.randrange(self.width)\n",
    "        pos_arr = (x_p, y_p)\n",
    "        a = RiderAgent(self.next_id(), pos_dep, pos_arr)\n",
    "        sma.addAgent(a)\n",
    "    \n",
    "    #fonction qui genere les agents en fonction des valeurs choisis\n",
    "    def generate_agent(self):\n",
    "       \n",
    "        for _ in range(random.randrange(self.nb_car_x)):\n",
    "            self.XAgentGenerator()\n",
    "        for _ in range(random.randrange(self.nb_car_y)):\n",
    "            self.YAgentGenerator()\n",
    "        for _ in range(random.randrange(self.nb_rider)):\n",
    "            self.RiderAgentGenerator()\n",
    "    "
   ]
  },
  {
   "cell_type": "markdown",
   "metadata": {},
   "source": [
    "# Une première version\n",
    "Un passager est aveugle. Il monte dans le premier véhicule qui se présente dans sa direction (soit verticale soit horizontale) et il va jusqu'au maximum de sa possibilité (son X ou son Y de destination). Il se déplace dans une direction 1 fois, descend du véhicule, attend le prochain véhicule dans l'autre sens et arrive à sa destination.\n",
    "Précisions :\n",
    "- au maximum il attend 2 fois : au départ, et au changement\n",
    "- grâce au rythme du système on est capable de tracer des courbes de temps d'attente (en tick)\n",
    "\n"
   ]
  },
  {
   "cell_type": "code",
   "execution_count": null,
   "metadata": {},
   "outputs": [],
   "source": [
    "gen = Generator(10, 10, 5, 5, 5)\n",
    "sma = SMA(gen)\n",
    "sma.run(1000)\n"
   ]
  },
  {
   "cell_type": "code",
   "execution_count": null,
   "metadata": {},
   "outputs": [],
   "source": [
    "import numpy as np\n",
    "print(\"Le temps d'attente moyen est de\",np.mean(sma.collector), \"ticks\")"
   ]
  },
  {
   "cell_type": "markdown",
   "metadata": {},
   "source": [
    "Experience : faire varier le nombre de véhicule"
   ]
  },
  {
   "cell_type": "code",
   "execution_count": null,
   "metadata": {},
   "outputs": [],
   "source": [
    "import matplotlib.pyplot as plt\n",
    "range_vehicules = np.arange(5,50,5)\n",
    "nb_passagers = 5\n",
    "\n",
    "big_collector = []\n",
    "\n",
    "for nb_vehicule in range_vehicules:\n",
    "    gen = Generator(10, 10, nb_vehicule, nb_vehicule, 5)\n",
    "    sma = SMA(gen)\n",
    "    sma.run(1000)\n",
    "    big_collector.append(np.mean(sma.collector))\n",
    "    \n",
    "plt.xlabel(\"Nombre de conducteur\")\n",
    "plt.ylabel(\"Nombre moyen de ticks d'attente\")\n",
    "plt.plot(range_vehicules,big_collector)"
   ]
  },
  {
   "cell_type": "markdown",
   "metadata": {},
   "source": [
    "# Une version plus poussée\n",
    "\n",
    "Le passager perçoit une partie de l'environnement : sa verticale et son horizontale. Quand un véhicule arrive dans sa case, il regarde le nombre de cases N que ce véhicule lui permet de faire (N=X ou N=Y), et si il y a dans sa perception un autre véhicule à T distance qui lui permettra d'avancer d'un nombre de cases U (dans l'autre direction), avec U-T > N alors il attend celui là (Corwin raisonne sur un \"potentiel\" : U-T c'est le potentiel de cases dans l'autre direction avec un taux de transfert 0).\n",
    "Une fois dans le véhicule, le passager fait ce raisonnement là à chaque case, et donc, décide de descendre ou pas, pour en attendre un autre.\n",
    "Précisions :\n",
    "- la formule de choix mise en place pourrait être inversée ! c'est une heuristique ! Il y a des heuristiques optimistes et des heuristiques pessimistes (ne serait-ce qu'en inversant l'inégalité).\n",
    "- Dans cette version le passager peut donc voyager en zig-zag, néanmoins il ne \"dépasse\" jamais son X et son Y.\n"
   ]
  },
  {
   "cell_type": "code",
   "execution_count": null,
   "metadata": {},
   "outputs": [],
   "source": []
  },
  {
   "cell_type": "markdown",
   "metadata": {},
   "source": [
    "# Bibliographie\n",
    "\n",
    "Philippe Mathieu, Yann Secq.\n",
    "Environment Updating and Agent Scheduling Policies in Agent-based Simulators. \n",
    "ICAART Conference, 2012, pp 170-175\n",
    "\n",
    "Philippe Mathieu, Sébastien Picault, Yann Secq.\n",
    "Design Patterns for Environments in Multi-agent Simulations. \n",
    "PRIMA Conference, 2015, pp 678-686\n",
    "\n",
    "Philippe Mathieu, Gildas Morvan, Sébastien Picault.\n",
    "Multi-level agent-based simulations: Four design patterns. \n",
    "Journal of Simulation Modelling Practice and Theory, Janv 2018\n"
   ]
  }
 ],
 "metadata": {
  "celltoolbar": "Slideshow",
  "kernelspec": {
   "display_name": "Python 3",
   "language": "python",
   "name": "python3"
  },
  "language_info": {
   "codemirror_mode": {
    "name": "ipython",
    "version": 3
   },
   "file_extension": ".py",
   "mimetype": "text/x-python",
   "name": "python",
   "nbconvert_exporter": "python",
   "pygments_lexer": "ipython3",
   "version": "3.7.4"
  }
 },
 "nbformat": 4,
 "nbformat_minor": 2
}
