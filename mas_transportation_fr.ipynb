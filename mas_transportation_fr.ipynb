{
 "cells": [
  {
   "cell_type": "markdown",
   "metadata": {
    "slideshow": {
     "slide_type": "-"
    }
   },
   "source": [
    "# A Multiagent transportation system\n",
    "\n",
    "Auteur : Philippe Mathieu, [CRISTAL Lab](https://www.cristal.univ-lille.fr/), [SMAC Team](https://www.cristal.univ-lille.fr/?rubrique26&id=7), [University of Lille](http://www.univ-lille1.fr), email : philippe.mathieu@univ-lille.fr\n",
    "\n",
    "Contributeurs : Corwin Fèvre (CRISTAL/SMAC , CRISTAL/OSM)\n",
    "\n",
    "Creation : 15/01/2020\n",
    "\n",
    "\n",
    "## Principe général\n",
    "\n",
    "\n",
    "Cette feuille fait suite à [mas_basics_fr.ipynb](mas_basics_fr.ipynb) qui donnait les bases de la construction d'un système multi-agents sur un reseau social.\n",
    "Nous vous montrons ici, comment réaliser une petite simulation d'un système de co-voiturage à l'aide des agents.\n",
    "\n",
    "## L'agent\n",
    "\n",
    "Dans sa forme la plus simple, un agent est une entité dotée d'une seule\n",
    "capacité, celle de décider quoi faire. Personne ne lui indique ce qu'il doit faire,\n",
    "c'est lui qui décide ! C'est le principe d'**autonomie**. Il suffit juste de lui donner la\n",
    "parole pour qu'il agisse. Lors de sa prise de parole, l'agent réalise sémantiquement 3 étapes différentes : la **perception** de son entourage, la **decision** en fonction de son propre état et de ce qu'il a perçu, puis l'**action** effective qu'il réalise in fine. Idéalement chaque agent ne peut faire qu'une seule action lors de sa prise de parole."
   ]
  },
  {
   "cell_type": "code",
   "execution_count": 222,
   "metadata": {},
   "outputs": [],
   "source": [
    "class Agent:\n",
    "    def __init__(self,name) :\n",
    "        self.name=name\n",
    "        self.current_value = 1\n",
    "            \n",
    "    def step_calcul_value(self):\n",
    "        self.current_value+=1\n",
    "        \n",
    "    def step_sum_values(self, agents_values):\n",
    "        print(\"Je suis \",self.name, \"et notre somme est de \",sum(agents_values))\n",
    "        "
   ]
  },
  {
   "cell_type": "markdown",
   "metadata": {},
   "source": [
    "Il est bien sûr possible de créer plusieurs agents et de les interroger directement."
   ]
  },
  {
   "cell_type": "code",
   "execution_count": 223,
   "metadata": {},
   "outputs": [],
   "source": [
    "#a1 = Agent(\"philippe\")\n",
    "#a2 = Agent(\"corwin\")\n",
    "#a1.decide()\n",
    "#a2.decide()"
   ]
  },
  {
   "cell_type": "markdown",
   "metadata": {},
   "source": [
    "## Le système multiagent\n",
    "\n",
    "Bien évidemment, un système multi-agent utilise des dizaines voire des\n",
    "milliers d'agents. Il est alors necessaire de créer une classe\n",
    "permettant de les manager. En général la méthode qui lance la\n",
    "simulation se nomme `run` et prend en paramètre le nombre de prises de\n",
    "paroles.\n",
    "Afin d'assurer le principe d'**équité** on s'assurerque chaque agent a\n",
    "au moins une fois la parole avant qu'un autre agent ne l'ait deux\n",
    "fois. On s'appuie pour cela sur la notion de tour de parole. Chaque tour de\n",
    "parole donne aléatoirement la parole à l'ensemble des agents, avant de\n",
    "recommencer. Un tour de parole constitue sémantiquement une unité de temps, un tick d'horloge. La classe SMA s'écrit :\n"
   ]
  },
  {
   "cell_type": "code",
   "execution_count": 224,
   "metadata": {},
   "outputs": [],
   "source": [
    "import random\n",
    "class SMA:\n",
    "    def __init__(self):\n",
    "        self.tick=0\n",
    "        self.resetTicks()\n",
    "        self.agentList = []\n",
    "\n",
    "    def resetTicks(self):\n",
    "        tick=0\n",
    "          \n",
    "    def addAgent(self,ag):\n",
    "        self.agentList.append(ag)\n",
    " \n",
    "    def run(self,rounds):\n",
    "        for i in range(0,rounds):\n",
    "            self.runOnce()\n",
    "\n",
    "    def get_agents_values(self):\n",
    "        ag_values = []\n",
    "        for ag in self.agentList:\n",
    "            ag_values.append(ag.current_value)\n",
    "            \n",
    "        return ag_values\n",
    "    \n",
    "    def runOnce(self):\n",
    "        self.tick+=1\n",
    "        random.shuffle(self.agentList)\n",
    "        for ag in self.agentList :\n",
    "            ag.step_calcul_value()\n",
    "        for ag in self.agentList :\n",
    "            ag.step_sum_values(self.get_agents_values())\n",
    "            \n",
    "        print(\"tick \"+str(self.tick)+\" ended\")"
   ]
  },
  {
   "cell_type": "code",
   "execution_count": 225,
   "metadata": {
    "scrolled": true
   },
   "outputs": [
    {
     "name": "stdout",
     "output_type": "stream",
     "text": [
      "Je suis  paul et notre somme est de  6\n",
      "Je suis  kim et notre somme est de  6\n",
      "Je suis  Lisa et notre somme est de  6\n",
      "tick 1 ended\n",
      "Je suis  Lisa et notre somme est de  9\n",
      "Je suis  kim et notre somme est de  9\n",
      "Je suis  paul et notre somme est de  9\n",
      "tick 2 ended\n",
      "Je suis  paul et notre somme est de  12\n",
      "Je suis  kim et notre somme est de  12\n",
      "Je suis  Lisa et notre somme est de  12\n",
      "tick 3 ended\n",
      "Je suis  Lisa et notre somme est de  15\n",
      "Je suis  paul et notre somme est de  15\n",
      "Je suis  kim et notre somme est de  15\n",
      "tick 4 ended\n",
      "Je suis  kim et notre somme est de  18\n",
      "Je suis  Lisa et notre somme est de  18\n",
      "Je suis  paul et notre somme est de  18\n",
      "tick 5 ended\n"
     ]
    }
   ],
   "source": [
    "sma = SMA()\n",
    "sma.addAgent(Agent(\"paul\"))\n",
    "sma.addAgent(Agent(\"kim\"))\n",
    "sma.addAgent(Agent(\"Lisa\"))\n",
    "sma.run(5)"
   ]
  },
  {
   "cell_type": "markdown",
   "metadata": {},
   "source": [
    "# Le problème\n",
    "On a une grille. Un générateur de véhicules qui génère selon une loi de probabilité des véhicules sur l'un des axes dans l'un des sens. Simultanément apparaissent des passagers à un lei aléatoire pour une destination aléatoire (X,Y).\n",
    "Les véhicules sont réputés toujours aller jusqu'au bout d'un axe et peuvent descendre un passager où ils veulent (c'est un bus ou un train). Le système est rythmé par unités de temps (ticks). Avancer d'une case prend 1 tick, et donc attendre un véhicule qui est 2 cases plus loin prend 2 ticks.\n"
   ]
  },
  {
   "cell_type": "markdown",
   "metadata": {},
   "source": [
    "## Le SMA"
   ]
  },
  {
   "cell_type": "code",
   "execution_count": 226,
   "metadata": {},
   "outputs": [],
   "source": [
    "import random\n",
    "class SMA:\n",
    "    def __init__(self, gen):\n",
    "        self.tick=0\n",
    "        self.resetTicks()\n",
    "        self.agentList = []\n",
    "        self.gen = gen #on associe le générateur au sma, c'est plus simple\n",
    "        self.collector = [] #on collecte ici les tmeps d'attente\n",
    "\n",
    "    def resetTicks(self):\n",
    "        tick=0\n",
    "          \n",
    "    def addAgent(self,ag):\n",
    "        self.agentList.append(ag)\n",
    " \n",
    "    def run(self,rounds):\n",
    "        for i in range(0,rounds):\n",
    "            self.runOnce()\n",
    "    \n",
    "    def runOnce(self):\n",
    "        self.tick+=1\n",
    "        gen.generate_agent()\n",
    "        random.shuffle(self.agentList)\n",
    "        #on calcule les prochains positions des voitures\n",
    "        for ag in self.agentList :\n",
    "            ag.cars_new_pos()\n",
    "        #on determine si les passagers vont bouger ou non\n",
    "        for ag in self.agentList :\n",
    "            ag.riders_new_pos()\n",
    "        #on actualise la position des agents\n",
    "        for ag in self.agentList :\n",
    "            ag.agents_update_pos()\n",
    "            \n",
    "        #print(\"tick \"+str(self.tick)+\" ended\")"
   ]
  },
  {
   "cell_type": "markdown",
   "metadata": {},
   "source": [
    "## L'environnement"
   ]
  },
  {
   "cell_type": "markdown",
   "metadata": {},
   "source": [
    "\n",
    "Au final, on a pas du tout besoin d'une grille, dans le sens ou on l'on peut fonctionner juste avec les coordonnées des agents dans l'espace."
   ]
  },
  {
   "cell_type": "markdown",
   "metadata": {},
   "source": [
    "## Les agents"
   ]
  },
  {
   "cell_type": "code",
   "execution_count": 227,
   "metadata": {},
   "outputs": [],
   "source": [
    "class Agent:\n",
    "    \"\"\" Pour pouvoir manipuler facilement les agents dans le sma, on creer une sorte d'abstract class \"\"\"\n",
    "\n",
    "    def __init__(self, unique_id: int, dep: (int, int), dest: (int,int)) -> None:\n",
    "        self.unique_id = unique_id\n",
    "        self.pos = dep\n",
    "        self.pos_arr = dest\n",
    "        self.new_pos = self.pos\n",
    "    \n",
    "    def cars_new_pos(self) -> None:\n",
    "        pass\n",
    "\n",
    "    def riders_new_pos(self) -> None:\n",
    "        pass\n",
    "\n",
    "    def agents_update_pos(self) -> None:\n",
    "        pass"
   ]
  },
  {
   "cell_type": "markdown",
   "metadata": {},
   "source": [
    "### Les véhicules"
   ]
  },
  {
   "cell_type": "code",
   "execution_count": 228,
   "metadata": {},
   "outputs": [],
   "source": [
    "class CarAgent(Agent):\n",
    "    def __init__(self, unique_id, pos_dep, pos_arr):\n",
    "        super().__init__(unique_id, pos_dep, pos_arr)\n",
    "        \n",
    "    def move(self):\n",
    "        if self.pos[0] == self.pos_arr[0]:\n",
    "            if self.pos[1] == self.pos_arr[1]:\n",
    "                #print(\"Agent voiture n°\",self.unique_id,\" arrivée à destination.\")\n",
    "                sma.agentList.remove(self)\n",
    "                return\n",
    "            elif self.pos[1] > self.pos_arr[1]:\n",
    "                new_position = (self.pos[0],self.pos[1]-1)\n",
    "            else : \n",
    "                new_position = (self.pos[0],self.pos[1]+1)\n",
    "        elif self.pos[0] > self.pos_arr[0]:\n",
    "            new_position = (self.pos[0]-1,self.pos[1])\n",
    "        else : \n",
    "            new_position = (self.pos[0]+1,self.pos[1])\n",
    "        \n",
    "       \n",
    "        self.new_pos = new_position\n",
    "        \n",
    "        \n",
    "        \n",
    "    def cars_new_pos(self):\n",
    "        self.move()\n",
    "\n",
    "    def riders_new_pos(self):\n",
    "        pass\n",
    "\n",
    "    def agents_update_pos(self):\n",
    "        #print(\"Agent voiture n°\",self.unique_id,\" bouge de \",self.pos,\" à \",self.new_pos)\n",
    "        self.pos = self.new_pos"
   ]
  },
  {
   "cell_type": "markdown",
   "metadata": {},
   "source": [
    "Les véhicules vont donc uniquement dans une direction, à chaque ticks ils regardent dans quel sens ils sont sensé aller et bougent d'une case."
   ]
  },
  {
   "cell_type": "markdown",
   "metadata": {},
   "source": [
    "### Les passagers"
   ]
  },
  {
   "cell_type": "code",
   "execution_count": 229,
   "metadata": {},
   "outputs": [],
   "source": [
    "class RiderAgent(Agent):\n",
    "    def __init__(self, unique_id, pos_dep, pos_arr):\n",
    "        super().__init__(unique_id, pos_dep, pos_arr)\n",
    "        self.waiting_time = 0\n",
    "\n",
    "    #on vérifie si il y a un véhicule qui va dans notre direction\n",
    "    def move(self, caragent):\n",
    "        for car in caragent:\n",
    "            if (self.pos[0] < self.pos_arr[0]) and (car.pos[0] < car.pos_arr[0]):\n",
    "                return car\n",
    "            elif (self.pos[0] > self.pos_arr[0]) and (car.pos[0] > car.pos_arr[0]):\n",
    "                return car\n",
    "            elif (self.pos[1] < self.pos_arr[1]) and (car.pos[1] < car.pos_arr[1]):\n",
    "                return car\n",
    "            elif (self.pos[1] > self.pos_arr[1]) and (car.pos[1] > car.pos_arr[1]):\n",
    "                return car\n",
    "        return None\n",
    "    \n",
    "    def cars_new_pos(self):\n",
    "        pass\n",
    "\n",
    "    def riders_new_pos(self):\n",
    "        if self.pos == self.pos_arr:\n",
    "            #print(\"Agent passager n°\",self.unique_id,\" arrivé à destination avec un temps total d'attente de:\",self.waiting_time)\n",
    "            sma.collector.append(self.waiting_time)\n",
    "            sma.agentList.remove(self)\n",
    "            return\n",
    "        \n",
    "        ##On vérifie si il y a quelqu'un sur notre case, sinon ça ne sert à rien d'agir\n",
    "        caragent = [agent for agent in sma.agentList if (agent.__class__.__name__ == \"CarAgent\" and agent.pos == self.pos)]\n",
    "        if len(caragent) > 0:\n",
    "            new_car = self.move(caragent)\n",
    "            if new_car != None:\n",
    "                self.new_pos = new_car.new_pos\n",
    "            else :\n",
    "                self.new_pos = self.pos\n",
    "        else :\n",
    "            self.new_pos = self.pos\n",
    "    \n",
    "    def agents_update_pos(self):\n",
    "        #print(\"Agent Rider:\", self, self.pos, self.pos_arr, self.new_position)\n",
    "        if self.new_pos != self.pos :\n",
    "            self.pos = self.new_pos\n",
    "        else :\n",
    "            self.waiting_time += 1"
   ]
  },
  {
   "cell_type": "markdown",
   "metadata": {},
   "source": [
    "A chaque tour, les agents passagers collectent le ou les agents voiture présent sur sa case, et prends celui qui va dans sa direction."
   ]
  },
  {
   "cell_type": "markdown",
   "metadata": {},
   "source": [
    "## Les générateurs de véhicules"
   ]
  },
  {
   "cell_type": "code",
   "execution_count": 230,
   "metadata": {},
   "outputs": [],
   "source": [
    "# Mettre ici le code d'un générateur trivial\n",
    "import random\n",
    "class Generator():\n",
    "    def __init__(self, height, width, nb_car_x, nb_car_y, nb_rider):\n",
    "        self.height = height\n",
    "        self.width = width\n",
    "        self.nb_car_x = nb_car_x\n",
    "        self.nb_car_y = nb_car_y\n",
    "        self.nb_rider = nb_rider\n",
    "        self.n_id = -1\n",
    "    \n",
    "    def next_id(self):\n",
    "        self.n_id += 1\n",
    "        return self.n_id\n",
    "    \n",
    "    #genere les agents voitures a l'horizontal\n",
    "    def XAgentGenerator(self):\n",
    "        x = random.choice([0, self.width - 1])\n",
    "        y = random.randrange(self.height)\n",
    "        pos_dep = (x, y)\n",
    "        pos_arr = (abs(x - self.width + 1), y)\n",
    "\n",
    "        a = CarAgent(self.next_id(), pos_dep, pos_arr)\n",
    "        sma.addAgent(a)\n",
    "        \n",
    "        \n",
    "    #genere les agents voitures a la vertical\n",
    "    def YAgentGenerator(self):\n",
    "        x = random.randrange(self.width)\n",
    "        y = random.choice([0, self.height - 1])\n",
    "        pos_dep = (x, y)\n",
    "        pos_arr = (x, abs(y - self.height + 1))\n",
    "\n",
    "        a = CarAgent(self.next_id(), pos_dep, pos_arr)\n",
    "        sma.addAgent(a)\n",
    "\n",
    "    #genere les agents passagers a des positions aleatoire\n",
    "    def RiderAgentGenerator(self):\n",
    "        x = random.randrange(self.height)\n",
    "        y = random.randrange(self.width)\n",
    "\n",
    "        pos_dep = (x, y)\n",
    "        x_p = random.randrange(self.height)\n",
    "        y_p = random.randrange(self.width)\n",
    "        pos_arr = (x_p, y_p)\n",
    "        a = RiderAgent(self.next_id(), pos_dep, pos_arr)\n",
    "        sma.addAgent(a)\n",
    "    \n",
    "    #fonction qui genere les agents en fonction des valeurs choisis\n",
    "    def generate_agent(self):\n",
    "       \n",
    "        for _ in range(random.randrange(self.nb_car_x)):\n",
    "            self.XAgentGenerator()\n",
    "        for _ in range(random.randrange(self.nb_car_y)):\n",
    "            self.YAgentGenerator()\n",
    "        for _ in range(random.randrange(self.nb_rider)):\n",
    "            self.RiderAgentGenerator()\n",
    "    "
   ]
  },
  {
   "cell_type": "markdown",
   "metadata": {},
   "source": [
    "# Une première version\n",
    "Un passager est aveugle. Il monte dans le premier véhicule qui se présente dans sa direction (soit verticale soit horizontale) et il va jusqu'au maximum de sa possibilité (son X ou son Y de destination). Il se déplace dans une direction 1 fois, descend du véhicule, attend le prochain véhicule dans l'autre sens et arrive à sa destination.\n",
    "Précisions :\n",
    "- au maximum il attend 2 fois : au départ, et au changement\n",
    "- grâce au rythme du système on est capable de tracer des courbes de temps d'attente (en tick)\n",
    "\n"
   ]
  },
  {
   "cell_type": "code",
   "execution_count": 231,
   "metadata": {},
   "outputs": [],
   "source": [
    "gen = Generator(10, 10, 5, 5, 5)\n",
    "sma = SMA(gen)\n",
    "sma.run(1000)\n"
   ]
  },
  {
   "cell_type": "code",
   "execution_count": 234,
   "metadata": {},
   "outputs": [
    {
     "name": "stdout",
     "output_type": "stream",
     "text": [
      "Le temps d'attente moyen est de 13.820408163265306 ticks\n"
     ]
    }
   ],
   "source": [
    "import numpy as np\n",
    "print(\"Le temps d'attente moyen est de\",np.mean(sma.collector), \"ticks\")"
   ]
  },
  {
   "cell_type": "markdown",
   "metadata": {},
   "source": [
    "Experience : faire varier le nombre de véhicule"
   ]
  },
  {
   "cell_type": "code",
   "execution_count": 235,
   "metadata": {},
   "outputs": [
    {
     "data": {
      "text/plain": [
       "[<matplotlib.lines.Line2D at 0x7fd7cb5ffed0>]"
      ]
     },
     "execution_count": 235,
     "metadata": {},
     "output_type": "execute_result"
    },
    {
     "data": {
      "image/png": "[encoded data removed]",
      "text/plain": [
       "<Figure size 432x288 with 1 Axes>"
      ]
     },
     "metadata": {
      "needs_background": "light"
     },
     "output_type": "display_data"
    }
   ],
   "source": [
    "import matplotlib.pyplot as plt\n",
    "range_vehicules = np.arange(5,50,5)\n",
    "nb_passagers = 5\n",
    "\n",
    "big_collector = []\n",
    "\n",
    "for nb_vehicule in range_vehicules:\n",
    "    gen = Generator(10, 10, nb_vehicule, nb_vehicule, 5)\n",
    "    sma = SMA(gen)\n",
    "    sma.run(1000)\n",
    "    big_collector.append(np.mean(sma.collector))\n",
    "    \n",
    "plt.xlabel(\"Nombre de conducteur\")\n",
    "plt.ylabel(\"Nombre moyen de ticks d'attente\")\n",
    "plt.plot(range_vehicules,big_collector)"
   ]
  },
  {
   "cell_type": "markdown",
   "metadata": {},
   "source": [
    "# Une version plus poussée\n",
    "\n",
    "Le passager perçoit une partie de l'environnement : sa verticale et son horizontale. Quand un véhicule arrive dans sa case, il regarde le nombre de cases N que ce véhicule lui permet de faire (N=X ou N=Y), et si il y a dans sa perception un autre véhicule à T distance qui lui permettra d'avancer d'un nombre de cases U (dans l'autre direction), avec U-T > N alors il attend celui là (Corwin raisonne sur un \"potentiel\" : U-T c'est le potentiel de cases dans l'autre direction avec un taux de transfert 0).\n",
    "Une fois dans le véhicule, le passager fait ce raisonnement là à chaque case, et donc, décide de descendre ou pas, pour en attendre un autre.\n",
    "Précisions :\n",
    "- la formule de choix mise en place pourrait être inversée ! c'est une heuristique ! Il y a des heuristiques optimistes et des heuristiques pessimistes (ne serait-ce qu'en inversant l'inégalité).\n",
    "- Dans cette version le passager peut donc voyager en zig-zag, néanmoins il ne \"dépasse\" jamais son X et son Y.\n"
   ]
  },
  {
   "cell_type": "code",
   "execution_count": null,
   "metadata": {},
   "outputs": [],
   "source": []
  },
  {
   "cell_type": "markdown",
   "metadata": {},
   "source": [
    "# Bibliographie\n",
    "\n",
    "Philippe Mathieu, Yann Secq.\n",
    "Environment Updating and Agent Scheduling Policies in Agent-based Simulators. \n",
    "ICAART Conference, 2012, pp 170-175\n",
    "\n",
    "Philippe Mathieu, Sébastien Picault, Yann Secq.\n",
    "Design Patterns for Environments in Multi-agent Simulations. \n",
    "PRIMA Conference, 2015, pp 678-686\n",
    "\n",
    "Philippe Mathieu, Gildas Morvan, Sébastien Picault.\n",
    "Multi-level agent-based simulations: Four design patterns. \n",
    "Journal of Simulation Modelling Practice and Theory, Janv 2018\n"
   ]
  }
 ],
 "metadata": {
  "celltoolbar": "Slideshow",
  "kernelspec": {
   "display_name": "Python 3",
   "language": "python",
   "name": "python3"
  },
  "language_info": {
   "codemirror_mode": {
    "name": "ipython",
    "version": 3
   },
   "file_extension": ".py",
   "mimetype": "text/x-python",
   "name": "python",
   "nbconvert_exporter": "python",
   "pygments_lexer": "ipython3",
   "version": "3.7.4"
  }
 },
 "nbformat": 4,
 "nbformat_minor": 2
}
